{
 "cells": [
  {
   "cell_type": "code",
   "execution_count": null,
   "metadata": {},
   "outputs": [],
   "source": [
    "import pandas as pd\n",
    "import numpy as np\n",
    "import errorlda\n",
    "import random\n",
    "import matplotlib.pyplot as plt\n",
    "\n",
    "m0 = np.array([0,1])\n",
    "m1 = np.array([1,0])\n",
    "Sigma = np.array([[1,0.5],[0.5,1]])\n",
    "\n",
    "error_scaler = np.array([[0.9,0],[0,0.6]])\n",
    "\n",
    "n_samples = 10000\n",
    "\n",
    "#def get_random_matrix():\n",
    "#    L = np.zeros(shape=(2,2))\n",
    "#    L[1,0] = np.random.randn()\n",
    "#    L[0,0] = np.exp(np.random.randn())\n",
    "#    L[1,1] = np.exp(np.random.randn())\n",
    "#\n",
    "#    return np.matmul(L, L.T) * 0.1\n",
    "\n",
    "def get_random_diagonal_matrix():\n",
    "    return np.array([[np.random.uniform(0,2), 0], [0, np.random.uniform(0,2)]])\n",
    "\n",
    "X_errors = np.zeros(shape=(n_samples, 2, 2))\n",
    "X = np.zeros(shape=(n_samples, 4)) # First two cols are ACTUAL x,y. Next two are with measurement error.\n",
    "y = np.zeros(shape=n_samples)\n",
    "\n",
    "for i in range(0, n_samples):\n",
    "    # Split between two classes. Uneven distribution\n",
    "    y[i] = 1 if random.randint(1,10) <= 7 else 0\n",
    "    \n",
    "    # First, without measurement error\n",
    "    X[i,0:2] = m1 if y[i] == 1 else m0\n",
    "    X[i,0:2] += np.random.multivariate_normal(np.zeros(shape=2), Sigma)\n",
    "\n",
    "    # Now, with measurement error\n",
    "    X_errors[i] = get_random_diagonal_matrix() # Or a completely random matrix if you're not multiplying by a diagonal.\n",
    "    X[i,2:4] = X[i,0:2] + np.random.multivariate_normal(np.zeros(shape=2), np.matmul(X_errors[i], error_scaler))\n",
    "\n",
    "df_X = pd.DataFrame(X, columns=['x1', 'x2', 'x1_err', 'x2_err'])\n",
    "df_y = pd.Series(y)\n",
    "\n",
    "plt.scatter(df_X[df_y == 0]['x1_err'], df_X[df_y == 0]['x2_err'], label=0)\n",
    "plt.scatter(df_X[df_y == 1]['x1_err'], df_X[df_y == 1]['x2_err'], label=1)\n",
    "plt.legend()"
   ]
  },
  {
   "cell_type": "code",
   "execution_count": null,
   "metadata": {},
   "outputs": [],
   "source": [
    "from sklearn.model_selection import train_test_split\n",
    "\n",
    "# Note that (currently) ErrorLDA expects pretty much everything to be dataframes and series-es\n",
    "X_train, X_test, X_train_errors, X_test_errors, y_train, y_test = train_test_split(df_X, pd.Series(list(X_errors)), df_y, stratify=df_y)"
   ]
  },
  {
   "cell_type": "code",
   "execution_count": null,
   "metadata": {},
   "outputs": [],
   "source": [
    "from sklearn.linear_model import LogisticRegression\n",
    "from sklearn.metrics import accuracy_score, log_loss\n",
    "\n",
    "model = LogisticRegression(penalty=None)\n",
    "model.fit(X_train[['x1_err', 'x2_err']], y_train)\n",
    "\n",
    "lr_accuracy = accuracy_score(y_test, model.predict(X_test[['x1_err', 'x2_err']]))\n",
    "lr_log_loss = log_loss(y_test, model.predict_proba(X_test[['x1_err', 'x2_err']]))"
   ]
  },
  {
   "cell_type": "code",
   "execution_count": null,
   "metadata": {},
   "outputs": [],
   "source": [
    "from sklearn.discriminant_analysis import LinearDiscriminantAnalysis\n",
    "from sklearn.metrics import accuracy_score, log_loss\n",
    "\n",
    "# Need a solver that explicitly computes the covariance matrix\n",
    "model = LinearDiscriminantAnalysis(solver='eigen')\n",
    "model.fit(X_train[['x1_err', 'x2_err']], y_train)\n",
    "\n",
    "print(\"Estimated means:\")\n",
    "print(model.means_)\n",
    "\n",
    "print()\n",
    "\n",
    "print(\"Estimated covariance:\")\n",
    "print(model.covariance_)\n",
    "\n",
    "print()\n",
    "\n",
    "lda_accuracy = accuracy_score(y_test, model.predict(X_test[['x1_err', 'x2_err']]))\n",
    "lda_log_loss = log_loss(y_test, model.predict_proba(X_test[['x1_err', 'x2_err']]))"
   ]
  },
  {
   "cell_type": "code",
   "execution_count": null,
   "metadata": {},
   "outputs": [],
   "source": [
    "import errorlda\n",
    "import importlib\n",
    "\n",
    "importlib.reload(errorlda)\n",
    "\n",
    "model = errorlda.ErrorLDA()\n",
    "model.fit(X_train[['x1_err', 'x2_err']], y_train, X_train_errors=X_train_errors, error_scaling=True)\n",
    "\n",
    "print()\n",
    "\n",
    "print(\"Estimated means:\")\n",
    "for c in model.outcomes:\n",
    "    print(model.means[c])\n",
    "\n",
    "y_prob = model.predict_proba(X_test[['x1_err', 'x2_err']], X_error=X_test_errors)\n",
    "y_pred = (y_prob[1.0] >= 0.5).astype(float)\n",
    "\n",
    "errorlda_accuracy = accuracy_score(y_test, y_pred)\n",
    "errorlda_log_loss = log_loss(y_test, y_prob)"
   ]
  },
  {
   "cell_type": "code",
   "execution_count": null,
   "metadata": {},
   "outputs": [],
   "source": [
    "# array([0.88411331, 0.16207463])\n",
    "model.error_scaler = np.array([[0.9, 0.0], [0.0, 0.6]])\n",
    "\n",
    "y_prob = model.predict_proba(X_test[['x1_err', 'x2_err']], X_error=X_test_errors)\n",
    "y_pred = (y_prob[1.0] >= 0.5).astype(float)\n",
    "\n",
    "accuracy_score(y_test, y_pred), log_loss(y_test, y_prob)"
   ]
  },
  {
   "cell_type": "code",
   "execution_count": null,
   "metadata": {},
   "outputs": [],
   "source": [
    "results_df = pd.DataFrame([[lr_accuracy, lda_accuracy, errorlda_accuracy],\n",
    "                           [lr_log_loss, lda_log_loss, errorlda_log_loss]],\n",
    "                           columns=['LR', 'LDA', 'ErrorLDA'],\n",
    "                           index=['accuracy', 'log_loss'])\n",
    "\n",
    "results_df"
   ]
  },
  {
   "cell_type": "code",
   "execution_count": null,
   "metadata": {},
   "outputs": [],
   "source": []
  }
 ],
 "metadata": {
  "kernelspec": {
   "display_name": "erdos_fall_2024",
   "language": "python",
   "name": "python3"
  },
  "language_info": {
   "codemirror_mode": {
    "name": "ipython",
    "version": 3
   },
   "file_extension": ".py",
   "mimetype": "text/x-python",
   "name": "python",
   "nbconvert_exporter": "python",
   "pygments_lexer": "ipython3",
   "version": "3.12.7"
  }
 },
 "nbformat": 4,
 "nbformat_minor": 2
}
