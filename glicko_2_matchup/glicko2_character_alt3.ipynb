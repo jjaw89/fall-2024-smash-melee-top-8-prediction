{
 "cells": [
  {
   "cell_type": "code",
   "execution_count": null,
   "metadata": {},
   "outputs": [],
   "source": [
    "import pandas as pd\n",
    "import numpy as np\n",
    "import matplotlib.pyplot as plt\n",
    "import json\n",
    "from collections import defaultdict\n",
    "from joblib import Parallel, delayed\n",
    "\n",
    "import sqlite3\n",
    "import sys\n",
    "import time\n",
    "import math\n",
    "#import tqdm\n",
    "from tqdm.auto import tqdm\n",
    "import datetime\n",
    "import os\n",
    "import pickle\n",
    "from pathlib import Path\n",
    "\n",
    "from glicko2 import Player\n",
    "import multiprocessing\n",
    "\n",
    "tqdm.pandas()\n",
    "\n",
    "if os.path.exists('/workspace/data'):\n",
    "    # Load the dictionary of DataFrames from the pickle\n",
    "    data_path = '/workspace/data/'\n",
    "else:\n",
    "    data_path = '../data/'"
   ]
  },
  {
   "cell_type": "markdown",
   "metadata": {},
   "source": [
    "## Loading SQLite Database into Pandas DataFrames\n",
    "\n",
    "The following code connects to an SQLite database (`melee_player_database.db`) and converts each table within the database into a pandas DataFrame. The DataFrames will be stored in a dictionary, where each key corresponds to the table name with `_df` appended, and the values are the respective DataFrames.\n",
    "\n",
    "### Steps:\n",
    "\n",
    "1. **Database Connection**: We use the `sqlite3` library to connect to the SQLite database file.\n",
    "2. **Retrieve Table Names**: A query retrieves all the table names in the database.\n",
    "3. **Convert Tables to DataFrames**: For each table:\n",
    "   - The table is loaded into a pandas DataFrame using `pd.read_sql()`.\n",
    "   - We check each column to see if any data is JSON-formatted (lists or dictionaries). If so, we convert these columns from strings into their corresponding Python objects using `json.loads()`.\n",
    "4. **Store DataFrames**: The DataFrames are stored in a dictionary, where the key is the table name with a `_df` suffix, and the value is the DataFrame.\n",
    "5. **Database Connection Closed**: Once all tables are loaded into DataFrames, the database connection is closed.\n",
    "\n",
    "### Example:\n",
    "If the database contains a table named `players`, the corresponding DataFrame will be stored in the dictionary with the key `players_df`, and can be accessed as:\n",
    "\n",
    "```python\n",
    "players_df = dfs['players_df']\n"
   ]
  },
  {
   "cell_type": "code",
   "execution_count": null,
   "metadata": {},
   "outputs": [],
   "source": [
    "# Function to get the table names\n",
    "def get_table_names(conn):\n",
    "    query = \"SELECT name FROM sqlite_master WHERE type='table';\"\n",
    "    return pd.read_sql(query, conn)['name'].tolist()\n",
    "\n",
    "# Function to load tables into DataFrames\n",
    "def load_tables_to_dfs(conn):\n",
    "    table_names = get_table_names(conn)\n",
    "    dataframes = {}\n",
    "    \n",
    "    for table in table_names:\n",
    "        # Load table into a DataFrame\n",
    "        df = pd.read_sql(f\"SELECT * FROM {table}\", conn)\n",
    "        \n",
    "        # Detect and convert JSON formatted columns (if any)\n",
    "        for col in df.columns:\n",
    "            # Check if any entry in the column is a valid JSON (list or dictionary)\n",
    "            if df[col].apply(lambda x: isinstance(x, str)).all():\n",
    "                try:\n",
    "                    # Try parsing the column as JSON\n",
    "                    df[col] = df[col].apply(lambda x: json.loads(x) if pd.notnull(x) else x)\n",
    "                except (json.JSONDecodeError, TypeError):\n",
    "                    # If it fails, skip the column\n",
    "                    pass\n",
    "        \n",
    "        # Store the DataFrame with table name + '_df'\n",
    "        dataframes[f\"{table}_df\"] = df\n",
    "        \n",
    "    return dataframes\n",
    "\n",
    "if os.path.exists(data_path + 'dfs_dict.pkl'):\n",
    "    cell_has_run = True\n",
    "    # Load the dictionary of DataFrames from the pickle\n",
    "    with open(data_path + 'dfs_dict.pkl', 'rb') as f:\n",
    "        dfs = pickle.load(f)\n",
    "# Check if the flag variable exists in the global scope so that this code does not run twice\n",
    "if 'cell_has_run' not in globals():\n",
    "    path = data_path + \"melee_player_database.db\"\n",
    "    \n",
    "    # Connect to the database\n",
    "    conn = sqlite3.connect(path)\n",
    "\n",
    "    # Convert each table into a DataFrame\n",
    "    dfs = load_tables_to_dfs(conn)\n",
    "\n",
    "    # Close the connection\n",
    "    conn.close()\n",
    "\n",
    "    # Now, you have a dictionary 'dfs' where each key is the table name with '_df' suffix and value is the corresponding DataFrame.\n",
    "    # For example, to access the DataFrame for a table called 'players':\n",
    "    # players_df = dfs['players_df']\n",
    "\n",
    "    dfs['tournament_info_df']['start'] = pd.to_datetime(dfs['tournament_info_df']['start'], unit='s')\n",
    "    dfs['tournament_info_df']['end'] = pd.to_datetime(dfs['tournament_info_df']['end'], unit='s')\n",
    "\n",
    "    \n",
    "    # Set the flag to indicate that the cell has been run\n",
    "    cell_has_run = True"
   ]
  },
  {
   "cell_type": "markdown",
   "metadata": {},
   "source": [
    "### Here we adjust the data types of the dataframes so that they are the correct type. (This will be updated as needed.)"
   ]
  },
  {
   "cell_type": "code",
   "execution_count": null,
   "metadata": {},
   "outputs": [],
   "source": [
    "dfs['sets_df']['best_of'] = dfs['sets_df']['best_of'].fillna(0).astype(int) "
   ]
  },
  {
   "cell_type": "markdown",
   "metadata": {},
   "source": [
    "### Here we make dataframes that we will use and print the head.\n",
    "\n",
    "The integers in 'characters' count the number of games the player has played that character. (We verify this for Zain below.)"
   ]
  },
  {
   "cell_type": "code",
   "execution_count": null,
   "metadata": {},
   "outputs": [],
   "source": [
    "players_df = dfs['players_df']\n",
    "players_df.head()"
   ]
  },
  {
   "cell_type": "code",
   "execution_count": null,
   "metadata": {},
   "outputs": [],
   "source": [
    "ranking_df = dfs['ranking_df']\n",
    "ranking_df.head()"
   ]
  },
  {
   "cell_type": "code",
   "execution_count": null,
   "metadata": {},
   "outputs": [],
   "source": [
    "ranking_seasons_df = dfs['ranking_seasons_df']\n",
    "ranking_seasons_df.head()"
   ]
  },
  {
   "cell_type": "code",
   "execution_count": null,
   "metadata": {},
   "outputs": [],
   "source": [
    "sets_df = dfs['sets_df']\n",
    "print(f\"{sets_df[sets_df['game_data'].apply(lambda x: len(x) > 0)].shape[0] / sets_df.shape[0]:0.01%} percent of sets have some game data)\")\n",
    "\n",
    "sets_df.head()"
   ]
  },
  {
   "cell_type": "code",
   "execution_count": null,
   "metadata": {},
   "outputs": [],
   "source": [
    "tournament_info_df = dfs['tournament_info_df']\n",
    "tournament_info_df.head()"
   ]
  },
  {
   "cell_type": "code",
   "execution_count": null,
   "metadata": {},
   "outputs": [],
   "source": [
    "# Code optimization by Dan\n",
    "# Basically we want to replace this line in process_tournament with something more efficient:\n",
    "#\n",
    "#      tournament_sets_df = sets_df[sets_df['tournament_key'] == tournament_key]\n",
    "#\n",
    "# Instead, we can\n",
    "# - Merge the tournament date info into ``sets_df``\n",
    "# - Sort by date\n",
    "# - Store the start/end positions of each tournament in a separate dictionary\n",
    "# - Use tournament_sets_df = sets_df.iloc[start:end+1] instead.\n",
    "\n",
    "sets_df = sets_df.merge(tournament_info_df[['key', 'start', 'end']], left_on='tournament_key', right_on='key', how='left')\n",
    "sets_df = sets_df.drop(labels=['key_y'], axis='columns')\n",
    "sets_df = sets_df.rename(columns={\"key_x\": \"key\"})\n",
    "sets_df = sets_df.sort_values(by=['end', 'tournament_key']) # Just in case there are tournaments with the exact same end date"
   ]
  },
  {
   "cell_type": "code",
   "execution_count": null,
   "metadata": {},
   "outputs": [],
   "source": [
    "# A bit of data cleanup\n",
    "# TODO: Rerun!\n",
    "min_date = datetime.datetime(2015, 1, 1)\n",
    "max_date = datetime.datetime(2024, 12, 31)\n",
    "\n",
    "sets_df = sets_df[(sets_df['start'] >= min_date) & (sets_df['end'] >= min_date) & (sets_df['start'] <= max_date) & (sets_df['end'] <= max_date)]"
   ]
  },
  {
   "cell_type": "code",
   "execution_count": null,
   "metadata": {},
   "outputs": [],
   "source": [
    "# Example of game data. List of dictionaries.\n",
    "sets_df[sets_df['game_data'].apply(lambda x: x != [])].iloc[0]['game_data']"
   ]
  },
  {
   "cell_type": "markdown",
   "metadata": {},
   "source": [
    "## Another variation\n",
    "\n",
    "This instead adds the character used to the player id (ex: 1021/yoshi) and treats them as separate entities. It then just computes the elo for each of them."
   ]
  },
  {
   "cell_type": "code",
   "execution_count": null,
   "metadata": {},
   "outputs": [],
   "source": [
    "# Assumes dataset_generation/game_data_extractor.ipynb was run\n",
    "game_data_df = pd.read_pickle(data_path + 'individual_game_data.pkl')\n",
    "game_data_df"
   ]
  },
  {
   "cell_type": "code",
   "execution_count": null,
   "metadata": {},
   "outputs": [],
   "source": [
    "game_data_df['p1_id'] = game_data_df['p1_id'] + '/' + game_data_df['p1_char']\n",
    "game_data_df['p2_id'] = game_data_df['p2_id'] + '/' + game_data_df['p2_char']\n",
    "\n",
    "game_data_df['winner_id'] = game_data_df['winner_id'] + '/' + game_data_df['winner_char']\n",
    "game_data_df['loser_id'] = game_data_df['loser_id'] + '/' + game_data_df['loser_char']\n",
    "\n",
    "game_data_df.drop(['p1_char', 'p2_char', 'winner_char', 'loser_char'], axis=1, inplace=True)\n",
    "game_data_df"
   ]
  },
  {
   "cell_type": "code",
   "execution_count": null,
   "metadata": {},
   "outputs": [],
   "source": [
    "# Just to make sure, but it should already be sorted\n",
    "game_data_df = game_data_df.sort_values(by='end')\n",
    "game_data_df"
   ]
  },
  {
   "cell_type": "markdown",
   "metadata": {},
   "source": [
    "## Compute the rankings"
   ]
  },
  {
   "cell_type": "code",
   "execution_count": null,
   "metadata": {},
   "outputs": [],
   "source": [
    "# TLDR the ELO computation occasionally seems to go negative, and I think this can cause a lot of problems.\n",
    "# Likewise, the RD value seems to get unusually large occasionally\n",
    "MIN_ELO = 500.0\n",
    "MAX_RD = 350.0\n",
    "\n",
    "def process_tournament(player_ratings_df, player_rds_df, sets_df, positions, tournament_key, key_is_date, glicko_objects):\n",
    "    # Get the games for this specific period, using precomputed indices for speed.\n",
    "    period_df = sets_df.iloc[positions[tournament_key][0]:positions[tournament_key][1]+1]\n",
    "    unique_players = list(player_ratings_df.columns)\n",
    "\n",
    "    # Prepare player matches DataFrame.\n",
    "    # Essentially, one copy where p1 is the player of consideration,\n",
    "    # and then another copy where p2 is under consideration.\n",
    "    df_p1 = period_df[['p1_id', 'p2_id', 'winner_id']].copy()\n",
    "    df_p1.rename(columns={'p1_id': 'player_id', 'p2_id': 'opponent_id'}, inplace=True)\n",
    "    df_p1['outcome'] = (df_p1['winner_id'] == df_p1['player_id']).astype(int)\n",
    "    df_p1 = df_p1[['player_id', 'opponent_id', 'outcome']]\n",
    "    \n",
    "    df_p2 = period_df[['p2_id', 'p1_id', 'winner_id']].copy()\n",
    "    df_p2.rename(columns={'p2_id': 'player_id', 'p1_id': 'opponent_id'}, inplace=True)\n",
    "    df_p2['outcome'] = (df_p2['winner_id'] == df_p2['player_id']).astype(int)\n",
    "    df_p2 = df_p2[['player_id', 'opponent_id', 'outcome']]\n",
    "\n",
    "    outcomes_df = pd.concat([df_p1, df_p2], ignore_index=True)\n",
    "\n",
    "    # Add opponent ELO and RD values\n",
    "    outcomes_df['opponent_rating'] = outcomes_df['opponent_id'].apply(lambda x: glicko_objects[x].getRating())\n",
    "    outcomes_df['opponent_rd'] = outcomes_df['opponent_id'].apply(lambda x: glicko_objects[x].getRd())\n",
    "\n",
    "    # Compile the opponent data into lists (one for ratings, one for rds, one for outcomes) for every player\n",
    "    grouped = outcomes_df.groupby('player_id').agg({\n",
    "        'opponent_rating': list,\n",
    "        'opponent_rd': list,\n",
    "        'outcome': list\n",
    "    }).reset_index()\n",
    "\n",
    "    # We will need to update the glicko objects separately for players that did or didn't play in this rating period\n",
    "    players_with_games = list(grouped['player_id'])\n",
    "    players_without_games = [x for x in unique_players if x not in players_with_games]\n",
    "\n",
    "    #First, let's handle the players that did play games in this period\n",
    "    def update_glicko(row):\n",
    "        glicko_objects[row['player_id']].update_player(row['opponent_rating'], row['opponent_rd'], row['outcome'])\n",
    "\n",
    "    grouped.apply(update_glicko, axis=1)\n",
    "\n",
    "    # Now let's handle players that did NOT play games in this period\n",
    "    for player in players_without_games:\n",
    "        glicko_objects[player].did_not_compete()\n",
    "\n",
    "    # This might be a bug in the glicko2 library that we are using,\n",
    "    # but occasionally we get weird values for the rating and/or RD\n",
    "    # and this DOES very occasionally seem to cause the whole thing to crash\n",
    "    # (division by zero somewhere)\n",
    "    # and so we use professional-grade duct tape here\n",
    "    for player in unique_players:\n",
    "        if glicko_objects[player].getRating() < MIN_ELO:\n",
    "            glicko_objects[player].setRating(MIN_ELO)\n",
    "\n",
    "        if glicko_objects[player].getRd() > MAX_RD:\n",
    "            glicko_objects[player].setRd(MAX_RD)\n",
    "\n",
    "    # Now update that specific row of the player ratings dataframe with the new glicko data\n",
    "    date = tournament_key if key_is_date else sets_df.iloc[positions[tournament_key][0]]['end']\n",
    "\n",
    "    #new_player_data = {}\n",
    "    #for player in unique_players:\n",
    "    #    new_player_data[player] = glicko_objects[player].getRating()\n",
    "\n",
    "    # These should be in the same order as the columns, as unique_players was used to create the columns as well.\n",
    "    # This is slightly more efficient than using a dictionary.\n",
    "    new_player_ratings = [glicko_objects[player].getRating() for player in unique_players]\n",
    "    new_player_rds     = [glicko_objects[player].getRd()     for player in unique_players]\n",
    "\n",
    "    player_ratings_df.loc[date] = new_player_ratings\n",
    "    player_rds_df.loc[date]     = new_player_rds"
   ]
  },
  {
   "cell_type": "code",
   "execution_count": null,
   "metadata": {},
   "outputs": [],
   "source": [
    "date_sets_positions = {}\n",
    "\n",
    "initial_date = datetime.datetime(2015, 1, 1)\n",
    "interval = datetime.timedelta(weeks=1)\n",
    "\n",
    "end_date = game_data_df['end'].max()\n",
    "\n",
    "date = initial_date\n",
    "\n",
    "# Loop through and test for containment in the interval [date, date+interval)\n",
    "while date + interval <= end_date:\n",
    "    is_in_interval = (game_data_df['end'] >= date) & (game_data_df['end'] < date + interval)\n",
    "    is_in_interval = is_in_interval.reset_index(drop=True) # Make absolutely sure it can be used for iloc\n",
    "\n",
    "    if (~is_in_interval).all(): # all False\n",
    "        date_sets_positions[date + interval] = (0,-1)\n",
    "    else: # At least one True\n",
    "        date_sets_positions[date + interval] = (is_in_interval.idxmax(), is_in_interval[::-1].idxmax())\n",
    "\n",
    "    date += interval\n",
    "\n",
    "date_sets_positions"
   ]
  },
  {
   "cell_type": "code",
   "execution_count": null,
   "metadata": {},
   "outputs": [],
   "source": [
    "unique_players = list(set(list(game_data_df['p1_id'].unique()) + list(game_data_df['p2_id'].unique())))\n",
    "\n",
    "# Note that this technically starts at initial_date + interval, not initial_date\n",
    "dates = [x for x in date_sets_positions]\n",
    "\n",
    "# Convenient store of glicko objects\n",
    "glicko_objects = {}\n",
    "for player in unique_players:\n",
    "    glicko_objects[player] = Player()\n",
    "\n",
    "# Initial row of default ELO values, at the earliest possible date.\n",
    "# Note that we are also pre-allocating the dataframe with the rest of the possible dates.\n",
    "player_ratings_df = pd.DataFrame([[1500.0] * len(unique_players)], columns=unique_players, index=[initial_date] + dates)\n",
    "player_rds_df = pd.DataFrame([[350.0] * len(unique_players)], columns=unique_players, index=[initial_date] + dates)\n",
    "\n",
    "# Loop over the individual date intervals above.\n",
    "for specific_date in tqdm(dates, total=len(dates)):\n",
    "    process_tournament(player_ratings_df, player_rds_df, game_data_df, date_sets_positions, specific_date, True, glicko_objects)"
   ]
  },
  {
   "cell_type": "code",
   "execution_count": null,
   "metadata": {},
   "outputs": [],
   "source": [
    "player_ratings_df"
   ]
  },
  {
   "cell_type": "markdown",
   "metadata": {},
   "source": [
    "## Save data"
   ]
  },
  {
   "cell_type": "code",
   "execution_count": null,
   "metadata": {},
   "outputs": [],
   "source": [
    "player_ratings_df.to_pickle(data_path + 'player_char_overall_rankings_weekly.pkl')\n",
    "player_rds_df.to_pickle(data_path + 'player_char_overall_rds_weekly.pkl')"
   ]
  },
  {
   "cell_type": "code",
   "execution_count": null,
   "metadata": {},
   "outputs": [],
   "source": []
  }
 ],
 "metadata": {
  "kernelspec": {
   "display_name": "erdos_fall_2024",
   "language": "python",
   "name": "python3"
  },
  "language_info": {
   "codemirror_mode": {
    "name": "ipython",
    "version": 3
   },
   "file_extension": ".py",
   "mimetype": "text/x-python",
   "name": "python",
   "nbconvert_exporter": "python",
   "pygments_lexer": "ipython3",
   "version": "3.12.7"
  }
 },
 "nbformat": 4,
 "nbformat_minor": 2
}
