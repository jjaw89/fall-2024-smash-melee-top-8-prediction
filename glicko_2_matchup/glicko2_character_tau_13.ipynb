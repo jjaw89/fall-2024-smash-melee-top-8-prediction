{
 "cells": [
  {
   "cell_type": "code",
   "execution_count": 1,
   "metadata": {},
   "outputs": [],
   "source": [
    "import pandas as pd\n",
    "import numpy as np\n",
    "import matplotlib.pyplot as plt\n",
    "import json\n",
    "from collections import defaultdict\n",
    "\n",
    "import sqlite3\n",
    "import sys\n",
    "import time\n",
    "import math\n",
    "import tqdm\n",
    "\n",
    "from glicko2 import Player"
   ]
  },
  {
   "cell_type": "markdown",
   "metadata": {},
   "source": [
    "## Loading SQLite Database into Pandas DataFrames\n",
    "\n",
    "The following code connects to an SQLite database (`melee_player_database.db`) and converts each table within the database into a pandas DataFrame. The DataFrames will be stored in a dictionary, where each key corresponds to the table name with `_df` appended, and the values are the respective DataFrames.\n",
    "\n",
    "### Steps:\n",
    "\n",
    "1. **Database Connection**: We use the `sqlite3` library to connect to the SQLite database file.\n",
    "2. **Retrieve Table Names**: A query retrieves all the table names in the database.\n",
    "3. **Convert Tables to DataFrames**: For each table:\n",
    "   - The table is loaded into a pandas DataFrame using `pd.read_sql()`.\n",
    "   - We check each column to see if any data is JSON-formatted (lists or dictionaries). If so, we convert these columns from strings into their corresponding Python objects using `json.loads()`.\n",
    "4. **Store DataFrames**: The DataFrames are stored in a dictionary, where the key is the table name with a `_df` suffix, and the value is the DataFrame.\n",
    "5. **Database Connection Closed**: Once all tables are loaded into DataFrames, the database connection is closed.\n",
    "\n",
    "### Example:\n",
    "If the database contains a table named `players`, the corresponding DataFrame will be stored in the dictionary with the key `players_df`, and can be accessed as:\n",
    "\n",
    "```python\n",
    "players_df = dfs['players_df']\n"
   ]
  },
  {
   "cell_type": "code",
   "execution_count": 2,
   "metadata": {},
   "outputs": [],
   "source": [
    "# Function to get the table names\n",
    "def get_table_names(conn):\n",
    "    query = \"SELECT name FROM sqlite_master WHERE type='table';\"\n",
    "    return pd.read_sql(query, conn)['name'].tolist()\n",
    "\n",
    "# Function to load tables into DataFrames\n",
    "def load_tables_to_dfs(conn):\n",
    "    table_names = get_table_names(conn)\n",
    "    dataframes = {}\n",
    "    \n",
    "    for table in table_names:\n",
    "        # Load table into a DataFrame\n",
    "        df = pd.read_sql(f\"SELECT * FROM {table}\", conn)\n",
    "        \n",
    "        # Detect and convert JSON formatted columns (if any)\n",
    "        for col in df.columns:\n",
    "            # Check if any entry in the column is a valid JSON (list or dictionary)\n",
    "            if df[col].apply(lambda x: isinstance(x, str)).all():\n",
    "                try:\n",
    "                    # Try parsing the column as JSON\n",
    "                    df[col] = df[col].apply(lambda x: json.loads(x) if pd.notnull(x) else x)\n",
    "                except (json.JSONDecodeError, TypeError):\n",
    "                    # If it fails, skip the column\n",
    "                    pass\n",
    "        \n",
    "        # Store the DataFrame with table name + '_df'\n",
    "        dataframes[f\"{table}_df\"] = df\n",
    "        \n",
    "    return dataframes\n",
    "\n",
    "# Check if the flag variable exists in the global scope so that this code does not run twice\n",
    "if 'cell_has_run' not in globals():\n",
    "    path = \"../data/melee_player_database.db\"\n",
    "    \n",
    "    # Connect to the database\n",
    "    conn = sqlite3.connect(path)\n",
    "\n",
    "    # Convert each table into a DataFrame\n",
    "    dfs = load_tables_to_dfs(conn)\n",
    "\n",
    "    # Close the connection\n",
    "    conn.close()\n",
    "\n",
    "    # Now, you have a dictionary 'dfs' where each key is the table name with '_df' suffix and value is the corresponding DataFrame.\n",
    "    # For example, to access the DataFrame for a table called 'players':\n",
    "    # players_df = dfs['players_df']\n",
    "\n",
    "    dfs['tournament_info_df']['start'] = pd.to_datetime(dfs['tournament_info_df']['start'], unit='s')\n",
    "    dfs['tournament_info_df']['end'] = pd.to_datetime(dfs['tournament_info_df']['end'], unit='s')\n",
    "\n",
    "    \n",
    "    # Set the flag to indicate that the cell has been run\n",
    "    cell_has_run = True"
   ]
  },
  {
   "cell_type": "markdown",
   "metadata": {},
   "source": [
    "### Here we adjust the data types of the dataframes so that they are the correct type. (This will be updated as needed.)"
   ]
  },
  {
   "cell_type": "code",
   "execution_count": 3,
   "metadata": {},
   "outputs": [],
   "source": [
    "dfs['sets_df']['best_of'] = dfs['sets_df']['best_of'].fillna(0).astype(int) "
   ]
  },
  {
   "cell_type": "markdown",
   "metadata": {},
   "source": [
    "### Here we make dataframes that we will use and print the head.\n",
    "\n",
    "The integers in 'characters' count the number of games the player has played that character. (We verify this for Zain below.)"
   ]
  },
  {
   "cell_type": "code",
   "execution_count": 4,
   "metadata": {},
   "outputs": [
    {
     "data": {
      "text/html": [
       "<div>\n",
       "<style scoped>\n",
       "    .dataframe tbody tr th:only-of-type {\n",
       "        vertical-align: middle;\n",
       "    }\n",
       "\n",
       "    .dataframe tbody tr th {\n",
       "        vertical-align: top;\n",
       "    }\n",
       "\n",
       "    .dataframe thead th {\n",
       "        text-align: right;\n",
       "    }\n",
       "</style>\n",
       "<table border=\"1\" class=\"dataframe\">\n",
       "  <thead>\n",
       "    <tr style=\"text-align: right;\">\n",
       "      <th></th>\n",
       "      <th>game</th>\n",
       "      <th>player_id</th>\n",
       "      <th>tag</th>\n",
       "      <th>all_tags</th>\n",
       "      <th>prefixes</th>\n",
       "      <th>social</th>\n",
       "      <th>country</th>\n",
       "      <th>state</th>\n",
       "      <th>region</th>\n",
       "      <th>c_country</th>\n",
       "      <th>c_state</th>\n",
       "      <th>c_region</th>\n",
       "      <th>placings</th>\n",
       "      <th>characters</th>\n",
       "      <th>alias</th>\n",
       "    </tr>\n",
       "  </thead>\n",
       "  <tbody>\n",
       "    <tr>\n",
       "      <th>0</th>\n",
       "      <td>melee</td>\n",
       "      <td>Rishi</td>\n",
       "      <td>Rishi</td>\n",
       "      <td>[Rishi]</td>\n",
       "      <td>[]</td>\n",
       "      <td>{'twitter': []}</td>\n",
       "      <td></td>\n",
       "      <td></td>\n",
       "      <td></td>\n",
       "      <td>None</td>\n",
       "      <td>None</td>\n",
       "      <td>None</td>\n",
       "      <td>[{'key': 'mdva-invitational-2017-(challonge-mi...</td>\n",
       "      <td></td>\n",
       "      <td>None</td>\n",
       "    </tr>\n",
       "    <tr>\n",
       "      <th>1</th>\n",
       "      <td>melee</td>\n",
       "      <td>15634</td>\n",
       "      <td>lloD</td>\n",
       "      <td>[lloD, VGz | lloD, Llod]</td>\n",
       "      <td>[]</td>\n",
       "      <td>{'twitter': ['lloD74']}</td>\n",
       "      <td>United States</td>\n",
       "      <td>VA</td>\n",
       "      <td></td>\n",
       "      <td>US</td>\n",
       "      <td>CA</td>\n",
       "      <td>Laurel</td>\n",
       "      <td>[{'key': 'mdva-invitational-2017-(challonge-mi...</td>\n",
       "      <td>{'melee/peach': 1089, 'melee/falco': 1, 'melee...</td>\n",
       "      <td>None</td>\n",
       "    </tr>\n",
       "    <tr>\n",
       "      <th>2</th>\n",
       "      <td>melee</td>\n",
       "      <td>6126</td>\n",
       "      <td>Zain</td>\n",
       "      <td>[Zain, DontTestMe]</td>\n",
       "      <td>[PG]</td>\n",
       "      <td>{'twitter': ['PG_Zain']}</td>\n",
       "      <td>United States</td>\n",
       "      <td>VA</td>\n",
       "      <td></td>\n",
       "      <td>US</td>\n",
       "      <td>CA</td>\n",
       "      <td>Los Angeles</td>\n",
       "      <td>[{'key': 'mdva-invitational-2017-(challonge-mi...</td>\n",
       "      <td>{'melee/marth': 1065, 'melee/pichu': 1, 'melee...</td>\n",
       "      <td>DontTestMe</td>\n",
       "    </tr>\n",
       "    <tr>\n",
       "      <th>3</th>\n",
       "      <td>melee</td>\n",
       "      <td>Chu</td>\n",
       "      <td>Chu</td>\n",
       "      <td>[Chu]</td>\n",
       "      <td>[]</td>\n",
       "      <td>{'twitter': []}</td>\n",
       "      <td></td>\n",
       "      <td></td>\n",
       "      <td></td>\n",
       "      <td>None</td>\n",
       "      <td>None</td>\n",
       "      <td>None</td>\n",
       "      <td>[{'key': 'mdva-invitational-2017-(challonge-mi...</td>\n",
       "      <td></td>\n",
       "      <td>None</td>\n",
       "    </tr>\n",
       "    <tr>\n",
       "      <th>4</th>\n",
       "      <td>melee</td>\n",
       "      <td>5620</td>\n",
       "      <td>Junebug</td>\n",
       "      <td>[Junebug, LS | VGz Junebug]</td>\n",
       "      <td>[]</td>\n",
       "      <td>{'twitter': ['arJunebug']}</td>\n",
       "      <td>United States</td>\n",
       "      <td>VA</td>\n",
       "      <td></td>\n",
       "      <td>US</td>\n",
       "      <td>VA</td>\n",
       "      <td>Richmond</td>\n",
       "      <td>[{'key': 'mdva-invitational-2017-(challonge-mi...</td>\n",
       "      <td>{'melee/sheik': 46, 'melee/falco': 4, 'melee/g...</td>\n",
       "      <td>None</td>\n",
       "    </tr>\n",
       "  </tbody>\n",
       "</table>\n",
       "</div>"
      ],
      "text/plain": [
       "    game player_id      tag                     all_tags prefixes  \\\n",
       "0  melee     Rishi    Rishi                      [Rishi]       []   \n",
       "1  melee     15634     lloD     [lloD, VGz | lloD, Llod]       []   \n",
       "2  melee      6126     Zain           [Zain, DontTestMe]     [PG]   \n",
       "3  melee       Chu      Chu                        [Chu]       []   \n",
       "4  melee      5620  Junebug  [Junebug, LS | VGz Junebug]       []   \n",
       "\n",
       "                       social        country state region c_country c_state  \\\n",
       "0             {'twitter': []}                                  None    None   \n",
       "1     {'twitter': ['lloD74']}  United States    VA               US      CA   \n",
       "2    {'twitter': ['PG_Zain']}  United States    VA               US      CA   \n",
       "3             {'twitter': []}                                  None    None   \n",
       "4  {'twitter': ['arJunebug']}  United States    VA               US      VA   \n",
       "\n",
       "      c_region                                           placings  \\\n",
       "0         None  [{'key': 'mdva-invitational-2017-(challonge-mi...   \n",
       "1       Laurel  [{'key': 'mdva-invitational-2017-(challonge-mi...   \n",
       "2  Los Angeles  [{'key': 'mdva-invitational-2017-(challonge-mi...   \n",
       "3         None  [{'key': 'mdva-invitational-2017-(challonge-mi...   \n",
       "4     Richmond  [{'key': 'mdva-invitational-2017-(challonge-mi...   \n",
       "\n",
       "                                          characters       alias  \n",
       "0                                                           None  \n",
       "1  {'melee/peach': 1089, 'melee/falco': 1, 'melee...        None  \n",
       "2  {'melee/marth': 1065, 'melee/pichu': 1, 'melee...  DontTestMe  \n",
       "3                                                           None  \n",
       "4  {'melee/sheik': 46, 'melee/falco': 4, 'melee/g...        None  "
      ]
     },
     "execution_count": 4,
     "metadata": {},
     "output_type": "execute_result"
    }
   ],
   "source": [
    "players_df = dfs['players_df']\n",
    "players_df.head()"
   ]
  },
  {
   "cell_type": "code",
   "execution_count": 5,
   "metadata": {},
   "outputs": [
    {
     "data": {
      "text/html": [
       "<div>\n",
       "<style scoped>\n",
       "    .dataframe tbody tr th:only-of-type {\n",
       "        vertical-align: middle;\n",
       "    }\n",
       "\n",
       "    .dataframe tbody tr th {\n",
       "        vertical-align: top;\n",
       "    }\n",
       "\n",
       "    .dataframe thead th {\n",
       "        text-align: right;\n",
       "    }\n",
       "</style>\n",
       "<table border=\"1\" class=\"dataframe\">\n",
       "  <thead>\n",
       "    <tr style=\"text-align: right;\">\n",
       "      <th></th>\n",
       "      <th>game</th>\n",
       "      <th>ranking_name</th>\n",
       "      <th>priority</th>\n",
       "      <th>region</th>\n",
       "      <th>seasons</th>\n",
       "      <th>tournaments</th>\n",
       "      <th>icon</th>\n",
       "    </tr>\n",
       "  </thead>\n",
       "  <tbody>\n",
       "    <tr>\n",
       "      <th>0</th>\n",
       "      <td>melee</td>\n",
       "      <td>SSBMRank</td>\n",
       "      <td>0</td>\n",
       "      <td>world</td>\n",
       "      <td>[2015, 2016, 2017, 2018, 2019]</td>\n",
       "      <td>[]</td>\n",
       "      <td>miom</td>\n",
       "    </tr>\n",
       "  </tbody>\n",
       "</table>\n",
       "</div>"
      ],
      "text/plain": [
       "    game ranking_name  priority region                         seasons  \\\n",
       "0  melee     SSBMRank         0  world  [2015, 2016, 2017, 2018, 2019]   \n",
       "\n",
       "  tournaments  icon  \n",
       "0          []  miom  "
      ]
     },
     "execution_count": 5,
     "metadata": {},
     "output_type": "execute_result"
    }
   ],
   "source": [
    "ranking_df = dfs['ranking_df']\n",
    "ranking_df.head()"
   ]
  },
  {
   "cell_type": "code",
   "execution_count": 6,
   "metadata": {},
   "outputs": [
    {
     "data": {
      "text/html": [
       "<div>\n",
       "<style scoped>\n",
       "    .dataframe tbody tr th:only-of-type {\n",
       "        vertical-align: middle;\n",
       "    }\n",
       "\n",
       "    .dataframe tbody tr th {\n",
       "        vertical-align: top;\n",
       "    }\n",
       "\n",
       "    .dataframe thead th {\n",
       "        text-align: right;\n",
       "    }\n",
       "</style>\n",
       "<table border=\"1\" class=\"dataframe\">\n",
       "  <thead>\n",
       "    <tr style=\"text-align: right;\">\n",
       "      <th></th>\n",
       "      <th>game</th>\n",
       "      <th>ranking_name</th>\n",
       "      <th>season</th>\n",
       "      <th>start</th>\n",
       "      <th>end</th>\n",
       "      <th>total</th>\n",
       "      <th>by_id</th>\n",
       "      <th>by_placing</th>\n",
       "      <th>final</th>\n",
       "      <th>name</th>\n",
       "    </tr>\n",
       "  </thead>\n",
       "  <tbody>\n",
       "    <tr>\n",
       "      <th>0</th>\n",
       "      <td>melee</td>\n",
       "      <td>SSBMRank</td>\n",
       "      <td>2015</td>\n",
       "      <td>1420070400</td>\n",
       "      <td>1451606399</td>\n",
       "      <td>100</td>\n",
       "      <td>{'6189': 1, '1004': 2, '4465': 3, '1000': 4, '...</td>\n",
       "      <td>{'1': '6189', '2': '1004', '3': '4465', '4': '...</td>\n",
       "      <td>0</td>\n",
       "      <td>None</td>\n",
       "    </tr>\n",
       "    <tr>\n",
       "      <th>1</th>\n",
       "      <td>melee</td>\n",
       "      <td>SSBMRank</td>\n",
       "      <td>2016</td>\n",
       "      <td>1451606400</td>\n",
       "      <td>1483228799</td>\n",
       "      <td>100</td>\n",
       "      <td>{'6189': 1, '1004': 2, '1000': 3, '1003': 4, '...</td>\n",
       "      <td>{'1': '6189', '2': '1004', '3': '1000', '4': '...</td>\n",
       "      <td>0</td>\n",
       "      <td>None</td>\n",
       "    </tr>\n",
       "    <tr>\n",
       "      <th>2</th>\n",
       "      <td>melee</td>\n",
       "      <td>SSBMRank</td>\n",
       "      <td>2017</td>\n",
       "      <td>1483228800</td>\n",
       "      <td>1514764799</td>\n",
       "      <td>100</td>\n",
       "      <td>{'1004': 1, '6189': 2, '1000': 3, '1003': 4, '...</td>\n",
       "      <td>{'1': '1004', '2': '6189', '3': '1000', '4': '...</td>\n",
       "      <td>0</td>\n",
       "      <td>None</td>\n",
       "    </tr>\n",
       "    <tr>\n",
       "      <th>3</th>\n",
       "      <td>melee</td>\n",
       "      <td>SSBMRank</td>\n",
       "      <td>2018</td>\n",
       "      <td>1514793600</td>\n",
       "      <td>1546329600</td>\n",
       "      <td>100</td>\n",
       "      <td>{'1004': 1, '6189': 2, '4465': 3, '15990': 4, ...</td>\n",
       "      <td>{'1': '1004', '2': '6189', '3': '4465', '4': '...</td>\n",
       "      <td>0</td>\n",
       "      <td>None</td>\n",
       "    </tr>\n",
       "    <tr>\n",
       "      <th>4</th>\n",
       "      <td>melee</td>\n",
       "      <td>SSBMRank</td>\n",
       "      <td>2019</td>\n",
       "      <td>1546329600</td>\n",
       "      <td>1577836800</td>\n",
       "      <td>100</td>\n",
       "      <td>{'1004': 1, '4465': 2, '1000': 3, '16342': 4, ...</td>\n",
       "      <td>{'1': '1004', '2': '4465', '3': '1000', '4': '...</td>\n",
       "      <td>0</td>\n",
       "      <td>None</td>\n",
       "    </tr>\n",
       "  </tbody>\n",
       "</table>\n",
       "</div>"
      ],
      "text/plain": [
       "    game ranking_name  season       start         end  total  \\\n",
       "0  melee     SSBMRank    2015  1420070400  1451606399    100   \n",
       "1  melee     SSBMRank    2016  1451606400  1483228799    100   \n",
       "2  melee     SSBMRank    2017  1483228800  1514764799    100   \n",
       "3  melee     SSBMRank    2018  1514793600  1546329600    100   \n",
       "4  melee     SSBMRank    2019  1546329600  1577836800    100   \n",
       "\n",
       "                                               by_id  \\\n",
       "0  {'6189': 1, '1004': 2, '4465': 3, '1000': 4, '...   \n",
       "1  {'6189': 1, '1004': 2, '1000': 3, '1003': 4, '...   \n",
       "2  {'1004': 1, '6189': 2, '1000': 3, '1003': 4, '...   \n",
       "3  {'1004': 1, '6189': 2, '4465': 3, '15990': 4, ...   \n",
       "4  {'1004': 1, '4465': 2, '1000': 3, '16342': 4, ...   \n",
       "\n",
       "                                          by_placing  final  name  \n",
       "0  {'1': '6189', '2': '1004', '3': '4465', '4': '...      0  None  \n",
       "1  {'1': '6189', '2': '1004', '3': '1000', '4': '...      0  None  \n",
       "2  {'1': '1004', '2': '6189', '3': '1000', '4': '...      0  None  \n",
       "3  {'1': '1004', '2': '6189', '3': '4465', '4': '...      0  None  \n",
       "4  {'1': '1004', '2': '4465', '3': '1000', '4': '...      0  None  "
      ]
     },
     "execution_count": 6,
     "metadata": {},
     "output_type": "execute_result"
    }
   ],
   "source": [
    "ranking_seasons_df = dfs['ranking_seasons_df']\n",
    "ranking_seasons_df.head()"
   ]
  },
  {
   "cell_type": "code",
   "execution_count": 7,
   "metadata": {},
   "outputs": [
    {
     "name": "stdout",
     "output_type": "stream",
     "text": [
      "32.9% percent of sets have some game data\n"
     ]
    },
    {
     "data": {
      "text/html": [
       "<div>\n",
       "<style scoped>\n",
       "    .dataframe tbody tr th:only-of-type {\n",
       "        vertical-align: middle;\n",
       "    }\n",
       "\n",
       "    .dataframe tbody tr th {\n",
       "        vertical-align: top;\n",
       "    }\n",
       "\n",
       "    .dataframe thead th {\n",
       "        text-align: right;\n",
       "    }\n",
       "</style>\n",
       "<table border=\"1\" class=\"dataframe\">\n",
       "  <thead>\n",
       "    <tr style=\"text-align: right;\">\n",
       "      <th></th>\n",
       "      <th>key</th>\n",
       "      <th>game</th>\n",
       "      <th>tournament_key</th>\n",
       "      <th>winner_id</th>\n",
       "      <th>p1_id</th>\n",
       "      <th>p2_id</th>\n",
       "      <th>p1_score</th>\n",
       "      <th>p2_score</th>\n",
       "      <th>location_names</th>\n",
       "      <th>bracket_name</th>\n",
       "      <th>bracket_order</th>\n",
       "      <th>set_order</th>\n",
       "      <th>best_of</th>\n",
       "      <th>game_data</th>\n",
       "    </tr>\n",
       "  </thead>\n",
       "  <tbody>\n",
       "    <tr>\n",
       "      <th>0</th>\n",
       "      <td>104675843</td>\n",
       "      <td>melee</td>\n",
       "      <td>mdva-invitational-2017-(challonge-mirror)</td>\n",
       "      <td>5620</td>\n",
       "      <td>5620</td>\n",
       "      <td>Chillin</td>\n",
       "      <td>3</td>\n",
       "      <td>1</td>\n",
       "      <td>[R1, Round 1, Round 1]</td>\n",
       "      <td></td>\n",
       "      <td>1</td>\n",
       "      <td>A</td>\n",
       "      <td>5</td>\n",
       "      <td>[]</td>\n",
       "    </tr>\n",
       "    <tr>\n",
       "      <th>1</th>\n",
       "      <td>104675844</td>\n",
       "      <td>melee</td>\n",
       "      <td>mdva-invitational-2017-(challonge-mirror)</td>\n",
       "      <td>Aglet</td>\n",
       "      <td>15634</td>\n",
       "      <td>Aglet</td>\n",
       "      <td>2</td>\n",
       "      <td>3</td>\n",
       "      <td>[R1, Round 1, Round 1]</td>\n",
       "      <td></td>\n",
       "      <td>1</td>\n",
       "      <td>B</td>\n",
       "      <td>5</td>\n",
       "      <td>[]</td>\n",
       "    </tr>\n",
       "    <tr>\n",
       "      <th>2</th>\n",
       "      <td>104675845</td>\n",
       "      <td>melee</td>\n",
       "      <td>mdva-invitational-2017-(challonge-mirror)</td>\n",
       "      <td>6126</td>\n",
       "      <td>6126</td>\n",
       "      <td>1097</td>\n",
       "      <td>3</td>\n",
       "      <td>0</td>\n",
       "      <td>[R1, Round 1, Round 1]</td>\n",
       "      <td></td>\n",
       "      <td>1</td>\n",
       "      <td>C</td>\n",
       "      <td>5</td>\n",
       "      <td>[]</td>\n",
       "    </tr>\n",
       "    <tr>\n",
       "      <th>3</th>\n",
       "      <td>104675846</td>\n",
       "      <td>melee</td>\n",
       "      <td>mdva-invitational-2017-(challonge-mirror)</td>\n",
       "      <td>1069</td>\n",
       "      <td>Chu</td>\n",
       "      <td>1069</td>\n",
       "      <td>0</td>\n",
       "      <td>3</td>\n",
       "      <td>[R1, Round 1, Round 1]</td>\n",
       "      <td></td>\n",
       "      <td>1</td>\n",
       "      <td>D</td>\n",
       "      <td>5</td>\n",
       "      <td>[]</td>\n",
       "    </tr>\n",
       "    <tr>\n",
       "      <th>4</th>\n",
       "      <td>104675847</td>\n",
       "      <td>melee</td>\n",
       "      <td>mdva-invitational-2017-(challonge-mirror)</td>\n",
       "      <td>Rishi</td>\n",
       "      <td>Jerry</td>\n",
       "      <td>Rishi</td>\n",
       "      <td>1</td>\n",
       "      <td>3</td>\n",
       "      <td>[R1, Round 1, Round 1]</td>\n",
       "      <td></td>\n",
       "      <td>1</td>\n",
       "      <td>E</td>\n",
       "      <td>5</td>\n",
       "      <td>[]</td>\n",
       "    </tr>\n",
       "  </tbody>\n",
       "</table>\n",
       "</div>"
      ],
      "text/plain": [
       "         key   game                             tournament_key winner_id  \\\n",
       "0  104675843  melee  mdva-invitational-2017-(challonge-mirror)      5620   \n",
       "1  104675844  melee  mdva-invitational-2017-(challonge-mirror)     Aglet   \n",
       "2  104675845  melee  mdva-invitational-2017-(challonge-mirror)      6126   \n",
       "3  104675846  melee  mdva-invitational-2017-(challonge-mirror)      1069   \n",
       "4  104675847  melee  mdva-invitational-2017-(challonge-mirror)     Rishi   \n",
       "\n",
       "   p1_id    p2_id  p1_score  p2_score          location_names bracket_name  \\\n",
       "0   5620  Chillin         3         1  [R1, Round 1, Round 1]                \n",
       "1  15634    Aglet         2         3  [R1, Round 1, Round 1]                \n",
       "2   6126     1097         3         0  [R1, Round 1, Round 1]                \n",
       "3    Chu     1069         0         3  [R1, Round 1, Round 1]                \n",
       "4  Jerry    Rishi         1         3  [R1, Round 1, Round 1]                \n",
       "\n",
       "  bracket_order set_order  best_of game_data  \n",
       "0             1         A        5        []  \n",
       "1             1         B        5        []  \n",
       "2             1         C        5        []  \n",
       "3             1         D        5        []  \n",
       "4             1         E        5        []  "
      ]
     },
     "execution_count": 7,
     "metadata": {},
     "output_type": "execute_result"
    }
   ],
   "source": [
    "sets_df = dfs['sets_df']\n",
    "print(f'{sets_df[sets_df['game_data'].apply(lambda x: len(x) > 0)].shape[0] / sets_df.shape[0]:0.01%} percent of sets have some game data')\n",
    "sets_df.head()"
   ]
  },
  {
   "cell_type": "code",
   "execution_count": 8,
   "metadata": {},
   "outputs": [
    {
     "data": {
      "text/html": [
       "<div>\n",
       "<style scoped>\n",
       "    .dataframe tbody tr th:only-of-type {\n",
       "        vertical-align: middle;\n",
       "    }\n",
       "\n",
       "    .dataframe tbody tr th {\n",
       "        vertical-align: top;\n",
       "    }\n",
       "\n",
       "    .dataframe thead th {\n",
       "        text-align: right;\n",
       "    }\n",
       "</style>\n",
       "<table border=\"1\" class=\"dataframe\">\n",
       "  <thead>\n",
       "    <tr style=\"text-align: right;\">\n",
       "      <th></th>\n",
       "      <th>game</th>\n",
       "      <th>key</th>\n",
       "      <th>cleaned_name</th>\n",
       "      <th>source</th>\n",
       "      <th>tournament_name</th>\n",
       "      <th>tournament_event</th>\n",
       "      <th>season</th>\n",
       "      <th>rank</th>\n",
       "      <th>start</th>\n",
       "      <th>end</th>\n",
       "      <th>country</th>\n",
       "      <th>state</th>\n",
       "      <th>city</th>\n",
       "      <th>entrants</th>\n",
       "      <th>placings</th>\n",
       "      <th>losses</th>\n",
       "      <th>bracket_types</th>\n",
       "      <th>online</th>\n",
       "      <th>lat</th>\n",
       "      <th>lng</th>\n",
       "    </tr>\n",
       "  </thead>\n",
       "  <tbody>\n",
       "    <tr>\n",
       "      <th>0</th>\n",
       "      <td>melee</td>\n",
       "      <td>mdva-invitational-2017-(challonge-mirror)</td>\n",
       "      <td>MDVA Invitational 2017 (Challonge Mirror)</td>\n",
       "      <td>challonge</td>\n",
       "      <td>https://challonge.com/mdva_invitational_2017</td>\n",
       "      <td></td>\n",
       "      <td>17</td>\n",
       "      <td></td>\n",
       "      <td>2017-11-26 08:05:11</td>\n",
       "      <td>2017-11-26 08:48:09</td>\n",
       "      <td>US</td>\n",
       "      <td>VA</td>\n",
       "      <td>Fall's Church</td>\n",
       "      <td>10</td>\n",
       "      <td>[[Rishi, 1], [15634, 3], [6126, 4], [Chu, 8], ...</td>\n",
       "      <td>{}</td>\n",
       "      <td>b'{}'</td>\n",
       "      <td>0</td>\n",
       "      <td>NaN</td>\n",
       "      <td>NaN</td>\n",
       "    </tr>\n",
       "    <tr>\n",
       "      <th>1</th>\n",
       "      <td>melee</td>\n",
       "      <td>s@sh7</td>\n",
       "      <td>S@SH7</td>\n",
       "      <td>challonge</td>\n",
       "      <td>https://challonge.com/sash7</td>\n",
       "      <td></td>\n",
       "      <td>17</td>\n",
       "      <td></td>\n",
       "      <td>2017-06-13 10:27:01</td>\n",
       "      <td>2017-06-13 10:27:01</td>\n",
       "      <td>US</td>\n",
       "      <td>MI</td>\n",
       "      <td>Ann Arbor</td>\n",
       "      <td>92</td>\n",
       "      <td>[]</td>\n",
       "      <td>{}</td>\n",
       "      <td>b'{}'</td>\n",
       "      <td>0</td>\n",
       "      <td>NaN</td>\n",
       "      <td>NaN</td>\n",
       "    </tr>\n",
       "    <tr>\n",
       "      <th>2</th>\n",
       "      <td>melee</td>\n",
       "      <td>slippi-champions-league-week-1__melee-singles</td>\n",
       "      <td>Slippi Champions League Week 1</td>\n",
       "      <td>pgstats</td>\n",
       "      <td>slippi-champions-league-week-1</td>\n",
       "      <td>melee-singles</td>\n",
       "      <td>20</td>\n",
       "      <td></td>\n",
       "      <td>2020-10-11 14:00:00</td>\n",
       "      <td>2020-10-11 14:00:00</td>\n",
       "      <td></td>\n",
       "      <td></td>\n",
       "      <td></td>\n",
       "      <td>20</td>\n",
       "      <td>[[1000, 1], [6126, 2], [4107, 3], [19554, 3], ...</td>\n",
       "      <td>{}</td>\n",
       "      <td>b'{}'</td>\n",
       "      <td>1</td>\n",
       "      <td>0.0</td>\n",
       "      <td>0.0</td>\n",
       "    </tr>\n",
       "    <tr>\n",
       "      <th>3</th>\n",
       "      <td>melee</td>\n",
       "      <td>slippi-champions-league-week-2__melee-singles</td>\n",
       "      <td>Slippi Champions League Week 2</td>\n",
       "      <td>pgstats</td>\n",
       "      <td>slippi-champions-league-week-2</td>\n",
       "      <td>melee-singles</td>\n",
       "      <td>20</td>\n",
       "      <td></td>\n",
       "      <td>2020-10-18 14:00:00</td>\n",
       "      <td>2020-10-18 14:00:00</td>\n",
       "      <td></td>\n",
       "      <td></td>\n",
       "      <td></td>\n",
       "      <td>20</td>\n",
       "      <td>[[6126, 1], [4107, 2], [1000, 3], [19554, 3], ...</td>\n",
       "      <td>{}</td>\n",
       "      <td>b'{}'</td>\n",
       "      <td>1</td>\n",
       "      <td>0.0</td>\n",
       "      <td>0.0</td>\n",
       "    </tr>\n",
       "    <tr>\n",
       "      <th>4</th>\n",
       "      <td>melee</td>\n",
       "      <td>slippi-champions-league-week-3__melee-singles</td>\n",
       "      <td>Slippi Champions League Week 3</td>\n",
       "      <td>pgstats</td>\n",
       "      <td>slippi-champions-league-week-3</td>\n",
       "      <td>melee-singles</td>\n",
       "      <td>20</td>\n",
       "      <td></td>\n",
       "      <td>2020-10-25 14:00:00</td>\n",
       "      <td>2020-10-25 14:00:00</td>\n",
       "      <td></td>\n",
       "      <td></td>\n",
       "      <td></td>\n",
       "      <td>20</td>\n",
       "      <td>[[6126, 1], [3359, 2], [19554, 3], [4107, 3], ...</td>\n",
       "      <td>{}</td>\n",
       "      <td>b'{}'</td>\n",
       "      <td>1</td>\n",
       "      <td>0.0</td>\n",
       "      <td>0.0</td>\n",
       "    </tr>\n",
       "  </tbody>\n",
       "</table>\n",
       "</div>"
      ],
      "text/plain": [
       "    game                                            key  \\\n",
       "0  melee      mdva-invitational-2017-(challonge-mirror)   \n",
       "1  melee                                          s@sh7   \n",
       "2  melee  slippi-champions-league-week-1__melee-singles   \n",
       "3  melee  slippi-champions-league-week-2__melee-singles   \n",
       "4  melee  slippi-champions-league-week-3__melee-singles   \n",
       "\n",
       "                                cleaned_name     source  \\\n",
       "0  MDVA Invitational 2017 (Challonge Mirror)  challonge   \n",
       "1                                      S@SH7  challonge   \n",
       "2             Slippi Champions League Week 1    pgstats   \n",
       "3             Slippi Champions League Week 2    pgstats   \n",
       "4             Slippi Champions League Week 3    pgstats   \n",
       "\n",
       "                                tournament_name tournament_event season rank  \\\n",
       "0  https://challonge.com/mdva_invitational_2017                      17        \n",
       "1                   https://challonge.com/sash7                      17        \n",
       "2                slippi-champions-league-week-1    melee-singles     20        \n",
       "3                slippi-champions-league-week-2    melee-singles     20        \n",
       "4                slippi-champions-league-week-3    melee-singles     20        \n",
       "\n",
       "                start                 end country state           city  \\\n",
       "0 2017-11-26 08:05:11 2017-11-26 08:48:09      US    VA  Fall's Church   \n",
       "1 2017-06-13 10:27:01 2017-06-13 10:27:01      US    MI      Ann Arbor   \n",
       "2 2020-10-11 14:00:00 2020-10-11 14:00:00                                \n",
       "3 2020-10-18 14:00:00 2020-10-18 14:00:00                                \n",
       "4 2020-10-25 14:00:00 2020-10-25 14:00:00                                \n",
       "\n",
       "   entrants                                           placings losses  \\\n",
       "0        10  [[Rishi, 1], [15634, 3], [6126, 4], [Chu, 8], ...     {}   \n",
       "1        92                                                 []     {}   \n",
       "2        20  [[1000, 1], [6126, 2], [4107, 3], [19554, 3], ...     {}   \n",
       "3        20  [[6126, 1], [4107, 2], [1000, 3], [19554, 3], ...     {}   \n",
       "4        20  [[6126, 1], [3359, 2], [19554, 3], [4107, 3], ...     {}   \n",
       "\n",
       "  bracket_types  online  lat  lng  \n",
       "0         b'{}'       0  NaN  NaN  \n",
       "1         b'{}'       0  NaN  NaN  \n",
       "2         b'{}'       1  0.0  0.0  \n",
       "3         b'{}'       1  0.0  0.0  \n",
       "4         b'{}'       1  0.0  0.0  "
      ]
     },
     "execution_count": 8,
     "metadata": {},
     "output_type": "execute_result"
    }
   ],
   "source": [
    "tournament_info_df = dfs['tournament_info_df']\n",
    "tournament_info_df.head()"
   ]
  },
  {
   "cell_type": "code",
   "execution_count": 9,
   "metadata": {},
   "outputs": [],
   "source": [
    "total_character_counts = {}\n",
    "\n",
    "# Iterate over the 'characters' column\n",
    "for idx, row in players_df.iterrows():\n",
    "    char_dict = row['characters']\n",
    "    if isinstance(char_dict, dict):\n",
    "        for character, count in char_dict.items():\n",
    "            if character in total_character_counts:\n",
    "                total_character_counts[character] += count\n",
    "            else:\n",
    "                total_character_counts[character] = count\n",
    "    else:\n",
    "        # Handle cases where 'characters' is empty or NaN\n",
    "        continue\n",
    "\n",
    "# Now total_character_counts contains the total counts per character\n",
    "\n",
    "# Sort the characters by total counts in decreasing order\n",
    "sorted_characters = sorted(total_character_counts.items(), key=lambda x: x[1], reverse=True)\n",
    "sorted_character_keys = [character[0] for character in sorted_characters]"
   ]
  },
  {
   "cell_type": "code",
   "execution_count": 10,
   "metadata": {},
   "outputs": [
    {
     "name": "stdout",
     "output_type": "stream",
     "text": [
      "      key   game             tournament_key winner_id p1_id p2_id  p1_score  \\\n",
      "11398      melee  shine-2018__melee-singles      1004  1004  1032         3   \n",
      "\n",
      "       p2_score                    location_names bracket_name bracket_order  \\\n",
      "11398         0  [W1, Winners 1, Winners Round 1]       Top 64             3   \n",
      "\n",
      "      set_order  best_of                                          game_data  \n",
      "11398         A        3  [{'loser_char': 'melee/peach', 'winner_score':...  \n",
      "[{'loser_char': 'melee/peach', 'winner_score': 1, 'winner_id': 1004, 'loser_id': 1032, 'winner_char': 'melee/jigglypuff', 'loser_score': 0, 'stage': 'Battlefield'}, {'loser_char': 'melee/peach', 'winner_score': 2, 'winner_id': 1004, 'loser_id': 1032, 'winner_char': 'melee/jigglypuff', 'loser_score': 0, 'stage': \"Yoshi's Story\"}, {'loser_char': 'melee/peach', 'winner_score': 2, 'winner_id': 1004, 'loser_id': 1032, 'winner_char': 'melee/jigglypuff', 'loser_score': 0, 'stage': \"Yoshi's Story\"}]\n",
      "2015-01-11 14:16:13\n"
     ]
    }
   ],
   "source": [
    "sorted_tournament_info_df = tournament_info_df.sort_values('end').reset_index(drop=True)\n",
    "first_date = sorted_tournament_info_df.iloc[0]['start']\n",
    "\n",
    "game_data_sets_df= sets_df[sets_df['game_data'].apply(lambda x: len(x) > 0)]\n",
    "seen = set()\n",
    "tournament_keys = [key for key in game_data_sets_df['tournament_key'] if not (key in seen or seen.add(key))]\n",
    "# Filter tournament_info_df to include only matching tournament keys\n",
    "game_data_tournaments_df = tournament_info_df[\n",
    "    tournament_info_df['key'].isin(tournament_keys)\n",
    "].sort_values('end').reset_index(drop=True)\n",
    "\n",
    "\n",
    "print(game_data_sets_df.head(1))\n",
    "print(f\"{game_data_sets_df.iloc[0:1]['game_data'].values[0]}\")\n",
    "print(first_date)"
   ]
  },
  {
   "cell_type": "code",
   "execution_count": 11,
   "metadata": {},
   "outputs": [],
   "source": [
    "tau = 1.3\n",
    "\n",
    "def process_tournament(tournament_key, player_ratings_matchup_df, tournament_info_df, sets_df):\n",
    "    \"\"\"\n",
    "    Optimized function to process a tournament and update character-specific player ratings.\n",
    "    \"\"\"\n",
    "    # Get the sets for this tournament\n",
    "    tournament_sets_df = sets_df[sets_df['tournament_key'] == tournament_key]\n",
    "\n",
    "    # Filter out matches without game data\n",
    "    tournament_sets_df = tournament_sets_df[\n",
    "        tournament_sets_df['game_data'].apply(lambda x: isinstance(x, list) and len(x) > 0)\n",
    "    ]\n",
    "\n",
    "    if tournament_sets_df.empty:\n",
    "        print(f\"No game data for tournament {tournament_key}.\")\n",
    "        return player_ratings_matchup_df\n",
    "\n",
    "    # Explode 'game_data' to get one row per game\n",
    "    tournament_sets_df = tournament_sets_df.explode('game_data').reset_index(drop=True)\n",
    "\n",
    "    # Normalize 'game_data' dictionaries into separate columns\n",
    "    game_data_df = pd.json_normalize(tournament_sets_df['game_data'])\n",
    "\n",
    "    # Remove overlapping columns before concatenation\n",
    "    overlapping_columns = tournament_sets_df.columns.intersection(game_data_df.columns)\n",
    "    game_data_df = game_data_df.drop(columns=overlapping_columns)\n",
    "\n",
    "    # Concatenate the game_data_df with tournament_sets_df\n",
    "    tournament_games_df = pd.concat(\n",
    "        [tournament_sets_df.reset_index(drop=True), game_data_df.reset_index(drop=True)], axis=1\n",
    "    )\n",
    "\n",
    "    # Remove duplicate columns if any\n",
    "    tournament_games_df = tournament_games_df.loc[:, ~tournament_games_df.columns.duplicated()]\n",
    "\n",
    "    # Adjust column names based on actual data\n",
    "    winner_games = tournament_games_df[['winner_id', 'loser_id', 'winner_char', 'loser_char']]\n",
    "    winner_games = winner_games.rename(columns={\n",
    "        'winner_id': 'player_id',\n",
    "        'loser_id': 'opponent_id',\n",
    "        'winner_char': 'player_char',\n",
    "        'loser_char': 'opponent_char'\n",
    "    })\n",
    "    winner_games['outcome'] = 1  # Winner\n",
    "\n",
    "    loser_games = tournament_games_df[['loser_id', 'winner_id', 'loser_char', 'winner_char']]\n",
    "    loser_games = loser_games.rename(columns={\n",
    "        'loser_id': 'player_id',\n",
    "        'winner_id': 'opponent_id',\n",
    "        'loser_char': 'player_char',\n",
    "        'winner_char': 'opponent_char'\n",
    "    })\n",
    "    loser_games['outcome'] = 0  # Loser\n",
    "\n",
    "    # Combine the data\n",
    "    player_games_df = pd.concat([winner_games, loser_games], ignore_index=True)\n",
    "\n",
    "    # Remove duplicate columns if any\n",
    "    player_games_df = player_games_df.loc[:, ~player_games_df.columns.duplicated()]\n",
    "\n",
    "    # Filter out games with missing data\n",
    "    player_games_df.dropna(\n",
    "        subset=['player_char', 'opponent_char', 'player_id', 'opponent_id'], inplace=True\n",
    "    )\n",
    "\n",
    "    # Ensure characters are recognized\n",
    "    player_games_df = player_games_df[\n",
    "        player_games_df['player_char'].isin(sorted_character_keys) &\n",
    "        player_games_df['opponent_char'].isin(sorted_character_keys)\n",
    "    ]\n",
    "\n",
    "    # Check if player_games_df is empty\n",
    "    if player_games_df.empty:\n",
    "        print(f\"No valid player games data for tournament {tournament_key} after filtering.\")\n",
    "        return player_ratings_matchup_df\n",
    "\n",
    "    # Get the tournament end date\n",
    "    end_date_series = tournament_info_df.loc[\n",
    "        tournament_info_df['key'] == tournament_key, 'end'\n",
    "    ]\n",
    "    if end_date_series.empty:\n",
    "        print(f\"No end date found for tournament {tournament_key}.\")\n",
    "        return player_ratings_matchup_df\n",
    "    end_date = pd.to_datetime(end_date_series.values[0])\n",
    "\n",
    "    # Ensure all players are in player_ratings_matchup_df\n",
    "    tournament_player_ids = pd.unique(\n",
    "        player_games_df[['player_id', 'opponent_id']].values.ravel('K')\n",
    "    )\n",
    "\n",
    "    existing_player_ids = player_ratings_matchup_df['player_id'].tolist()\n",
    "    new_players = [pid for pid in tournament_player_ids if pid not in existing_player_ids]\n",
    "\n",
    "    # Collect new player rows in a list\n",
    "    new_rows = []\n",
    "\n",
    "    for player_id in new_players:\n",
    "        new_row = {\n",
    "            'player_id': player_id,\n",
    "            'dates_dict': {},          # Empty dict\n",
    "            'rating_history_dict': {}, # Empty dict\n",
    "            'rd_history_dict': {},     # Empty dict\n",
    "            'game_count_dict': {},     # Empty dict\n",
    "            'glicko2_dict': {}         # Empty dict\n",
    "        }\n",
    "        new_rows.append(new_row)\n",
    "\n",
    "    # Concatenate once outside the loop if there are new players\n",
    "    if new_rows:\n",
    "        new_players_df = pd.DataFrame(new_rows)\n",
    "        player_ratings_matchup_df = pd.concat([player_ratings_matchup_df, new_players_df], ignore_index=True)\n",
    "\n",
    "    # Update player_index_map\n",
    "    player_index_map = {player_id: idx for idx, player_id in enumerate(player_ratings_matchup_df['player_id'])}\n",
    "\n",
    "    # Prepare data for grouping\n",
    "    player_games_df['player_index'] = player_games_df['player_id'].map(player_index_map)\n",
    "    player_games_df['opponent_index'] = player_games_df['opponent_id'].map(player_index_map)\n",
    "\n",
    "    # Filter out games where players are not in the player_ratings_matchup_df\n",
    "    player_games_df.dropna(subset=['player_index', 'opponent_index'], inplace=True)\n",
    "    player_games_df['player_index'] = player_games_df['player_index'].astype(int)\n",
    "    player_games_df['opponent_index'] = player_games_df['opponent_index'].astype(int)\n",
    "\n",
    "    # Check if player_games_df is empty\n",
    "    if player_games_df.empty:\n",
    "        # print(f\"No valid player games data for tournament {tournament_key} after mapping indices.\")\n",
    "        return player_ratings_matchup_df\n",
    "\n",
    "    # Collect game counts\n",
    "    game_counts = player_games_df.groupby(\n",
    "        ['player_index', 'player_char', 'opponent_char']\n",
    "    ).size().reset_index(name='game_count')\n",
    "\n",
    "    # Update game counts in the DataFrame\n",
    "    for row in game_counts.itertuples():\n",
    "        idx = row.player_index\n",
    "        p_char = row.player_char\n",
    "        o_char = row.opponent_char\n",
    "        count = row.game_count\n",
    "\n",
    "        # Access or initialize game_count_dict\n",
    "        game_count_dict = player_ratings_matchup_df.at[idx, 'game_count_dict']\n",
    "        if p_char not in game_count_dict:\n",
    "            game_count_dict[p_char] = {}\n",
    "        if o_char not in game_count_dict[p_char]:\n",
    "            game_count_dict[p_char][o_char] = 0\n",
    "        game_count_dict[p_char][o_char] += count\n",
    "\n",
    "        # Update the DataFrame entry\n",
    "        player_ratings_matchup_df.at[idx, 'game_count_dict'] = game_count_dict\n",
    "\n",
    "    # Collect opponent ratings, RDs, and outcomes\n",
    "    def get_opponent_rating_rd(row):\n",
    "        try:\n",
    "            opp_idx = row['opponent_index']\n",
    "            opp_char = row['opponent_char']\n",
    "            player_char = row['player_char']\n",
    "\n",
    "            # Check for missing data\n",
    "            if pd.isna(opp_idx) or pd.isna(opp_char) or pd.isna(player_char):\n",
    "                return pd.Series({'opponent_rating': np.nan, 'opponent_rd': np.nan})\n",
    "\n",
    "            opp_idx = int(opp_idx)\n",
    "\n",
    "            # Access or initialize opponent's glicko2_dict\n",
    "            opp_glicko2_dict = player_ratings_matchup_df.at[opp_idx, 'glicko2_dict']\n",
    "            if opp_char not in opp_glicko2_dict:\n",
    "                opp_glicko2_dict[opp_char] = {}\n",
    "            if player_char not in opp_glicko2_dict[opp_char]:\n",
    "                opp_glicko2_dict[opp_char][player_char] = Player()\n",
    "                opp_glicko2_dict[opp_char][player_char]._tau = tau\n",
    "            # print(opp_glicko2_dict[opp_char][player_char]._tau)\n",
    "\n",
    "            opponent_glicko = opp_glicko2_dict[opp_char][player_char]\n",
    "\n",
    "            # Update the DataFrame entry\n",
    "            player_ratings_matchup_df.at[opp_idx, 'glicko2_dict'] = opp_glicko2_dict\n",
    "\n",
    "            return pd.Series({\n",
    "                'opponent_rating': opponent_glicko.getRating(),\n",
    "                'opponent_rd': opponent_glicko.getRd()\n",
    "            })\n",
    "        except Exception as e:\n",
    "            # Log the exception and return NaN values\n",
    "            print(f\"Error in get_opponent_rating_rd for tournament {tournament_key}: {e}\")\n",
    "            return pd.Series({'opponent_rating': np.nan, 'opponent_rd': np.nan})\n",
    "\n",
    "    # Apply the function and assign the new columns directly\n",
    "    opponent_ratings_rds = player_games_df.apply(get_opponent_rating_rd, axis=1)\n",
    "\n",
    "    # Check if opponent_ratings_rds contains the required columns\n",
    "    if opponent_ratings_rds.empty or not set(['opponent_rating', 'opponent_rd']).issubset(opponent_ratings_rds.columns):\n",
    "        print(f\"Warning: opponent_ratings_rds is empty or missing required columns for tournament {tournament_key}\")\n",
    "        return player_ratings_matchup_df\n",
    "\n",
    "    player_games_df[['opponent_rating', 'opponent_rd']] = opponent_ratings_rds[['opponent_rating', 'opponent_rd']]\n",
    "\n",
    "    # Drop rows with NaN opponent ratings\n",
    "    player_games_df.dropna(subset=['opponent_rating', 'opponent_rd'], inplace=True)\n",
    "\n",
    "    # Check if player_games_df is empty after dropping NaNs\n",
    "    if player_games_df.empty:\n",
    "        print(f\"No valid opponent ratings data for tournament {tournament_key} after dropping NaNs.\")\n",
    "        return player_ratings_matchup_df\n",
    "\n",
    "    # Group data for update_player\n",
    "    grouped = player_games_df.groupby(['player_index', 'player_char', 'opponent_char'])\n",
    "\n",
    "    # Update ratings\n",
    "    for (player_index, player_char, opponent_char), group in grouped:\n",
    "        p_row = player_ratings_matchup_df.loc[player_index]\n",
    "\n",
    "        # Access or initialize glicko2_dict\n",
    "        glicko2_dict = p_row['glicko2_dict']\n",
    "        if player_char not in glicko2_dict:\n",
    "            glicko2_dict[player_char] = {}\n",
    "        if opponent_char not in glicko2_dict[player_char]:\n",
    "            glicko2_dict[player_char][opponent_char] = Player()\n",
    "            glicko2_dict[player_char][opponent_char]._tau = tau\n",
    "        p_vs_char_glicko = glicko2_dict[player_char][opponent_char]\n",
    "\n",
    "        opponent_ratings = group['opponent_rating'].tolist()\n",
    "        opponent_rds = group['opponent_rd'].tolist()\n",
    "        outcomes = group['outcome'].tolist()\n",
    "\n",
    "        # Update Glicko-2 rating\n",
    "        p_vs_char_glicko.update_player(opponent_ratings, opponent_rds, outcomes)\n",
    "\n",
    "        # Access or initialize history dicts\n",
    "        dates_dict = p_row['dates_dict']\n",
    "        rating_history_dict = p_row['rating_history_dict']\n",
    "        rd_history_dict = p_row['rd_history_dict']\n",
    "\n",
    "        if player_char not in dates_dict:\n",
    "            dates_dict[player_char] = {}\n",
    "            rating_history_dict[player_char] = {}\n",
    "            rd_history_dict[player_char] = {}\n",
    "        if opponent_char not in dates_dict[player_char]:\n",
    "            dates_dict[player_char][opponent_char] = []\n",
    "            rating_history_dict[player_char][opponent_char] = []\n",
    "            rd_history_dict[player_char][opponent_char] = []\n",
    "\n",
    "        dates_dict[player_char][opponent_char].append(end_date)\n",
    "        rating_history_dict[player_char][opponent_char].append(p_vs_char_glicko.getRating())\n",
    "        rd_history_dict[player_char][opponent_char].append(p_vs_char_glicko.getRd())\n",
    "\n",
    "        # Update the DataFrame entries\n",
    "        player_ratings_matchup_df.at[player_index, 'glicko2_dict'] = glicko2_dict\n",
    "        player_ratings_matchup_df.at[player_index, 'dates_dict'] = dates_dict\n",
    "        player_ratings_matchup_df.at[player_index, 'rating_history_dict'] = rating_history_dict\n",
    "        player_ratings_matchup_df.at[player_index, 'rd_history_dict'] = rd_history_dict\n",
    "\n",
    "    # Return the updated DataFrame\n",
    "    return player_ratings_matchup_df\n"
   ]
  },
  {
   "cell_type": "code",
   "execution_count": 12,
   "metadata": {},
   "outputs": [
    {
     "name": "stderr",
     "output_type": "stream",
     "text": [
      "  0%|          | 32/16536 [00:04<24:16, 11.33it/s] "
     ]
    },
    {
     "name": "stdout",
     "output_type": "stream",
     "text": [
      "No valid player games data for tournament lanets-2017-feat-rb-tsm-leffen__melee-singles after filtering.\n"
     ]
    },
    {
     "name": "stderr",
     "output_type": "stream",
     "text": [
      "  0%|          | 48/16536 [00:05<23:51, 11.52it/s]"
     ]
    },
    {
     "name": "stdout",
     "output_type": "stream",
     "text": [
      "No valid player games data for tournament sweet-28-a-super-smash-bros-melee-event__melee-singles after filtering.\n"
     ]
    },
    {
     "name": "stderr",
     "output_type": "stream",
     "text": [
      "  0%|          | 60/16536 [00:06<24:55, 11.02it/s]"
     ]
    },
    {
     "name": "stdout",
     "output_type": "stream",
     "text": [
      "No valid player games data for tournament super-rubicon-1__melee-singles after filtering.\n"
     ]
    },
    {
     "name": "stderr",
     "output_type": "stream",
     "text": [
      "  0%|          | 66/16536 [00:07<26:53, 10.21it/s]"
     ]
    },
    {
     "name": "stdout",
     "output_type": "stream",
     "text": [
      "No valid player games data for tournament red-bull-smash-gods-and-gatekeepers-2__melee-singles after filtering.\n"
     ]
    },
    {
     "name": "stderr",
     "output_type": "stream",
     "text": [
      "  1%|          | 106/16536 [00:11<25:56, 10.55it/s]"
     ]
    },
    {
     "name": "stdout",
     "output_type": "stream",
     "text": [
      "No valid player games data for tournament dreamhack-rotterdam-smash-brawlhalla-championship__melee-singles after filtering.\n"
     ]
    },
    {
     "name": "stderr",
     "output_type": "stream",
     "text": [
      "  1%|          | 116/16536 [00:12<25:33, 10.71it/s]"
     ]
    },
    {
     "name": "stdout",
     "output_type": "stream",
     "text": [
      "No valid player games data for tournament nerd-corner-knockout-12__melee-singles after filtering.\n"
     ]
    },
    {
     "name": "stderr",
     "output_type": "stream",
     "text": [
      "  1%|          | 194/16536 [00:20<28:18,  9.62it/s]"
     ]
    },
    {
     "name": "stdout",
     "output_type": "stream",
     "text": [
      "No valid player games data for tournament untitled-10-netplay-tournament-series__melee-singles after filtering.\n"
     ]
    },
    {
     "name": "stderr",
     "output_type": "stream",
     "text": [
      "  4%|▍         | 642/16536 [01:27<41:57,  6.31it/s]  "
     ]
    },
    {
     "name": "stdout",
     "output_type": "stream",
     "text": [
      "No valid player games data for tournament 5-days-of-melee-supporting-direct-relief__rishi-s-jungle-jam after filtering.\n"
     ]
    },
    {
     "name": "stderr",
     "output_type": "stream",
     "text": [
      "  6%|▌         | 975/16536 [02:11<26:54,  9.64it/s]  "
     ]
    },
    {
     "name": "stdout",
     "output_type": "stream",
     "text": [
      "No valid player games data for tournament quiggles-birthday-bonanza-1__top-20 after filtering.\n"
     ]
    },
    {
     "name": "stderr",
     "output_type": "stream",
     "text": [
      " 16%|█▌        | 2675/16536 [05:51<27:07,  8.51it/s]  "
     ]
    },
    {
     "name": "stdout",
     "output_type": "stream",
     "text": [
      "No valid player games data for tournament irish-melee-arcadian-online__melee-singles after filtering.\n"
     ]
    },
    {
     "name": "stderr",
     "output_type": "stream",
     "text": [
      " 18%|█▊        | 3020/16536 [06:37<24:45,  9.10it/s]"
     ]
    },
    {
     "name": "stdout",
     "output_type": "stream",
     "text": [
      "No valid player games data for tournament tripoint-smash-101__melee-singles after filtering.\n"
     ]
    },
    {
     "name": "stderr",
     "output_type": "stream",
     "text": [
      " 18%|█▊        | 3057/16536 [06:41<22:08, 10.15it/s]"
     ]
    },
    {
     "name": "stdout",
     "output_type": "stream",
     "text": [
      "No valid player games data for tournament rubesday-130__melee-singles after filtering.\n"
     ]
    },
    {
     "name": "stderr",
     "output_type": "stream",
     "text": [
      " 19%|█▊        | 3088/16536 [06:45<24:02,  9.32it/s]"
     ]
    },
    {
     "name": "stdout",
     "output_type": "stream",
     "text": [
      "No valid player games data for tournament melee-uofl-6-26-21__melee-singles after filtering.\n"
     ]
    },
    {
     "name": "stderr",
     "output_type": "stream",
     "text": [
      " 19%|█▉        | 3108/16536 [06:48<31:53,  7.02it/s]  "
     ]
    },
    {
     "name": "stdout",
     "output_type": "stream",
     "text": [
      "No valid player games data for tournament the-smash-house-1__melee-singles after filtering.\n"
     ]
    },
    {
     "name": "stderr",
     "output_type": "stream",
     "text": [
      " 19%|█▉        | 3214/16536 [07:04<30:56,  7.18it/s]  "
     ]
    },
    {
     "name": "stdout",
     "output_type": "stream",
     "text": [
      "No valid player games data for tournament rogasmash-191-melee__melee-singles after filtering.\n"
     ]
    },
    {
     "name": "stderr",
     "output_type": "stream",
     "text": [
      " 20%|█▉        | 3236/16536 [07:07<37:54,  5.85it/s]"
     ]
    },
    {
     "name": "stdout",
     "output_type": "stream",
     "text": [
      "No valid player games data for tournament rollback-rumble-the-big-one-1__wolf-bracket-east-west-07-03 after filtering.\n"
     ]
    },
    {
     "name": "stderr",
     "output_type": "stream",
     "text": [
      " 20%|█▉        | 3240/16536 [07:07<39:25,  5.62it/s]"
     ]
    },
    {
     "name": "stdout",
     "output_type": "stream",
     "text": [
      "No valid player games data for tournament melee-36404-v-5__melee-36404-singles after filtering.\n"
     ]
    },
    {
     "name": "stderr",
     "output_type": "stream",
     "text": [
      " 21%|██        | 3415/16536 [07:31<24:24,  8.96it/s]"
     ]
    },
    {
     "name": "stdout",
     "output_type": "stream",
     "text": [
      "No valid player games data for tournament the-nightclub-s1e2-os-nyc__melee-singles after filtering.\n"
     ]
    },
    {
     "name": "stderr",
     "output_type": "stream",
     "text": [
      " 21%|██        | 3472/16536 [07:39<24:09,  9.01it/s]"
     ]
    },
    {
     "name": "stdout",
     "output_type": "stream",
     "text": [
      "No valid player games data for tournament you-better-techboy-2-a-techboy-graduation-celebration__melee-1v1-singles after filtering.\n"
     ]
    },
    {
     "name": "stderr",
     "output_type": "stream",
     "text": [
      " 21%|██        | 3480/16536 [07:39<23:20,  9.32it/s]"
     ]
    },
    {
     "name": "stdout",
     "output_type": "stream",
     "text": [
      "No valid player games data for tournament swiss-summit__main-event-melee-singles after filtering.\n"
     ]
    },
    {
     "name": "stderr",
     "output_type": "stream",
     "text": [
      " 21%|██▏       | 3514/16536 [07:44<32:48,  6.62it/s]"
     ]
    },
    {
     "name": "stdout",
     "output_type": "stream",
     "text": [
      "No valid player games data for tournament yeti-weekly-254__melee-singles after filtering.\n"
     ]
    },
    {
     "name": "stderr",
     "output_type": "stream",
     "text": [
      " 22%|██▏       | 3580/16536 [07:53<30:46,  7.02it/s]"
     ]
    },
    {
     "name": "stdout",
     "output_type": "stream",
     "text": [
      "No valid player games data for tournament yeti-weekly-255__melee-singles after filtering.\n"
     ]
    },
    {
     "name": "stderr",
     "output_type": "stream",
     "text": [
      " 23%|██▎       | 3796/16536 [08:23<25:30,  8.32it/s]  "
     ]
    },
    {
     "name": "stdout",
     "output_type": "stream",
     "text": [
      "No valid player games data for tournament melee-verdugo-west-112__melee-singles after filtering.\n"
     ]
    },
    {
     "name": "stderr",
     "output_type": "stream",
     "text": [
      " 23%|██▎       | 3875/16536 [08:33<29:12,  7.22it/s]"
     ]
    },
    {
     "name": "stdout",
     "output_type": "stream",
     "text": [
      "No valid player games data for tournament illinois-state-smash-weekly-170__melee-singles after filtering.\n"
     ]
    },
    {
     "name": "stderr",
     "output_type": "stream",
     "text": [
      " 24%|██▍       | 3946/16536 [08:42<22:09,  9.47it/s]"
     ]
    },
    {
     "name": "stdout",
     "output_type": "stream",
     "text": [
      "No valid player games data for tournament neomax-10-nottingham-smash-bros-weekly-1__melee-singles after filtering.\n"
     ]
    },
    {
     "name": "stderr",
     "output_type": "stream",
     "text": [
      " 24%|██▍       | 3978/16536 [08:47<22:06,  9.46it/s]"
     ]
    },
    {
     "name": "stdout",
     "output_type": "stream",
     "text": [
      "No valid player games data for tournament low-tide-city-2021__melee-low-tier-1v1 after filtering.\n"
     ]
    },
    {
     "name": "stderr",
     "output_type": "stream",
     "text": [
      " 25%|██▍       | 4055/16536 [08:56<22:54,  9.08it/s]"
     ]
    },
    {
     "name": "stdout",
     "output_type": "stream",
     "text": [
      "No valid player games data for tournament nasb-nxt-lvl-10-13-2021__melee-singles after filtering.\n"
     ]
    },
    {
     "name": "stderr",
     "output_type": "stream",
     "text": [
      " 25%|██▍       | 4108/16536 [09:03<20:51,  9.93it/s]"
     ]
    },
    {
     "name": "stdout",
     "output_type": "stream",
     "text": [
      "No valid player games data for tournament nasb-nxt-lvl-10-20-2021__melee-singles after filtering.\n"
     ]
    },
    {
     "name": "stderr",
     "output_type": "stream",
     "text": [
      " 25%|██▍       | 4128/16536 [09:06<23:14,  8.90it/s]"
     ]
    },
    {
     "name": "stdout",
     "output_type": "stream",
     "text": [
      "No valid player games data for tournament smash-forever-6__melee-singles after filtering.\n"
     ]
    },
    {
     "name": "stderr",
     "output_type": "stream",
     "text": [
      " 25%|██▌       | 4164/16536 [09:10<25:36,  8.05it/s]"
     ]
    },
    {
     "name": "stdout",
     "output_type": "stream",
     "text": [
      "No valid player games data for tournament bowser-s-battlefield-event-10__melee-singles after filtering.\n"
     ]
    },
    {
     "name": "stderr",
     "output_type": "stream",
     "text": [
      " 25%|██▌       | 4175/16536 [09:11<29:43,  6.93it/s]"
     ]
    },
    {
     "name": "stdout",
     "output_type": "stream",
     "text": [
      "No valid player games data for tournament cu-boulder-167-10-28__melee-singles after filtering.\n",
      "No valid player games data for tournament rockfire-ix-1st-year-edition__melee-singles after filtering.\n"
     ]
    },
    {
     "name": "stderr",
     "output_type": "stream",
     "text": [
      " 25%|██▌       | 4208/16536 [09:15<25:37,  8.02it/s]"
     ]
    },
    {
     "name": "stdout",
     "output_type": "stream",
     "text": [
      "No valid player games data for tournament accel-8__melee-singles after filtering.\n"
     ]
    },
    {
     "name": "stderr",
     "output_type": "stream",
     "text": [
      " 26%|██▌       | 4228/16536 [09:18<23:15,  8.82it/s]"
     ]
    },
    {
     "name": "stdout",
     "output_type": "stream",
     "text": [
      "No valid player games data for tournament jrgb-fight-night-21__melee-singles after filtering.\n"
     ]
    },
    {
     "name": "stderr",
     "output_type": "stream",
     "text": [
      " 26%|██▌       | 4307/16536 [09:29<26:57,  7.56it/s]"
     ]
    },
    {
     "name": "stdout",
     "output_type": "stream",
     "text": [
      "No valid player games data for tournament accel-9__melee-singles after filtering.\n"
     ]
    },
    {
     "name": "stderr",
     "output_type": "stream",
     "text": [
      " 26%|██▌       | 4340/16536 [09:34<26:10,  7.77it/s]  "
     ]
    },
    {
     "name": "stdout",
     "output_type": "stream",
     "text": [
      "No valid player games data for tournament the-101-s-coffee-melee-week-15__melee-singles after filtering.\n"
     ]
    },
    {
     "name": "stderr",
     "output_type": "stream",
     "text": [
      " 26%|██▋       | 4343/16536 [09:35<22:13,  9.15it/s]"
     ]
    },
    {
     "name": "stdout",
     "output_type": "stream",
     "text": [
      "No valid player games data for tournament gote-fpf-melee-tournament-1__melee-singles after filtering.\n"
     ]
    },
    {
     "name": "stderr",
     "output_type": "stream",
     "text": [
      " 26%|██▋       | 4347/16536 [09:35<23:15,  8.74it/s]"
     ]
    },
    {
     "name": "stdout",
     "output_type": "stream",
     "text": [
      "No valid player games data for tournament bgbg-adventure-last-part__smash-melee after filtering.\n",
      "No valid player games data for tournament smashkatoon-55-social-distance-demon__melee-singles after filtering.\n",
      "No valid player games data for tournament church-of-smash-2__melee-singles after filtering.\n"
     ]
    },
    {
     "name": "stderr",
     "output_type": "stream",
     "text": [
      " 26%|██▋       | 4366/16536 [09:38<24:43,  8.21it/s]"
     ]
    },
    {
     "name": "stdout",
     "output_type": "stream",
     "text": [
      "No valid player games data for tournament meat-10__melee-singles after filtering.\n"
     ]
    },
    {
     "name": "stderr",
     "output_type": "stream",
     "text": [
      " 27%|██▋       | 4445/16536 [09:49<28:38,  7.04it/s]"
     ]
    },
    {
     "name": "stdout",
     "output_type": "stream",
     "text": [
      "No valid player games data for tournament super-spanakopita-sweetspot-7__melee-singles after filtering.\n"
     ]
    },
    {
     "name": "stderr",
     "output_type": "stream",
     "text": [
      " 27%|██▋       | 4485/16536 [09:54<24:14,  8.29it/s]"
     ]
    },
    {
     "name": "stdout",
     "output_type": "stream",
     "text": [
      "No valid player games data for tournament meat-12__melee-singles after filtering.\n"
     ]
    },
    {
     "name": "stderr",
     "output_type": "stream",
     "text": [
      " 27%|██▋       | 4502/16536 [09:57<26:08,  7.67it/s]"
     ]
    },
    {
     "name": "stdout",
     "output_type": "stream",
     "text": [
      "No valid player games data for tournament arcamini-9__melee-singles after filtering.\n"
     ]
    },
    {
     "name": "stderr",
     "output_type": "stream",
     "text": [
      " 28%|██▊       | 4556/16536 [10:04<23:17,  8.57it/s]"
     ]
    },
    {
     "name": "stdout",
     "output_type": "stream",
     "text": [
      "No valid player games data for tournament change-the-game-ssbm__melee-singles after filtering.\n"
     ]
    },
    {
     "name": "stderr",
     "output_type": "stream",
     "text": [
      " 28%|██▊       | 4572/16536 [10:07<30:36,  6.51it/s]"
     ]
    },
    {
     "name": "stdout",
     "output_type": "stream",
     "text": [
      "No valid player games data for tournament melee-verdugo-west-126__melee-singles after filtering.\n"
     ]
    },
    {
     "name": "stderr",
     "output_type": "stream",
     "text": [
      " 28%|██▊       | 4659/16536 [10:19<24:36,  8.05it/s]"
     ]
    },
    {
     "name": "stdout",
     "output_type": "stream",
     "text": [
      "No valid player games data for tournament smash-the-scene-13-presented-by-spiral-esports__melee-singles after filtering.\n"
     ]
    },
    {
     "name": "stderr",
     "output_type": "stream",
     "text": [
      " 30%|██▉       | 4919/16536 [10:57<23:54,  8.10it/s]  "
     ]
    },
    {
     "name": "stdout",
     "output_type": "stream",
     "text": [
      "No valid player games data for tournament meat-16__melee-singles after filtering.\n"
     ]
    },
    {
     "name": "stderr",
     "output_type": "stream",
     "text": [
      " 31%|███       | 5048/16536 [11:20<22:24,  8.54it/s]  "
     ]
    },
    {
     "name": "stdout",
     "output_type": "stream",
     "text": [
      "No valid player games data for tournament the-construct-152__melee-singles after filtering.\n"
     ]
    },
    {
     "name": "stderr",
     "output_type": "stream",
     "text": [
      " 32%|███▏      | 5210/16536 [11:45<36:04,  5.23it/s]  "
     ]
    },
    {
     "name": "stdout",
     "output_type": "stream",
     "text": [
      "No valid player games data for tournament smash-forever-10__melee-singles after filtering.\n"
     ]
    },
    {
     "name": "stderr",
     "output_type": "stream",
     "text": [
      " 32%|███▏      | 5265/16536 [11:52<21:54,  8.57it/s]"
     ]
    },
    {
     "name": "stdout",
     "output_type": "stream",
     "text": [
      "No valid player games data for tournament tech-chase-51__melee-singles after filtering.\n"
     ]
    },
    {
     "name": "stderr",
     "output_type": "stream",
     "text": [
      " 33%|███▎      | 5451/16536 [12:18<25:53,  7.13it/s]"
     ]
    },
    {
     "name": "stdout",
     "output_type": "stream",
     "text": [
      "No valid player games data for tournament the-stitch-face-3-victorias-ultimate-melee-weekly__super-smash-bros-melee-singles after filtering.\n"
     ]
    },
    {
     "name": "stderr",
     "output_type": "stream",
     "text": [
      " 34%|███▎      | 5561/16536 [12:34<22:34,  8.10it/s]"
     ]
    },
    {
     "name": "stdout",
     "output_type": "stream",
     "text": [
      "No valid player games data for tournament extralife-contest-sp-cial-2009-super-smash-bros-melee-12__extra-life-contest-1v1-super-smash-bros-melee after filtering.\n"
     ]
    },
    {
     "name": "stderr",
     "output_type": "stream",
     "text": [
      " 34%|███▍      | 5583/16536 [12:37<23:10,  7.88it/s]"
     ]
    },
    {
     "name": "stdout",
     "output_type": "stream",
     "text": [
      "No valid player games data for tournament emusc-46__melee-singles after filtering.\n"
     ]
    },
    {
     "name": "stderr",
     "output_type": "stream",
     "text": [
      " 34%|███▍      | 5622/16536 [12:42<19:12,  9.47it/s]"
     ]
    },
    {
     "name": "stdout",
     "output_type": "stream",
     "text": [
      "No valid player games data for tournament rize-iv-leaf-clover__melee-singles after filtering.\n"
     ]
    },
    {
     "name": "stderr",
     "output_type": "stream",
     "text": [
      " 34%|███▍      | 5630/16536 [12:43<20:03,  9.06it/s]"
     ]
    },
    {
     "name": "stdout",
     "output_type": "stream",
     "text": [
      "No valid player games data for tournament npsc-presents-madam-mojito-and-mei-s-merry-mashers__melee-singles after filtering.\n"
     ]
    },
    {
     "name": "stderr",
     "output_type": "stream",
     "text": [
      " 34%|███▍      | 5671/16536 [12:49<22:57,  7.89it/s]"
     ]
    },
    {
     "name": "stdout",
     "output_type": "stream",
     "text": [
      "No valid player games data for tournament the-nightclub-s2e16-season-finale-os-nyc__melee-singles after filtering.\n",
      "No valid player games data for tournament emusc-47__melee-singles after filtering.\n"
     ]
    },
    {
     "name": "stderr",
     "output_type": "stream",
     "text": [
      " 35%|███▍      | 5756/16536 [13:01<22:54,  7.85it/s]"
     ]
    },
    {
     "name": "stdout",
     "output_type": "stream",
     "text": [
      "No valid player games data for tournament emusc-48__melee-singles after filtering.\n"
     ]
    },
    {
     "name": "stderr",
     "output_type": "stream",
     "text": [
      " 35%|███▍      | 5760/16536 [13:01<20:13,  8.88it/s]"
     ]
    },
    {
     "name": "stdout",
     "output_type": "stream",
     "text": [
      "No valid player games data for tournament midlane-melee-28__melee-singles after filtering.\n"
     ]
    },
    {
     "name": "stderr",
     "output_type": "stream",
     "text": [
      " 35%|███▌      | 5839/16536 [13:14<21:42,  8.22it/s]  "
     ]
    },
    {
     "name": "stdout",
     "output_type": "stream",
     "text": [
      "No valid player games data for tournament stb-presents-ssbm-remix__melee-singles after filtering.\n"
     ]
    },
    {
     "name": "stderr",
     "output_type": "stream",
     "text": [
      " 35%|███▌      | 5854/16536 [13:16<20:55,  8.51it/s]"
     ]
    },
    {
     "name": "stdout",
     "output_type": "stream",
     "text": [
      "No valid player games data for tournament emusc-49__melee-singles after filtering.\n"
     ]
    },
    {
     "name": "stderr",
     "output_type": "stream",
     "text": [
      " 36%|███▌      | 5915/16536 [13:24<23:14,  7.62it/s]"
     ]
    },
    {
     "name": "stdout",
     "output_type": "stream",
     "text": [
      "No valid player games data for tournament smash-p-su-22-19-4-22__melee-singles after filtering.\n"
     ]
    },
    {
     "name": "stderr",
     "output_type": "stream",
     "text": [
      " 37%|███▋      | 6039/16536 [13:42<21:31,  8.13it/s]"
     ]
    },
    {
     "name": "stdout",
     "output_type": "stream",
     "text": [
      "No valid player games data for tournament dynasmash-melee__super-smash-bros-melee-singles after filtering.\n"
     ]
    },
    {
     "name": "stderr",
     "output_type": "stream",
     "text": [
      " 37%|███▋      | 6052/16536 [13:44<19:49,  8.81it/s]"
     ]
    },
    {
     "name": "stdout",
     "output_type": "stream",
     "text": [
      "No valid player games data for tournament eastside-rally-2__melee-singles after filtering.\n"
     ]
    },
    {
     "name": "stderr",
     "output_type": "stream",
     "text": [
      " 37%|███▋      | 6054/16536 [13:44<18:31,  9.43it/s]"
     ]
    },
    {
     "name": "stdout",
     "output_type": "stream",
     "text": [
      "No valid player games data for tournament midlane-monthly-2__melee-singles after filtering.\n"
     ]
    },
    {
     "name": "stderr",
     "output_type": "stream",
     "text": [
      " 37%|███▋      | 6086/16536 [13:49<28:09,  6.19it/s]"
     ]
    },
    {
     "name": "stdout",
     "output_type": "stream",
     "text": [
      "No valid player games data for tournament 11th-hour-smash-25__melee-singles after filtering.\n"
     ]
    },
    {
     "name": "stderr",
     "output_type": "stream",
     "text": [
      " 37%|███▋      | 6105/16536 [13:51<21:56,  7.93it/s]"
     ]
    },
    {
     "name": "stdout",
     "output_type": "stream",
     "text": [
      "No valid player games data for tournament emusc-50-the-last-testament-of-tim-bonk__melee-singles after filtering.\n"
     ]
    },
    {
     "name": "stderr",
     "output_type": "stream",
     "text": [
      " 37%|███▋      | 6191/16536 [14:04<24:13,  7.12it/s]"
     ]
    },
    {
     "name": "stdout",
     "output_type": "stream",
     "text": [
      "No valid player games data for tournament midlane-melee-33__melee-singles after filtering.\n"
     ]
    },
    {
     "name": "stderr",
     "output_type": "stream",
     "text": [
      " 38%|███▊      | 6228/16536 [14:09<17:33,  9.78it/s]"
     ]
    },
    {
     "name": "stdout",
     "output_type": "stream",
     "text": [
      "No valid player games data for tournament ramblin-man-xvi__melee-singles after filtering.\n",
      "No valid player games data for tournament lawless-melee-8__melee-singles after filtering.\n"
     ]
    },
    {
     "name": "stderr",
     "output_type": "stream",
     "text": [
      " 39%|███▉      | 6487/16536 [14:47<19:59,  8.38it/s]  "
     ]
    },
    {
     "name": "stdout",
     "output_type": "stream",
     "text": [
      "No valid player games data for tournament hypest-team-presents-revival-of-belgium-2__melee-singles after filtering.\n"
     ]
    },
    {
     "name": "stderr",
     "output_type": "stream",
     "text": [
      " 39%|███▉      | 6498/16536 [14:49<20:12,  8.28it/s]"
     ]
    },
    {
     "name": "stdout",
     "output_type": "stream",
     "text": [
      "No valid player games data for tournament hold-that-l-7__melee-singles after filtering.\n"
     ]
    },
    {
     "name": "stderr",
     "output_type": "stream",
     "text": [
      " 39%|███▉      | 6525/16536 [14:52<20:34,  8.11it/s]"
     ]
    },
    {
     "name": "stdout",
     "output_type": "stream",
     "text": [
      "No valid player games data for tournament mixed-up-1__melee-singles after filtering.\n"
     ]
    },
    {
     "name": "stderr",
     "output_type": "stream",
     "text": [
      " 40%|███▉      | 6555/16536 [14:56<18:34,  8.95it/s]"
     ]
    },
    {
     "name": "stdout",
     "output_type": "stream",
     "text": [
      "No valid player games data for tournament dmgc-smash-bros-local-26__dmgc-weekly-melee-singles-1v1-double-elim after filtering.\n"
     ]
    },
    {
     "name": "stderr",
     "output_type": "stream",
     "text": [
      " 40%|████      | 6620/16536 [15:06<27:10,  6.08it/s]"
     ]
    },
    {
     "name": "stdout",
     "output_type": "stream",
     "text": [
      "No valid player games data for tournament save-the-vods-40__melee-singles after filtering.\n"
     ]
    },
    {
     "name": "stderr",
     "output_type": "stream",
     "text": [
      " 40%|████      | 6648/16536 [15:10<19:02,  8.66it/s]"
     ]
    },
    {
     "name": "stdout",
     "output_type": "stream",
     "text": [
      "No valid player games data for tournament arcade-legacy-melee-weekly-6-16-22__arcade-legacy-melee-singles after filtering.\n"
     ]
    },
    {
     "name": "stderr",
     "output_type": "stream",
     "text": [
      " 40%|████      | 6677/16536 [15:14<18:59,  8.65it/s]"
     ]
    },
    {
     "name": "stdout",
     "output_type": "stream",
     "text": [
      "No valid player games data for tournament lawless-melee-11__melee-singles after filtering.\n"
     ]
    },
    {
     "name": "stderr",
     "output_type": "stream",
     "text": [
      " 40%|████      | 6680/16536 [15:14<17:26,  9.42it/s]"
     ]
    },
    {
     "name": "stdout",
     "output_type": "stream",
     "text": [
      "No valid player games data for tournament minnesota-monthly-melee-5__melee-singles after filtering.\n"
     ]
    },
    {
     "name": "stderr",
     "output_type": "stream",
     "text": [
      " 41%|████      | 6795/16536 [15:31<22:38,  7.17it/s]"
     ]
    },
    {
     "name": "stdout",
     "output_type": "stream",
     "text": [
      "No valid player games data for tournament mixed-up-4__melee-singles after filtering.\n"
     ]
    },
    {
     "name": "stderr",
     "output_type": "stream",
     "text": [
      " 41%|████      | 6821/16536 [15:34<22:49,  7.10it/s]"
     ]
    },
    {
     "name": "stdout",
     "output_type": "stream",
     "text": [
      "No valid player games data for tournament midlane-melee-41__melee-singles after filtering.\n"
     ]
    },
    {
     "name": "stderr",
     "output_type": "stream",
     "text": [
      " 41%|████▏     | 6837/16536 [15:37<19:12,  8.41it/s]"
     ]
    },
    {
     "name": "stdout",
     "output_type": "stream",
     "text": [
      "No valid player games data for tournament tri-city-trihard-187-goodbye-kaiju-and-q2-2022-pr__melee-singles after filtering.\n"
     ]
    },
    {
     "name": "stderr",
     "output_type": "stream",
     "text": [
      " 41%|████▏     | 6842/16536 [15:37<18:46,  8.61it/s]"
     ]
    },
    {
     "name": "stdout",
     "output_type": "stream",
     "text": [
      "No valid player games data for tournament insel-der-ruhe-4__melee-singles after filtering.\n"
     ]
    },
    {
     "name": "stderr",
     "output_type": "stream",
     "text": [
      " 42%|████▏     | 6865/16536 [15:40<23:23,  6.89it/s]"
     ]
    },
    {
     "name": "stdout",
     "output_type": "stream",
     "text": [
      "No valid player games data for tournament melee-verdugo-west-152-independence-day-edition-1__melee-singles after filtering.\n"
     ]
    },
    {
     "name": "stderr",
     "output_type": "stream",
     "text": [
      " 42%|████▏     | 6901/16536 [15:46<23:40,  6.78it/s]"
     ]
    },
    {
     "name": "stdout",
     "output_type": "stream",
     "text": [
      "No valid player games data for tournament man-on-a-ledge-423__melee-singles after filtering.\n"
     ]
    },
    {
     "name": "stderr",
     "output_type": "stream",
     "text": [
      " 42%|████▏     | 6927/16536 [15:49<17:15,  9.28it/s]"
     ]
    },
    {
     "name": "stdout",
     "output_type": "stream",
     "text": [
      "No valid player games data for tournament oceanfront-3-space-and-sea-250-pot-bonus__melee-singles after filtering.\n"
     ]
    },
    {
     "name": "stderr",
     "output_type": "stream",
     "text": [
      " 42%|████▏     | 6936/16536 [15:50<21:39,  7.39it/s]"
     ]
    },
    {
     "name": "stdout",
     "output_type": "stream",
     "text": [
      "No valid player games data for tournament mixed-up-6-double-down-watch-party__melee-singles after filtering.\n"
     ]
    },
    {
     "name": "stderr",
     "output_type": "stream",
     "text": [
      " 42%|████▏     | 6965/16536 [15:55<19:51,  8.03it/s]"
     ]
    },
    {
     "name": "stdout",
     "output_type": "stream",
     "text": [
      "No valid player games data for tournament phazer-kraze-53-union-meeting-before-we-head-to-the__melee-singles after filtering.\n"
     ]
    },
    {
     "name": "stderr",
     "output_type": "stream",
     "text": [
      " 42%|████▏     | 6993/16536 [15:59<17:38,  9.02it/s]"
     ]
    },
    {
     "name": "stdout",
     "output_type": "stream",
     "text": [
      "No valid player games data for tournament quit-your-friendlies-4-smash-fgc-regional-1000-pot-bonus__melee-singles-600-pot-bonus after filtering.\n"
     ]
    },
    {
     "name": "stderr",
     "output_type": "stream",
     "text": [
      " 42%|████▏     | 7014/16536 [16:02<20:42,  7.66it/s]"
     ]
    },
    {
     "name": "stdout",
     "output_type": "stream",
     "text": [
      "No valid player games data for tournament extralife-contest-melee-21__extra-life-contest-1v1-super-smash-bros-melee after filtering.\n"
     ]
    },
    {
     "name": "stderr",
     "output_type": "stream",
     "text": [
      " 43%|████▎     | 7050/16536 [16:07<20:36,  7.67it/s]"
     ]
    },
    {
     "name": "stdout",
     "output_type": "stream",
     "text": [
      "No valid player games data for tournament dmgc-smash-bros-local-32__dmgc-weekly-melee-singles-1v1-double-elim after filtering.\n"
     ]
    },
    {
     "name": "stderr",
     "output_type": "stream",
     "text": [
      " 43%|████▎     | 7052/16536 [16:07<35:30,  4.45it/s]"
     ]
    },
    {
     "name": "stdout",
     "output_type": "stream",
     "text": [
      "No valid player games data for tournament moonwalk-tournament-series-8__melee-top-12 after filtering.\n"
     ]
    },
    {
     "name": "stderr",
     "output_type": "stream",
     "text": [
      " 43%|████▎     | 7090/16536 [16:13<20:31,  7.67it/s]"
     ]
    },
    {
     "name": "stdout",
     "output_type": "stream",
     "text": [
      "No valid player games data for tournament melee-og-ultimate-doubles__melee-singles after filtering.\n"
     ]
    },
    {
     "name": "stderr",
     "output_type": "stream",
     "text": [
      " 43%|████▎     | 7167/16536 [16:25<21:13,  7.36it/s]  "
     ]
    },
    {
     "name": "stdout",
     "output_type": "stream",
     "text": [
      "No valid player games data for tournament get-to-the-point-3__melee-singles after filtering.\n"
     ]
    },
    {
     "name": "stderr",
     "output_type": "stream",
     "text": [
      " 43%|████▎     | 7175/16536 [16:26<18:40,  8.36it/s]"
     ]
    },
    {
     "name": "stdout",
     "output_type": "stream",
     "text": [
      "No valid player games data for tournament lawless-melee-14__melee-singles after filtering.\n"
     ]
    },
    {
     "name": "stderr",
     "output_type": "stream",
     "text": [
      " 43%|████▎     | 7180/16536 [16:27<24:31,  6.36it/s]"
     ]
    },
    {
     "name": "stdout",
     "output_type": "stream",
     "text": [
      "No valid player games data for tournament sudden-death-ii-victorias-last-minute-tournament__melee-singles-sudden-death-mode after filtering.\n"
     ]
    },
    {
     "name": "stderr",
     "output_type": "stream",
     "text": [
      " 44%|████▎     | 7204/16536 [16:31<19:06,  8.14it/s]"
     ]
    },
    {
     "name": "stdout",
     "output_type": "stream",
     "text": [
      "No valid player games data for tournament come-for-the-crown-46-bye-bye-blue__melee-singles after filtering.\n"
     ]
    },
    {
     "name": "stderr",
     "output_type": "stream",
     "text": [
      " 44%|████▍     | 7334/16536 [16:50<17:36,  8.71it/s]"
     ]
    },
    {
     "name": "stdout",
     "output_type": "stream",
     "text": [
      "No valid player games data for tournament smash-sauna-2022__melee-singles after filtering.\n"
     ]
    },
    {
     "name": "stderr",
     "output_type": "stream",
     "text": [
      " 45%|████▌     | 7477/16536 [17:11<22:12,  6.80it/s]"
     ]
    },
    {
     "name": "stdout",
     "output_type": "stream",
     "text": [
      "No valid player games data for tournament the-nightclub-s4e6-os-nyc__melee-singles after filtering.\n"
     ]
    },
    {
     "name": "stderr",
     "output_type": "stream",
     "text": [
      " 45%|████▌     | 7507/16536 [17:16<19:10,  7.85it/s]"
     ]
    },
    {
     "name": "stdout",
     "output_type": "stream",
     "text": [
      "No valid player games data for tournament uc-smash-fall-weekly-1-8-27-22__melee-singles after filtering.\n"
     ]
    },
    {
     "name": "stderr",
     "output_type": "stream",
     "text": [
      " 45%|████▌     | 7515/16536 [17:17<19:13,  7.82it/s]"
     ]
    },
    {
     "name": "stdout",
     "output_type": "stream",
     "text": [
      "No valid player games data for tournament run-don-t-walk-an-iowa-smash-regional-1-100__melee-singles after filtering.\n"
     ]
    },
    {
     "name": "stderr",
     "output_type": "stream",
     "text": [
      " 46%|████▌     | 7545/16536 [17:21<26:09,  5.73it/s]"
     ]
    },
    {
     "name": "stdout",
     "output_type": "stream",
     "text": [
      "No valid player games data for tournament melee-verdugo-west-160__melee-singles after filtering.\n"
     ]
    },
    {
     "name": "stderr",
     "output_type": "stream",
     "text": [
      " 46%|████▌     | 7604/16536 [17:30<23:15,  6.40it/s]"
     ]
    },
    {
     "name": "stdout",
     "output_type": "stream",
     "text": [
      "No valid player games data for tournament shabang-s-quest-4-1__melee-singles after filtering.\n"
     ]
    },
    {
     "name": "stderr",
     "output_type": "stream",
     "text": [
      " 47%|████▋     | 7690/16536 [17:43<19:54,  7.40it/s]"
     ]
    },
    {
     "name": "stdout",
     "output_type": "stream",
     "text": [
      "No valid player games data for tournament s-ps-146__melee-singles after filtering.\n"
     ]
    },
    {
     "name": "stderr",
     "output_type": "stream",
     "text": [
      " 47%|████▋     | 7731/16536 [17:49<19:10,  7.65it/s]"
     ]
    },
    {
     "name": "stdout",
     "output_type": "stream",
     "text": [
      "No valid player games data for tournament take-the-l-2-1__melee-singles-70-pot-bonus after filtering.\n"
     ]
    },
    {
     "name": "stderr",
     "output_type": "stream",
     "text": [
      " 47%|████▋     | 7771/16536 [17:55<19:08,  7.63it/s]"
     ]
    },
    {
     "name": "stdout",
     "output_type": "stream",
     "text": [
      "No valid player games data for tournament shabang-s-quest-5__melee-singles after filtering.\n"
     ]
    },
    {
     "name": "stderr",
     "output_type": "stream",
     "text": [
      " 48%|████▊     | 7913/16536 [18:16<19:04,  7.53it/s]  "
     ]
    },
    {
     "name": "stdout",
     "output_type": "stream",
     "text": [
      "No valid player games data for tournament take-the-l-4-1__melee-singles after filtering.\n"
     ]
    },
    {
     "name": "stderr",
     "output_type": "stream",
     "text": [
      " 48%|████▊     | 7942/16536 [18:21<17:01,  8.41it/s]"
     ]
    },
    {
     "name": "stdout",
     "output_type": "stream",
     "text": [
      "No valid player games data for tournament nice-brizzy-local-october-1st__melee-singles after filtering.\n"
     ]
    },
    {
     "name": "stderr",
     "output_type": "stream",
     "text": [
      " 48%|████▊     | 7953/16536 [18:22<16:03,  8.91it/s]"
     ]
    },
    {
     "name": "stdout",
     "output_type": "stream",
     "text": [
      "No valid player games data for tournament the-blue-demon-arcadian__melee-arcadian-singles after filtering.\n"
     ]
    },
    {
     "name": "stderr",
     "output_type": "stream",
     "text": [
      " 48%|████▊     | 7995/16536 [18:28<18:21,  7.75it/s]"
     ]
    },
    {
     "name": "stdout",
     "output_type": "stream",
     "text": [
      "No valid player games data for tournament meat-50__melee-singles after filtering.\n"
     ]
    },
    {
     "name": "stderr",
     "output_type": "stream",
     "text": [
      " 48%|████▊     | 8013/16536 [18:31<17:23,  8.17it/s]"
     ]
    },
    {
     "name": "stdout",
     "output_type": "stream",
     "text": [
      "No valid player games data for tournament take-the-l-5-2__melee-singles after filtering.\n"
     ]
    },
    {
     "name": "stderr",
     "output_type": "stream",
     "text": [
      " 49%|████▊     | 8037/16536 [18:34<15:38,  9.05it/s]"
     ]
    },
    {
     "name": "stdout",
     "output_type": "stream",
     "text": [
      "No valid player games data for tournament smash-at-seattle-u-melee-10-7__melee-singles after filtering.\n"
     ]
    },
    {
     "name": "stderr",
     "output_type": "stream",
     "text": [
      " 49%|████▉     | 8095/16536 [18:43<22:08,  6.35it/s]"
     ]
    },
    {
     "name": "stdout",
     "output_type": "stream",
     "text": [
      "No valid player games data for tournament take-the-l-6__melee-singles after filtering.\n"
     ]
    },
    {
     "name": "stderr",
     "output_type": "stream",
     "text": [
      " 49%|████▉     | 8106/16536 [18:44<34:25,  4.08it/s]"
     ]
    },
    {
     "name": "stdout",
     "output_type": "stream",
     "text": [
      "No valid player games data for tournament redbird-smash-weekly-8__melee-singles after filtering.\n"
     ]
    },
    {
     "name": "stderr",
     "output_type": "stream",
     "text": [
      " 49%|████▉     | 8118/16536 [18:46<16:09,  8.68it/s]"
     ]
    },
    {
     "name": "stdout",
     "output_type": "stream",
     "text": [
      "No valid player games data for tournament smash-the-cave-etsu-36__melee-singles after filtering.\n"
     ]
    },
    {
     "name": "stderr",
     "output_type": "stream",
     "text": [
      " 49%|████▉     | 8123/16536 [18:47<23:27,  5.98it/s]"
     ]
    },
    {
     "name": "stdout",
     "output_type": "stream",
     "text": [
      "No valid player games data for tournament the-den-3-fall-2022-1__melee-singles after filtering.\n"
     ]
    },
    {
     "name": "stderr",
     "output_type": "stream",
     "text": [
      " 49%|████▉     | 8136/16536 [18:49<15:13,  9.19it/s]"
     ]
    },
    {
     "name": "stdout",
     "output_type": "stream",
     "text": [
      "No valid player games data for tournament controller-spike-3-1__melee-singles after filtering.\n"
     ]
    },
    {
     "name": "stderr",
     "output_type": "stream",
     "text": [
      " 49%|████▉     | 8140/16536 [18:49<16:45,  8.35it/s]"
     ]
    },
    {
     "name": "stdout",
     "output_type": "stream",
     "text": [
      "No valid player games data for tournament lawless-melee-17__melee-singles after filtering.\n"
     ]
    },
    {
     "name": "stderr",
     "output_type": "stream",
     "text": [
      " 49%|████▉     | 8145/16536 [18:50<15:26,  9.06it/s]"
     ]
    },
    {
     "name": "stdout",
     "output_type": "stream",
     "text": [
      "No valid player games data for tournament dreamhack-rotterdam-smash-championship-2022__melee-side-event-old-school-ruleset-tournament after filtering.\n"
     ]
    },
    {
     "name": "stderr",
     "output_type": "stream",
     "text": [
      " 49%|████▉     | 8152/16536 [18:50<15:52,  8.81it/s]"
     ]
    },
    {
     "name": "stdout",
     "output_type": "stream",
     "text": [
      "No valid player games data for tournament the-oven-smash-bros-weekly-21__smash-melee-singles-bracket after filtering.\n"
     ]
    },
    {
     "name": "stderr",
     "output_type": "stream",
     "text": [
      " 49%|████▉     | 8160/16536 [18:52<16:06,  8.66it/s]"
     ]
    },
    {
     "name": "stdout",
     "output_type": "stream",
     "text": [
      "No valid player games data for tournament victory-road-fall-2022-5__melee-singles after filtering.\n"
     ]
    },
    {
     "name": "stderr",
     "output_type": "stream",
     "text": [
      " 50%|████▉     | 8219/16536 [19:00<19:30,  7.11it/s]"
     ]
    },
    {
     "name": "stdout",
     "output_type": "stream",
     "text": [
      "No valid player games data for tournament rold-gold-requiem-5__melee-singles after filtering.\n"
     ]
    },
    {
     "name": "stderr",
     "output_type": "stream",
     "text": [
      " 50%|█████     | 8311/16536 [19:14<17:12,  7.97it/s]"
     ]
    },
    {
     "name": "stdout",
     "output_type": "stream",
     "text": [
      "No valid player games data for tournament super-smash-jacks-132__melee-singles after filtering.\n"
     ]
    },
    {
     "name": "stderr",
     "output_type": "stream",
     "text": [
      " 50%|█████     | 8322/16536 [19:15<15:40,  8.73it/s]"
     ]
    },
    {
     "name": "stdout",
     "output_type": "stream",
     "text": [
      "No valid player games data for tournament smash-saglac-weekly-season-3-6__melee-singles after filtering.\n"
     ]
    },
    {
     "name": "stderr",
     "output_type": "stream",
     "text": [
      " 51%|█████     | 8360/16536 [19:21<16:01,  8.50it/s]"
     ]
    },
    {
     "name": "stdout",
     "output_type": "stream",
     "text": [
      "No valid player games data for tournament scrims-showdown-56__melee-singles after filtering.\n"
     ]
    },
    {
     "name": "stderr",
     "output_type": "stream",
     "text": [
      " 51%|█████     | 8416/16536 [19:29<17:16,  7.83it/s]"
     ]
    },
    {
     "name": "stdout",
     "output_type": "stream",
     "text": [
      "No valid player games data for tournament sfu-melee-biweekly-1-the-return-sponsored-by-galint-gaming__melee-singles after filtering.\n"
     ]
    },
    {
     "name": "stderr",
     "output_type": "stream",
     "text": [
      " 51%|█████     | 8435/16536 [19:32<15:16,  8.84it/s]"
     ]
    },
    {
     "name": "stdout",
     "output_type": "stream",
     "text": [
      "No valid player games data for tournament lawless-melee-19__melee-singles after filtering.\n"
     ]
    },
    {
     "name": "stderr",
     "output_type": "stream",
     "text": [
      " 51%|█████▏    | 8498/16536 [19:41<17:40,  7.58it/s]"
     ]
    },
    {
     "name": "stdout",
     "output_type": "stream",
     "text": [
      "No valid player games data for tournament melee-dal-1-the-return-of-melee-in-halifax__melee-singles after filtering.\n"
     ]
    },
    {
     "name": "stderr",
     "output_type": "stream",
     "text": [
      " 52%|█████▏    | 8529/16536 [19:45<16:16,  8.20it/s]"
     ]
    },
    {
     "name": "stdout",
     "output_type": "stream",
     "text": [
      "No valid player games data for tournament the-prowling-grounds-71__melee-singles after filtering.\n"
     ]
    },
    {
     "name": "stderr",
     "output_type": "stream",
     "text": [
      " 53%|█████▎    | 8691/16536 [20:09<15:52,  8.24it/s]"
     ]
    },
    {
     "name": "stdout",
     "output_type": "stream",
     "text": [
      "No valid player games data for tournament meat-55__melee-singles after filtering.\n"
     ]
    },
    {
     "name": "stderr",
     "output_type": "stream",
     "text": [
      " 53%|█████▎    | 8836/16536 [20:32<17:32,  7.32it/s]  "
     ]
    },
    {
     "name": "stdout",
     "output_type": "stream",
     "text": [
      "No valid player games data for tournament super-moal-ii-turbo__fighting-wire-frame-melee after filtering.\n"
     ]
    },
    {
     "name": "stderr",
     "output_type": "stream",
     "text": [
      " 54%|█████▎    | 8876/16536 [20:38<18:27,  6.91it/s]"
     ]
    },
    {
     "name": "stdout",
     "output_type": "stream",
     "text": [
      "No valid player games data for tournament melee-verdugo-west-174__melee-singles after filtering.\n"
     ]
    },
    {
     "name": "stderr",
     "output_type": "stream",
     "text": [
      " 54%|█████▍    | 8930/16536 [20:46<15:55,  7.96it/s]"
     ]
    },
    {
     "name": "stdout",
     "output_type": "stream",
     "text": [
      "No valid player games data for tournament dave-s-stupid-tourney-sdiowa-3-qualifying-spot-on-the__melee-singles after filtering.\n"
     ]
    },
    {
     "name": "stderr",
     "output_type": "stream",
     "text": [
      " 54%|█████▍    | 8972/16536 [20:52<15:32,  8.11it/s]"
     ]
    },
    {
     "name": "stdout",
     "output_type": "stream",
     "text": [
      "No valid player games data for tournament battle-tower-tuesdays-14__melee-singles after filtering.\n"
     ]
    },
    {
     "name": "stderr",
     "output_type": "stream",
     "text": [
      " 54%|█████▍    | 8998/16536 [20:56<16:47,  7.48it/s]"
     ]
    },
    {
     "name": "stdout",
     "output_type": "stream",
     "text": [
      "No valid player games data for tournament midwest-melee-madness-at-esa-kc-17-100-prize-pot-1__melee-singles after filtering.\n",
      "No valid player games data for tournament the-truth-christmas-shakshouka__melee-singles after filtering.\n"
     ]
    },
    {
     "name": "stderr",
     "output_type": "stream",
     "text": [
      " 54%|█████▍    | 9001/16536 [20:56<14:45,  8.51it/s]"
     ]
    },
    {
     "name": "stdout",
     "output_type": "stream",
     "text": [
      "No valid player games data for tournament autopilot-club-12__melee-singles after filtering.\n"
     ]
    },
    {
     "name": "stderr",
     "output_type": "stream",
     "text": [
      " 54%|█████▍    | 9009/16536 [20:57<13:47,  9.10it/s]"
     ]
    },
    {
     "name": "stdout",
     "output_type": "stream",
     "text": [
      "No valid player games data for tournament xentric-gaming-let-s-brawl-4__melee-singles after filtering.\n"
     ]
    },
    {
     "name": "stderr",
     "output_type": "stream",
     "text": [
      " 55%|█████▍    | 9014/16536 [20:58<14:13,  8.81it/s]"
     ]
    },
    {
     "name": "stdout",
     "output_type": "stream",
     "text": [
      "No valid player games data for tournament fullvenue-manawerx-the-arcadian-2022__melee-singles after filtering.\n"
     ]
    },
    {
     "name": "stderr",
     "output_type": "stream",
     "text": [
      " 55%|█████▍    | 9019/16536 [20:58<14:40,  8.54it/s]"
     ]
    },
    {
     "name": "stdout",
     "output_type": "stream",
     "text": [
      "No valid player games data for tournament finnish-melee-league-2022-finals__fml2022-top-8-final-bracket after filtering.\n"
     ]
    },
    {
     "name": "stderr",
     "output_type": "stream",
     "text": [
      " 55%|█████▍    | 9023/16536 [20:59<16:40,  7.51it/s]"
     ]
    },
    {
     "name": "stdout",
     "output_type": "stream",
     "text": [
      "No valid player games data for tournament flynn-s-arcade-068__super-smash-bros-melee-weekly after filtering.\n"
     ]
    },
    {
     "name": "stderr",
     "output_type": "stream",
     "text": [
      " 56%|█████▌    | 9216/16536 [21:28<14:50,  8.22it/s]"
     ]
    },
    {
     "name": "stdout",
     "output_type": "stream",
     "text": [
      "No valid player games data for tournament moonlight-showdown-2__melee-singles after filtering.\n"
     ]
    },
    {
     "name": "stderr",
     "output_type": "stream",
     "text": [
      " 56%|█████▌    | 9222/16536 [21:29<15:21,  7.94it/s]"
     ]
    },
    {
     "name": "stdout",
     "output_type": "stream",
     "text": [
      "No valid player games data for tournament adam-s-smash-series-43-new-ucf__melee-singles after filtering.\n"
     ]
    },
    {
     "name": "stderr",
     "output_type": "stream",
     "text": [
      " 56%|█████▌    | 9243/16536 [21:31<15:19,  7.93it/s]"
     ]
    },
    {
     "name": "stdout",
     "output_type": "stream",
     "text": [
      "No valid player games data for tournament free-fridays-1-nauvoo-knockout__melee-singles after filtering.\n"
     ]
    },
    {
     "name": "stderr",
     "output_type": "stream",
     "text": [
      " 56%|█████▌    | 9250/16536 [21:32<13:25,  9.05it/s]"
     ]
    },
    {
     "name": "stdout",
     "output_type": "stream",
     "text": [
      "No valid player games data for tournament the-smash-inn-4__melee-singles after filtering.\n"
     ]
    },
    {
     "name": "stderr",
     "output_type": "stream",
     "text": [
      " 56%|█████▌    | 9287/16536 [21:38<16:19,  7.40it/s]"
     ]
    },
    {
     "name": "stdout",
     "output_type": "stream",
     "text": [
      "No valid player games data for tournament mlkame-house-weekly-20__melee-singles after filtering.\n"
     ]
    },
    {
     "name": "stderr",
     "output_type": "stream",
     "text": [
      " 56%|█████▌    | 9298/16536 [21:39<13:51,  8.70it/s]"
     ]
    },
    {
     "name": "stdout",
     "output_type": "stream",
     "text": [
      "No valid player games data for tournament rubesday-199__melee-singles after filtering.\n"
     ]
    },
    {
     "name": "stderr",
     "output_type": "stream",
     "text": [
      " 56%|█████▋    | 9338/16536 [21:45<14:30,  8.27it/s]"
     ]
    },
    {
     "name": "stdout",
     "output_type": "stream",
     "text": [
      "No valid player games data for tournament sfu-melee-biweekly-3-sponsored-by-galint-gaming__melee-singles after filtering.\n"
     ]
    },
    {
     "name": "stderr",
     "output_type": "stream",
     "text": [
      " 57%|█████▋    | 9355/16536 [21:48<15:17,  7.83it/s]"
     ]
    },
    {
     "name": "stdout",
     "output_type": "stream",
     "text": [
      "No valid player games data for tournament the-roundhouse-invitational-gold-experience__melee-singles after filtering.\n"
     ]
    },
    {
     "name": "stderr",
     "output_type": "stream",
     "text": [
      " 57%|█████▋    | 9409/16536 [21:56<16:46,  7.08it/s]"
     ]
    },
    {
     "name": "stdout",
     "output_type": "stream",
     "text": [
      "No valid player games data for tournament midlane-melee-67-1__melee-singles after filtering.\n"
     ]
    },
    {
     "name": "stderr",
     "output_type": "stream",
     "text": [
      " 57%|█████▋    | 9421/16536 [21:58<16:51,  7.03it/s]"
     ]
    },
    {
     "name": "stdout",
     "output_type": "stream",
     "text": [
      "No valid player games data for tournament come-to-the-weekly-56__melee-singles after filtering.\n"
     ]
    },
    {
     "name": "stderr",
     "output_type": "stream",
     "text": [
      " 57%|█████▋    | 9450/16536 [22:02<14:08,  8.35it/s]"
     ]
    },
    {
     "name": "stdout",
     "output_type": "stream",
     "text": [
      "No valid player games data for tournament vfgc-monthly-8__melee-singles after filtering.\n"
     ]
    },
    {
     "name": "stderr",
     "output_type": "stream",
     "text": [
      " 57%|█████▋    | 9455/16536 [22:02<14:48,  7.97it/s]"
     ]
    },
    {
     "name": "stdout",
     "output_type": "stream",
     "text": [
      "No valid player games data for tournament m-series-8-500s-for-5v5-regional-crews__melee-singles after filtering.\n"
     ]
    },
    {
     "name": "stderr",
     "output_type": "stream",
     "text": [
      " 57%|█████▋    | 9484/16536 [22:06<14:06,  8.33it/s]"
     ]
    },
    {
     "name": "stdout",
     "output_type": "stream",
     "text": [
      "No valid player games data for tournament touch-grass-26__melee-singles after filtering.\n"
     ]
    },
    {
     "name": "stderr",
     "output_type": "stream",
     "text": [
      " 57%|█████▋    | 9489/16536 [22:07<14:45,  7.96it/s]"
     ]
    },
    {
     "name": "stdout",
     "output_type": "stream",
     "text": [
      "No valid player games data for tournament the-mixer-01__melee-singles after filtering.\n"
     ]
    },
    {
     "name": "stderr",
     "output_type": "stream",
     "text": [
      " 57%|█████▋    | 9491/16536 [22:07<15:51,  7.40it/s]"
     ]
    },
    {
     "name": "stdout",
     "output_type": "stream",
     "text": [
      "No valid player games data for tournament melee-verdugo-west-182__melee-singles after filtering.\n"
     ]
    },
    {
     "name": "stderr",
     "output_type": "stream",
     "text": [
      " 57%|█████▋    | 9497/16536 [22:08<15:07,  7.75it/s]"
     ]
    },
    {
     "name": "stdout",
     "output_type": "stream",
     "text": [
      "No valid player games data for tournament tech-chase-75__melee-singles after filtering.\n"
     ]
    },
    {
     "name": "stderr",
     "output_type": "stream",
     "text": [
      " 58%|█████▊    | 9520/16536 [22:12<14:12,  8.23it/s]"
     ]
    },
    {
     "name": "stdout",
     "output_type": "stream",
     "text": [
      "No valid player games data for tournament yeti-weekly-318__melee-singles after filtering.\n"
     ]
    },
    {
     "name": "stderr",
     "output_type": "stream",
     "text": [
      " 58%|█████▊    | 9605/16536 [22:24<15:16,  7.56it/s]"
     ]
    },
    {
     "name": "stdout",
     "output_type": "stream",
     "text": [
      "No valid player games data for tournament kame-house-weekly-23__melee-singles after filtering.\n"
     ]
    },
    {
     "name": "stderr",
     "output_type": "stream",
     "text": [
      " 58%|█████▊    | 9613/16536 [22:25<14:45,  7.82it/s]"
     ]
    },
    {
     "name": "stdout",
     "output_type": "stream",
     "text": [
      "No valid player games data for tournament tech-chase-76__melee-singles after filtering.\n"
     ]
    },
    {
     "name": "stderr",
     "output_type": "stream",
     "text": [
      " 58%|█████▊    | 9627/16536 [22:29<38:08,  3.02it/s]  "
     ]
    },
    {
     "name": "stdout",
     "output_type": "stream",
     "text": [
      "No valid player games data for tournament midlane-melee-69-1__melee-singles after filtering.\n"
     ]
    },
    {
     "name": "stderr",
     "output_type": "stream",
     "text": [
      " 58%|█████▊    | 9633/16536 [22:30<18:35,  6.19it/s]"
     ]
    },
    {
     "name": "stdout",
     "output_type": "stream",
     "text": [
      "No valid player games data for tournament smash-the-scene-55-presented-by-spiral-esports__melee-singles after filtering.\n"
     ]
    },
    {
     "name": "stderr",
     "output_type": "stream",
     "text": [
      " 59%|█████▊    | 9685/16536 [22:39<14:48,  7.71it/s]"
     ]
    },
    {
     "name": "stdout",
     "output_type": "stream",
     "text": [
      "No valid player games data for tournament dng-showdown-02-11__melee-singles after filtering.\n"
     ]
    },
    {
     "name": "stderr",
     "output_type": "stream",
     "text": [
      " 59%|█████▉    | 9764/16536 [22:50<13:42,  8.24it/s]"
     ]
    },
    {
     "name": "stdout",
     "output_type": "stream",
     "text": [
      "No valid player games data for tournament midwest-melee-madness-at-esa-kc-25-100-prize-pot__melee-singles after filtering.\n"
     ]
    },
    {
     "name": "stderr",
     "output_type": "stream",
     "text": [
      " 59%|█████▉    | 9780/16536 [22:52<12:32,  8.98it/s]"
     ]
    },
    {
     "name": "stdout",
     "output_type": "stream",
     "text": [
      "No valid player games data for tournament coal-monthly-12__melee-singles after filtering.\n"
     ]
    },
    {
     "name": "stderr",
     "output_type": "stream",
     "text": [
      " 59%|█████▉    | 9811/16536 [22:57<16:35,  6.75it/s]"
     ]
    },
    {
     "name": "stdout",
     "output_type": "stream",
     "text": [
      "No valid player games data for tournament kame-house-weekly-25-hbd-bag-omega4summit__melee-singles after filtering.\n"
     ]
    },
    {
     "name": "stderr",
     "output_type": "stream",
     "text": [
      " 59%|█████▉    | 9819/16536 [22:58<13:32,  8.27it/s]"
     ]
    },
    {
     "name": "stdout",
     "output_type": "stream",
     "text": [
      "No valid player games data for tournament cmpg-151__melee-singles after filtering.\n"
     ]
    },
    {
     "name": "stderr",
     "output_type": "stream",
     "text": [
      " 60%|█████▉    | 9866/16536 [23:05<13:55,  7.99it/s]"
     ]
    },
    {
     "name": "stdout",
     "output_type": "stream",
     "text": [
      "No valid player games data for tournament sdsu-biweekly-2-into-the-night__melee-singles after filtering.\n"
     ]
    },
    {
     "name": "stderr",
     "output_type": "stream",
     "text": [
      " 60%|█████▉    | 9915/16536 [23:12<14:03,  7.85it/s]"
     ]
    },
    {
     "name": "stdout",
     "output_type": "stream",
     "text": [
      "No valid player games data for tournament touch-grass-30__melee-singles after filtering.\n"
     ]
    },
    {
     "name": "stderr",
     "output_type": "stream",
     "text": [
      " 60%|██████    | 9987/16536 [23:23<13:35,  8.03it/s]"
     ]
    },
    {
     "name": "stdout",
     "output_type": "stream",
     "text": [
      "No valid player games data for tournament change__melee-singles after filtering.\n"
     ]
    },
    {
     "name": "stderr",
     "output_type": "stream",
     "text": [
      " 61%|██████    | 10009/16536 [23:27<14:18,  7.61it/s]"
     ]
    },
    {
     "name": "stdout",
     "output_type": "stream",
     "text": [
      "No valid player games data for tournament sweet-spot-7-1500-pot-bonus__melee-singles after filtering.\n"
     ]
    },
    {
     "name": "stderr",
     "output_type": "stream",
     "text": [
      " 61%|██████    | 10011/16536 [23:27<15:21,  7.08it/s]"
     ]
    },
    {
     "name": "stdout",
     "output_type": "stream",
     "text": [
      "No valid player games data for tournament michael-s-melee-mondays-9__melee-singles after filtering.\n"
     ]
    },
    {
     "name": "stderr",
     "output_type": "stream",
     "text": [
      " 61%|██████    | 10119/16536 [23:44<13:40,  7.82it/s]"
     ]
    },
    {
     "name": "stdout",
     "output_type": "stream",
     "text": [
      "No valid player games data for tournament starlight-road-5__melee-singles after filtering.\n"
     ]
    },
    {
     "name": "stderr",
     "output_type": "stream",
     "text": [
      " 61%|██████    | 10121/16536 [23:44<13:17,  8.04it/s]"
     ]
    },
    {
     "name": "stdout",
     "output_type": "stream",
     "text": [
      "No valid player games data for tournament tech-chase-81__melee-singles after filtering.\n"
     ]
    },
    {
     "name": "stderr",
     "output_type": "stream",
     "text": [
      " 61%|██████▏   | 10142/16536 [23:47<13:25,  7.93it/s]"
     ]
    },
    {
     "name": "stdout",
     "output_type": "stream",
     "text": [
      "No valid player games data for tournament dreamers-1__melee-singles after filtering.\n"
     ]
    },
    {
     "name": "stderr",
     "output_type": "stream",
     "text": [
      " 62%|██████▏   | 10183/16536 [23:53<13:18,  7.96it/s]"
     ]
    },
    {
     "name": "stdout",
     "output_type": "stream",
     "text": [
      "No valid player games data for tournament lawless-melee-26__melee-singles after filtering.\n"
     ]
    },
    {
     "name": "stderr",
     "output_type": "stream",
     "text": [
      " 62%|██████▏   | 10236/16536 [24:02<12:32,  8.37it/s]"
     ]
    },
    {
     "name": "stdout",
     "output_type": "stream",
     "text": [
      "No valid player games data for tournament arcade-legacy-melee-weekly-3-23-23__melee-singles after filtering.\n"
     ]
    },
    {
     "name": "stderr",
     "output_type": "stream",
     "text": [
      " 62%|██████▏   | 10264/16536 [24:06<12:24,  8.43it/s]"
     ]
    },
    {
     "name": "stdout",
     "output_type": "stream",
     "text": [
      "No valid player games data for tournament nck-30__melee-singles after filtering.\n"
     ]
    },
    {
     "name": "stderr",
     "output_type": "stream",
     "text": [
      " 62%|██████▏   | 10268/16536 [24:06<12:54,  8.09it/s]"
     ]
    },
    {
     "name": "stdout",
     "output_type": "stream",
     "text": [
      "No valid player games data for tournament umassd-smash-club-reunion-2023__melee-singles after filtering.\n"
     ]
    },
    {
     "name": "stderr",
     "output_type": "stream",
     "text": [
      " 62%|██████▏   | 10273/16536 [24:07<12:17,  8.50it/s]"
     ]
    },
    {
     "name": "stdout",
     "output_type": "stream",
     "text": [
      "No valid player games data for tournament minnesota-monthly-melee-13__melee-singles after filtering.\n"
     ]
    },
    {
     "name": "stderr",
     "output_type": "stream",
     "text": [
      " 63%|██████▎   | 10391/16536 [24:24<12:33,  8.15it/s]"
     ]
    },
    {
     "name": "stdout",
     "output_type": "stream",
     "text": [
      "No valid player games data for tournament kbit-2023__melee-singles after filtering.\n"
     ]
    },
    {
     "name": "stderr",
     "output_type": "stream",
     "text": [
      " 63%|██████▎   | 10393/16536 [24:24<11:45,  8.70it/s]"
     ]
    },
    {
     "name": "stdout",
     "output_type": "stream",
     "text": [
      "No valid player games data for tournament dead-zone-2-2__ssbm-singles-1v1 after filtering.\n"
     ]
    },
    {
     "name": "stderr",
     "output_type": "stream",
     "text": [
      " 63%|██████▎   | 10467/16536 [24:36<12:23,  8.16it/s]"
     ]
    },
    {
     "name": "stdout",
     "output_type": "stream",
     "text": [
      "No valid player games data for tournament into-the-night-5-sdsu-biweekly__melee-singles after filtering.\n"
     ]
    },
    {
     "name": "stderr",
     "output_type": "stream",
     "text": [
      " 63%|██████▎   | 10480/16536 [24:38<12:15,  8.23it/s]"
     ]
    },
    {
     "name": "stdout",
     "output_type": "stream",
     "text": [
      "No valid player games data for tournament forest-city-fights__melee-singles after filtering.\n"
     ]
    },
    {
     "name": "stderr",
     "output_type": "stream",
     "text": [
      " 65%|██████▍   | 10669/16536 [25:07<12:27,  7.85it/s]"
     ]
    },
    {
     "name": "stdout",
     "output_type": "stream",
     "text": [
      "No valid player games data for tournament the-melee-corner-abu-6-1__melee-singles after filtering.\n"
     ]
    },
    {
     "name": "stderr",
     "output_type": "stream",
     "text": [
      " 65%|██████▍   | 10718/16536 [25:14<13:28,  7.20it/s]"
     ]
    },
    {
     "name": "stdout",
     "output_type": "stream",
     "text": [
      "No valid player games data for tournament rubesday-213-250-pot-bonus__melee-singles after filtering.\n"
     ]
    },
    {
     "name": "stderr",
     "output_type": "stream",
     "text": [
      " 65%|██████▌   | 10812/16536 [25:30<12:26,  7.66it/s]"
     ]
    },
    {
     "name": "stdout",
     "output_type": "stream",
     "text": [
      "No valid player games data for tournament rubesday-214__melee-ammy after filtering.\n"
     ]
    },
    {
     "name": "stderr",
     "output_type": "stream",
     "text": [
      " 66%|██████▋   | 10968/16536 [25:53<13:03,  7.11it/s]"
     ]
    },
    {
     "name": "stdout",
     "output_type": "stream",
     "text": [
      "No valid player games data for tournament melee-verdugo-west-197__melee-singles after filtering.\n"
     ]
    },
    {
     "name": "stderr",
     "output_type": "stream",
     "text": [
      " 66%|██████▋   | 10982/16536 [25:56<16:12,  5.71it/s]"
     ]
    },
    {
     "name": "stdout",
     "output_type": "stream",
     "text": [
      "No valid player games data for tournament cr-clash-49__melee-singles after filtering.\n"
     ]
    },
    {
     "name": "stderr",
     "output_type": "stream",
     "text": [
      " 67%|██████▋   | 11077/16536 [26:10<12:22,  7.35it/s]"
     ]
    },
    {
     "name": "stdout",
     "output_type": "stream",
     "text": [
      "No valid player games data for tournament melee-da-greenhouse-19__amateur-bracket after filtering.\n"
     ]
    },
    {
     "name": "stderr",
     "output_type": "stream",
     "text": [
      " 67%|██████▋   | 11082/16536 [26:11<11:23,  7.98it/s]"
     ]
    },
    {
     "name": "stdout",
     "output_type": "stream",
     "text": [
      "No valid player games data for tournament summer-storm-fest-3__melee-singles after filtering.\n"
     ]
    },
    {
     "name": "stderr",
     "output_type": "stream",
     "text": [
      " 67%|██████▋   | 11100/16536 [26:13<11:17,  8.02it/s]"
     ]
    },
    {
     "name": "stdout",
     "output_type": "stream",
     "text": [
      "No valid player games data for tournament lawless-melee-28__melee-singles after filtering.\n"
     ]
    },
    {
     "name": "stderr",
     "output_type": "stream",
     "text": [
      " 69%|██████▊   | 11357/16536 [26:53<11:19,  7.63it/s]"
     ]
    },
    {
     "name": "stdout",
     "output_type": "stream",
     "text": [
      "No valid player games data for tournament shield-drop__melee-singles after filtering.\n"
     ]
    },
    {
     "name": "stderr",
     "output_type": "stream",
     "text": [
      " 69%|██████▉   | 11377/16536 [26:56<12:10,  7.06it/s]"
     ]
    },
    {
     "name": "stdout",
     "output_type": "stream",
     "text": [
      "No valid player games data for tournament brook-city-brawl-vol-1-chapter-5__melee-singles after filtering.\n"
     ]
    },
    {
     "name": "stderr",
     "output_type": "stream",
     "text": [
      " 69%|██████▉   | 11462/16536 [27:08<10:37,  7.97it/s]"
     ]
    },
    {
     "name": "stdout",
     "output_type": "stream",
     "text": [
      "No valid player games data for tournament kame-house-weekly-43-pht-edition__melee-singles after filtering.\n"
     ]
    },
    {
     "name": "stderr",
     "output_type": "stream",
     "text": [
      " 69%|██████▉   | 11477/16536 [27:12<14:00,  6.02it/s]"
     ]
    },
    {
     "name": "stdout",
     "output_type": "stream",
     "text": [
      "No valid player games data for tournament sconefest-summer-2023-10-1__melee-singles after filtering.\n"
     ]
    },
    {
     "name": "stderr",
     "output_type": "stream",
     "text": [
      " 71%|███████   | 11764/16536 [27:56<11:00,  7.23it/s]"
     ]
    },
    {
     "name": "stdout",
     "output_type": "stream",
     "text": [
      "No valid player games data for tournament adam-s-smash-series-67-boppenheimer-edition__melee-singles after filtering.\n"
     ]
    },
    {
     "name": "stderr",
     "output_type": "stream",
     "text": [
      " 71%|███████   | 11775/16536 [27:58<09:30,  8.34it/s]"
     ]
    },
    {
     "name": "stdout",
     "output_type": "stream",
     "text": [
      "No valid player games data for tournament symbiote-smash-15-controller-for-sale__melee-singles after filtering.\n"
     ]
    },
    {
     "name": "stderr",
     "output_type": "stream",
     "text": [
      " 72%|███████▏  | 11825/16536 [28:05<09:42,  8.09it/s]"
     ]
    },
    {
     "name": "stdout",
     "output_type": "stream",
     "text": [
      "No valid player games data for tournament melee-at-the-lucky-straws-11-fl-circuit__melee-singles after filtering.\n"
     ]
    },
    {
     "name": "stderr",
     "output_type": "stream",
     "text": [
      " 72%|███████▏  | 11870/16536 [28:13<10:17,  7.56it/s]"
     ]
    },
    {
     "name": "stdout",
     "output_type": "stream",
     "text": [
      "No valid player games data for tournament the-schlocal-melee-return-edition__melee-singles after filtering.\n"
     ]
    },
    {
     "name": "stderr",
     "output_type": "stream",
     "text": [
      " 73%|███████▎  | 12024/16536 [28:39<10:21,  7.26it/s]"
     ]
    },
    {
     "name": "stdout",
     "output_type": "stream",
     "text": [
      "No valid player games data for tournament midlane-melee-92__melee-singles after filtering.\n"
     ]
    },
    {
     "name": "stderr",
     "output_type": "stream",
     "text": [
      " 73%|███████▎  | 12033/16536 [28:41<09:32,  7.87it/s]"
     ]
    },
    {
     "name": "stdout",
     "output_type": "stream",
     "text": [
      "No valid player games data for tournament dmgc-smash-bros-local-83__melee-singles after filtering.\n"
     ]
    },
    {
     "name": "stderr",
     "output_type": "stream",
     "text": [
      " 74%|███████▎  | 12169/16536 [29:02<09:00,  8.07it/s]"
     ]
    },
    {
     "name": "stdout",
     "output_type": "stream",
     "text": [
      "No valid player games data for tournament kame-house-weekly-49__melee-singles after filtering.\n"
     ]
    },
    {
     "name": "stderr",
     "output_type": "stream",
     "text": [
      " 74%|███████▍  | 12231/16536 [29:12<08:45,  8.20it/s]"
     ]
    },
    {
     "name": "stdout",
     "output_type": "stream",
     "text": [
      "No valid player games data for tournament victoria-annual-melee-2023__4-player-free-for-all after filtering.\n"
     ]
    },
    {
     "name": "stderr",
     "output_type": "stream",
     "text": [
      " 74%|███████▍  | 12248/16536 [29:15<11:31,  6.20it/s]"
     ]
    },
    {
     "name": "stdout",
     "output_type": "stream",
     "text": [
      "No valid player games data for tournament shine-2023-4__melee-singles after filtering.\n"
     ]
    },
    {
     "name": "stderr",
     "output_type": "stream",
     "text": [
      " 74%|███████▍  | 12299/16536 [29:22<09:27,  7.46it/s]"
     ]
    },
    {
     "name": "stdout",
     "output_type": "stream",
     "text": [
      "No valid player games data for tournament man-on-a-ledge-483__melee-singles after filtering.\n"
     ]
    },
    {
     "name": "stderr",
     "output_type": "stream",
     "text": [
      " 75%|███████▍  | 12331/16536 [29:27<09:48,  7.14it/s]"
     ]
    },
    {
     "name": "stdout",
     "output_type": "stream",
     "text": [
      "No valid player games data for tournament gaming-nord-esport-lan-ssbu-ssbm-32-joueurs-par-jeu__gaming-nord-esport-chalet-brand-lievin-tournoi-ssbm after filtering.\n"
     ]
    },
    {
     "name": "stderr",
     "output_type": "stream",
     "text": [
      " 75%|███████▍  | 12344/16536 [29:29<09:34,  7.30it/s]"
     ]
    },
    {
     "name": "stdout",
     "output_type": "stream",
     "text": [
      "No valid player games data for tournament deyve-s-smash-bash-labor-day-weekend__melee-singles after filtering.\n"
     ]
    },
    {
     "name": "stderr",
     "output_type": "stream",
     "text": [
      " 75%|███████▍  | 12351/16536 [29:30<09:13,  7.57it/s]"
     ]
    },
    {
     "name": "stdout",
     "output_type": "stream",
     "text": [
      "No valid player games data for tournament kame-house-weekly-51__melee-singles after filtering.\n"
     ]
    },
    {
     "name": "stderr",
     "output_type": "stream",
     "text": [
      " 75%|███████▍  | 12376/16536 [29:34<08:29,  8.17it/s]"
     ]
    },
    {
     "name": "stdout",
     "output_type": "stream",
     "text": [
      "No valid player games data for tournament riptide-2023-pre-event-presented-by-golden-guardians__melee-singles after filtering.\n"
     ]
    },
    {
     "name": "stderr",
     "output_type": "stream",
     "text": [
      " 75%|███████▌  | 12408/16536 [29:39<08:44,  7.86it/s]"
     ]
    },
    {
     "name": "stdout",
     "output_type": "stream",
     "text": [
      "No valid player games data for tournament the-lookout-ft-mekk-kh-x-sg-invitational-qualifier__melee-singles-4pm after filtering.\n"
     ]
    },
    {
     "name": "stderr",
     "output_type": "stream",
     "text": [
      " 75%|███████▌  | 12438/16536 [29:44<09:36,  7.11it/s]"
     ]
    },
    {
     "name": "stdout",
     "output_type": "stream",
     "text": [
      "No valid player games data for tournament kame-house-weekly-52-9-11-edition-goodbyenatebug01__melee-singles after filtering.\n"
     ]
    },
    {
     "name": "stderr",
     "output_type": "stream",
     "text": [
      " 75%|███████▌  | 12442/16536 [29:44<09:27,  7.22it/s]"
     ]
    },
    {
     "name": "stdout",
     "output_type": "stream",
     "text": [
      "No valid player games data for tournament melee-verdugo-west-214-schmoop-s-birthday-edition__melee-singles after filtering.\n"
     ]
    },
    {
     "name": "stderr",
     "output_type": "stream",
     "text": [
      " 76%|███████▌  | 12486/16536 [29:51<09:01,  7.47it/s]"
     ]
    },
    {
     "name": "stdout",
     "output_type": "stream",
     "text": [
      "No valid player games data for tournament man-on-a-ledge-485-1__melee-singles after filtering.\n"
     ]
    },
    {
     "name": "stderr",
     "output_type": "stream",
     "text": [
      " 76%|███████▌  | 12505/16536 [29:54<09:02,  7.43it/s]"
     ]
    },
    {
     "name": "stdout",
     "output_type": "stream",
     "text": [
      "No valid player games data for tournament super-smash-bxl-7__melee-singles after filtering.\n"
     ]
    },
    {
     "name": "stderr",
     "output_type": "stream",
     "text": [
      " 76%|███████▌  | 12512/16536 [29:55<09:09,  7.32it/s]"
     ]
    },
    {
     "name": "stdout",
     "output_type": "stream",
     "text": [
      "No valid player games data for tournament s-ps-173-1__melee-singles after filtering.\n"
     ]
    },
    {
     "name": "stderr",
     "output_type": "stream",
     "text": [
      " 76%|███████▌  | 12525/16536 [29:58<10:00,  6.68it/s]"
     ]
    },
    {
     "name": "stdout",
     "output_type": "stream",
     "text": [
      "No valid player games data for tournament the-smash-inn-finals__the-smash-inn-finals after filtering.\n"
     ]
    },
    {
     "name": "stderr",
     "output_type": "stream",
     "text": [
      " 76%|███████▌  | 12534/16536 [29:59<11:36,  5.74it/s]"
     ]
    },
    {
     "name": "stdout",
     "output_type": "stream",
     "text": [
      "No valid player games data for tournament border-monthlies-16__melee-singles after filtering.\n"
     ]
    },
    {
     "name": "stderr",
     "output_type": "stream",
     "text": [
      " 76%|███████▌  | 12589/16536 [30:09<09:01,  7.29it/s]"
     ]
    },
    {
     "name": "stdout",
     "output_type": "stream",
     "text": [
      "No valid player games data for tournament man-on-a-ledge-486__melee-singles after filtering.\n"
     ]
    },
    {
     "name": "stderr",
     "output_type": "stream",
     "text": [
      " 76%|███████▋  | 12644/16536 [30:18<09:27,  6.86it/s]"
     ]
    },
    {
     "name": "stdout",
     "output_type": "stream",
     "text": [
      "No valid player games data for tournament fenix-gaming-end-of-an-era__melee-singles after filtering.\n"
     ]
    },
    {
     "name": "stderr",
     "output_type": "stream",
     "text": [
      " 77%|███████▋  | 12665/16536 [30:21<08:44,  7.38it/s]"
     ]
    },
    {
     "name": "stdout",
     "output_type": "stream",
     "text": [
      "No valid player games data for tournament tech-chase-tuesday-43__melee-singles after filtering.\n"
     ]
    },
    {
     "name": "stderr",
     "output_type": "stream",
     "text": [
      " 77%|███████▋  | 12700/16536 [30:26<08:19,  7.68it/s]"
     ]
    },
    {
     "name": "stdout",
     "output_type": "stream",
     "text": [
      "No valid player games data for tournament boosting-the-respect-of-our-peers-2-tcnj-fall-biweekly-1__melee-singles after filtering.\n"
     ]
    },
    {
     "name": "stderr",
     "output_type": "stream",
     "text": [
      " 77%|███████▋  | 12730/16536 [30:31<08:03,  7.87it/s]"
     ]
    },
    {
     "name": "stdout",
     "output_type": "stream",
     "text": [
      "No valid player games data for tournament the-final-melee-gremlin-grotto__gremlin-singles after filtering.\n"
     ]
    },
    {
     "name": "stderr",
     "output_type": "stream",
     "text": [
      " 77%|███████▋  | 12769/16536 [30:37<08:01,  7.82it/s]"
     ]
    },
    {
     "name": "stdout",
     "output_type": "stream",
     "text": [
      "No valid player games data for tournament time-warp-3__melee-singles after filtering.\n"
     ]
    },
    {
     "name": "stderr",
     "output_type": "stream",
     "text": [
      " 78%|███████▊  | 12841/16536 [30:49<07:50,  7.86it/s]"
     ]
    },
    {
     "name": "stdout",
     "output_type": "stream",
     "text": [
      "No valid player games data for tournament into-the-night-s2e1-sdsu-monthly__melee-singles after filtering.\n"
     ]
    },
    {
     "name": "stderr",
     "output_type": "stream",
     "text": [
      " 78%|███████▊  | 12894/16536 [30:57<07:30,  8.09it/s]"
     ]
    },
    {
     "name": "stdout",
     "output_type": "stream",
     "text": [
      "No valid player games data for tournament dmgc-smash-bros-local-93__melee-singles after filtering.\n"
     ]
    },
    {
     "name": "stderr",
     "output_type": "stream",
     "text": [
      " 78%|███████▊  | 12907/16536 [30:59<07:59,  7.58it/s]"
     ]
    },
    {
     "name": "stdout",
     "output_type": "stream",
     "text": [
      "No valid player games data for tournament tsi-melee-weekly-168__3-char-iron-man-greengreens-and-corneria after filtering.\n"
     ]
    },
    {
     "name": "stderr",
     "output_type": "stream",
     "text": [
      " 78%|███████▊  | 12935/16536 [31:03<07:25,  8.08it/s]"
     ]
    },
    {
     "name": "stdout",
     "output_type": "stream",
     "text": [
      "No valid player games data for tournament lawless-melee-36__melee-singles after filtering.\n"
     ]
    },
    {
     "name": "stderr",
     "output_type": "stream",
     "text": [
      " 79%|███████▊  | 13017/16536 [31:16<08:08,  7.20it/s]"
     ]
    },
    {
     "name": "stdout",
     "output_type": "stream",
     "text": [
      "No valid player games data for tournament free-friday-25-1__melee-singles after filtering.\n"
     ]
    },
    {
     "name": "stderr",
     "output_type": "stream",
     "text": [
      " 79%|███████▉  | 13070/16536 [31:25<09:29,  6.08it/s]"
     ]
    },
    {
     "name": "stdout",
     "output_type": "stream",
     "text": [
      "No valid player games data for tournament kame-house-weekly-58-bighouseday4-canthaveshitindetroit__melee-singles after filtering.\n"
     ]
    },
    {
     "name": "stderr",
     "output_type": "stream",
     "text": [
      " 79%|███████▉  | 13104/16536 [31:30<08:27,  6.76it/s]"
     ]
    },
    {
     "name": "stdout",
     "output_type": "stream",
     "text": [
      "No valid player games data for tournament smash-cafe-406-feat-p__melee-singles after filtering.\n"
     ]
    },
    {
     "name": "stderr",
     "output_type": "stream",
     "text": [
      " 80%|████████  | 13256/16536 [31:56<06:50,  7.99it/s]"
     ]
    },
    {
     "name": "stdout",
     "output_type": "stream",
     "text": [
      "No valid player games data for tournament out-of-the-blue-2__melee-singles after filtering.\n"
     ]
    },
    {
     "name": "stderr",
     "output_type": "stream",
     "text": [
      " 80%|████████  | 13261/16536 [31:56<08:30,  6.42it/s]"
     ]
    },
    {
     "name": "stdout",
     "output_type": "stream",
     "text": [
      "No valid player games data for tournament central-clash-3__melee-singles after filtering.\n"
     ]
    },
    {
     "name": "stderr",
     "output_type": "stream",
     "text": [
      " 80%|████████  | 13280/16536 [31:59<07:54,  6.86it/s]"
     ]
    },
    {
     "name": "stdout",
     "output_type": "stream",
     "text": [
      "No valid player games data for tournament newsflash-26__smash-melee-singles after filtering.\n"
     ]
    },
    {
     "name": "stderr",
     "output_type": "stream",
     "text": [
      " 81%|████████  | 13319/16536 [32:06<07:00,  7.65it/s]"
     ]
    },
    {
     "name": "stdout",
     "output_type": "stream",
     "text": [
      "No valid player games data for tournament home-brewed-melee-15-ft-oh__melee-singles after filtering.\n"
     ]
    },
    {
     "name": "stderr",
     "output_type": "stream",
     "text": [
      " 81%|████████  | 13345/16536 [32:09<06:49,  7.78it/s]"
     ]
    },
    {
     "name": "stdout",
     "output_type": "stream",
     "text": [
      "No valid player games data for tournament millersville-fall-weekly-2023-10__melee-bracket after filtering.\n"
     ]
    },
    {
     "name": "stderr",
     "output_type": "stream",
     "text": [
      " 81%|████████  | 13409/16536 [32:20<06:37,  7.87it/s]"
     ]
    },
    {
     "name": "stdout",
     "output_type": "stream",
     "text": [
      "No valid player games data for tournament smash-the-cab-116__melee-singles after filtering.\n"
     ]
    },
    {
     "name": "stderr",
     "output_type": "stream",
     "text": [
      " 81%|████████  | 13433/16536 [32:25<06:26,  8.03it/s]"
     ]
    },
    {
     "name": "stdout",
     "output_type": "stream",
     "text": [
      "No valid player games data for tournament arcamicro-endgame__melee-singles after filtering.\n"
     ]
    },
    {
     "name": "stderr",
     "output_type": "stream",
     "text": [
      " 81%|████████  | 13435/16536 [32:25<05:44,  9.00it/s]"
     ]
    },
    {
     "name": "stdout",
     "output_type": "stream",
     "text": [
      "No valid player games data for tournament raptor-boost-28__raptor-boost-28 after filtering.\n"
     ]
    },
    {
     "name": "stderr",
     "output_type": "stream",
     "text": [
      " 81%|████████▏ | 13438/16536 [32:26<06:00,  8.58it/s]"
     ]
    },
    {
     "name": "stdout",
     "output_type": "stream",
     "text": [
      "No valid player games data for tournament campus-clash-hangover__whydo after filtering.\n"
     ]
    },
    {
     "name": "stderr",
     "output_type": "stream",
     "text": [
      " 81%|████████▏ | 13451/16536 [32:28<06:23,  8.04it/s]"
     ]
    },
    {
     "name": "stdout",
     "output_type": "stream",
     "text": [
      "No valid player games data for tournament millersville-fall-weekly-2023-11__melee-bracket after filtering.\n"
     ]
    },
    {
     "name": "stderr",
     "output_type": "stream",
     "text": [
      " 81%|████████▏ | 13470/16536 [32:30<06:25,  7.95it/s]"
     ]
    },
    {
     "name": "stdout",
     "output_type": "stream",
     "text": [
      "No valid player games data for tournament the-rats-den-1__melee-singles after filtering.\n"
     ]
    },
    {
     "name": "stderr",
     "output_type": "stream",
     "text": [
      " 82%|████████▏ | 13499/16536 [32:35<06:41,  7.57it/s]"
     ]
    },
    {
     "name": "stdout",
     "output_type": "stream",
     "text": [
      "No valid player games data for tournament low-tier-city-dfw-2023__super-smash-bros-melee-1v1 after filtering.\n"
     ]
    },
    {
     "name": "stderr",
     "output_type": "stream",
     "text": [
      " 82%|████████▏ | 13531/16536 [32:40<07:14,  6.91it/s]"
     ]
    },
    {
     "name": "stdout",
     "output_type": "stream",
     "text": [
      "No valid player games data for tournament bww-v1-2-3__melee-singles after filtering.\n"
     ]
    },
    {
     "name": "stderr",
     "output_type": "stream",
     "text": [
      " 83%|████████▎ | 13693/16536 [33:05<07:16,  6.51it/s]"
     ]
    },
    {
     "name": "stdout",
     "output_type": "stream",
     "text": [
      "No valid player games data for tournament kame-house-weekly-64__melee-singles after filtering.\n"
     ]
    },
    {
     "name": "stderr",
     "output_type": "stream",
     "text": [
      " 83%|████████▎ | 13725/16536 [33:10<05:57,  7.87it/s]"
     ]
    },
    {
     "name": "stdout",
     "output_type": "stream",
     "text": [
      "No valid player games data for tournament santa-c-oa-laus-is-coming-to-town__melee-fun-fest after filtering.\n"
     ]
    },
    {
     "name": "stderr",
     "output_type": "stream",
     "text": [
      " 83%|████████▎ | 13757/16536 [33:15<05:51,  7.91it/s]"
     ]
    },
    {
     "name": "stdout",
     "output_type": "stream",
     "text": [
      "No valid player games data for tournament dreamlan-4-brooklan-melee-monthly__melee-singles after filtering.\n"
     ]
    },
    {
     "name": "stderr",
     "output_type": "stream",
     "text": [
      " 83%|████████▎ | 13771/16536 [33:17<07:33,  6.10it/s]"
     ]
    },
    {
     "name": "stdout",
     "output_type": "stream",
     "text": [
      "No valid player games data for tournament santa-paws__melee-singles after filtering.\n"
     ]
    },
    {
     "name": "stderr",
     "output_type": "stream",
     "text": [
      " 83%|████████▎ | 13786/16536 [33:20<06:09,  7.45it/s]"
     ]
    },
    {
     "name": "stdout",
     "output_type": "stream",
     "text": [
      "No valid player games data for tournament kame-house-weekly-65-o7__melee-singles after filtering.\n"
     ]
    },
    {
     "name": "stderr",
     "output_type": "stream",
     "text": [
      " 83%|████████▎ | 13794/16536 [33:21<07:43,  5.91it/s]"
     ]
    },
    {
     "name": "stdout",
     "output_type": "stream",
     "text": [
      "No valid player games data for tournament time-warp-7__melee-singles after filtering.\n"
     ]
    },
    {
     "name": "stderr",
     "output_type": "stream",
     "text": [
      " 84%|████████▍ | 13925/16536 [33:43<07:02,  6.18it/s]"
     ]
    },
    {
     "name": "stdout",
     "output_type": "stream",
     "text": [
      "No valid player games data for tournament triple-threat-tuesdays-7-the-peak__melee-singles after filtering.\n"
     ]
    },
    {
     "name": "stderr",
     "output_type": "stream",
     "text": [
      " 85%|████████▍ | 13997/16536 [33:55<07:12,  5.87it/s]"
     ]
    },
    {
     "name": "stdout",
     "output_type": "stream",
     "text": [
      "No valid player games data for tournament manabar-weekly-2024-1-ultimate-or-melee__melee-singles after filtering.\n"
     ]
    },
    {
     "name": "stderr",
     "output_type": "stream",
     "text": [
      " 85%|████████▍ | 14001/16536 [33:55<06:37,  6.37it/s]"
     ]
    },
    {
     "name": "stdout",
     "output_type": "stream",
     "text": [
      "No valid player games data for tournament smash-the-scene-90-new-year-same-old-melee-presented__melee-singles after filtering.\n"
     ]
    },
    {
     "name": "stderr",
     "output_type": "stream",
     "text": [
      " 85%|████████▍ | 14024/16536 [33:59<05:17,  7.92it/s]"
     ]
    },
    {
     "name": "stdout",
     "output_type": "stream",
     "text": [
      "No valid player games data for tournament evergreen-rising-9__melee-singles after filtering.\n"
     ]
    },
    {
     "name": "stderr",
     "output_type": "stream",
     "text": [
      " 85%|████████▍ | 14050/16536 [34:03<05:46,  7.17it/s]"
     ]
    },
    {
     "name": "stdout",
     "output_type": "stream",
     "text": [
      "No valid player games data for tournament smash-su-77-9-1-24__melee-singles after filtering.\n"
     ]
    },
    {
     "name": "stderr",
     "output_type": "stream",
     "text": [
      " 85%|████████▌ | 14107/16536 [34:12<05:10,  7.83it/s]"
     ]
    },
    {
     "name": "stdout",
     "output_type": "stream",
     "text": [
      "No valid player games data for tournament wwu-melee-winter-2024-week-1-pbag-s-delight__melee-singles after filtering.\n"
     ]
    },
    {
     "name": "stderr",
     "output_type": "stream",
     "text": [
      " 85%|████████▌ | 14124/16536 [34:14<04:57,  8.10it/s]"
     ]
    },
    {
     "name": "stdout",
     "output_type": "stream",
     "text": [
      "No valid player games data for tournament zeek-s-zany-buddy-s-house__melee-singles after filtering.\n"
     ]
    },
    {
     "name": "stderr",
     "output_type": "stream",
     "text": [
      " 86%|████████▌ | 14170/16536 [34:22<06:10,  6.39it/s]"
     ]
    },
    {
     "name": "stdout",
     "output_type": "stream",
     "text": [
      "No valid player games data for tournament melee-woodstocks-winter-2024-arcadian__arcadian-singles after filtering.\n"
     ]
    },
    {
     "name": "stderr",
     "output_type": "stream",
     "text": [
      " 86%|████████▌ | 14214/16536 [34:29<06:05,  6.36it/s]"
     ]
    },
    {
     "name": "stdout",
     "output_type": "stream",
     "text": [
      "No valid player games data for tournament dreamlan-5-brooklan-melee-monthly__melee-singles after filtering.\n"
     ]
    },
    {
     "name": "stderr",
     "output_type": "stream",
     "text": [
      " 86%|████████▌ | 14227/16536 [34:31<05:44,  6.70it/s]"
     ]
    },
    {
     "name": "stdout",
     "output_type": "stream",
     "text": [
      "No valid player games data for tournament press-start-game-8__super-smash-bros-melee-singles after filtering.\n"
     ]
    },
    {
     "name": "stderr",
     "output_type": "stream",
     "text": [
      " 86%|████████▌ | 14229/16536 [34:31<05:14,  7.33it/s]"
     ]
    },
    {
     "name": "stdout",
     "output_type": "stream",
     "text": [
      "No valid player games data for tournament mdva-summit-3-spring-2024__melee-singles after filtering.\n"
     ]
    },
    {
     "name": "stderr",
     "output_type": "stream",
     "text": [
      " 87%|████████▋ | 14320/16536 [34:46<05:51,  6.30it/s]"
     ]
    },
    {
     "name": "stdout",
     "output_type": "stream",
     "text": [
      "No valid player games data for tournament holding-down-bad-3__melee-singles after filtering.\n"
     ]
    },
    {
     "name": "stderr",
     "output_type": "stream",
     "text": [
      " 87%|████████▋ | 14333/16536 [34:48<04:05,  8.99it/s]"
     ]
    },
    {
     "name": "stdout",
     "output_type": "stream",
     "text": [
      "No valid player games data for tournament kush-casa-m-ini-series__sami-singles after filtering.\n",
      "No valid player games data for tournament kernel-clash-11__melee-singles after filtering.\n"
     ]
    },
    {
     "name": "stderr",
     "output_type": "stream",
     "text": [
      " 87%|████████▋ | 14337/16536 [34:49<05:24,  6.78it/s]"
     ]
    },
    {
     "name": "stdout",
     "output_type": "stream",
     "text": [
      "No valid player games data for tournament janairy-2024__melee-singles after filtering.\n"
     ]
    },
    {
     "name": "stderr",
     "output_type": "stream",
     "text": [
      " 87%|████████▋ | 14361/16536 [34:53<05:28,  6.62it/s]"
     ]
    },
    {
     "name": "stdout",
     "output_type": "stream",
     "text": [
      "No valid player games data for tournament melee-verdugo-west-233__melee-singles after filtering.\n"
     ]
    },
    {
     "name": "stderr",
     "output_type": "stream",
     "text": [
      " 87%|████████▋ | 14391/16536 [34:57<04:12,  8.51it/s]"
     ]
    },
    {
     "name": "stdout",
     "output_type": "stream",
     "text": [
      "No valid player games data for tournament bmw-88-map-technologies-1__melee-singles after filtering.\n",
      "No valid player games data for tournament odyssey-melee-weekly-34__melee-singles after filtering.\n"
     ]
    },
    {
     "name": "stderr",
     "output_type": "stream",
     "text": [
      " 87%|████████▋ | 14408/16536 [35:00<04:50,  7.33it/s]"
     ]
    },
    {
     "name": "stdout",
     "output_type": "stream",
     "text": [
      "No valid player games data for tournament retriever-rumble-45-s24-w1__melee-singles after filtering.\n"
     ]
    },
    {
     "name": "stderr",
     "output_type": "stream",
     "text": [
      " 87%|████████▋ | 14414/16536 [35:01<04:22,  8.10it/s]"
     ]
    },
    {
     "name": "stdout",
     "output_type": "stream",
     "text": [
      "No valid player games data for tournament pho-tai-melee-36-50-pot-bonus__melee-singles after filtering.\n"
     ]
    },
    {
     "name": "stderr",
     "output_type": "stream",
     "text": [
      " 88%|████████▊ | 14476/16536 [35:13<04:54,  7.00it/s]"
     ]
    },
    {
     "name": "stdout",
     "output_type": "stream",
     "text": [
      "No valid player games data for tournament triple-threat-tuesdays-13-the-peak__melee-singles after filtering.\n"
     ]
    },
    {
     "name": "stderr",
     "output_type": "stream",
     "text": [
      " 88%|████████▊ | 14542/16536 [35:23<04:15,  7.82it/s]"
     ]
    },
    {
     "name": "stdout",
     "output_type": "stream",
     "text": [
      "No valid player games data for tournament altitude-sickness-1-000-pot-bonus-ft-kodorin-joshman-bbb__melee-singles after filtering.\n"
     ]
    },
    {
     "name": "stderr",
     "output_type": "stream",
     "text": [
      " 88%|████████▊ | 14628/16536 [35:37<04:02,  7.88it/s]"
     ]
    },
    {
     "name": "stdout",
     "output_type": "stream",
     "text": [
      "No valid player games data for tournament pitt-smash-series-13__melee-singles after filtering.\n"
     ]
    },
    {
     "name": "stderr",
     "output_type": "stream",
     "text": [
      " 89%|████████▊ | 14674/16536 [35:44<04:13,  7.34it/s]"
     ]
    },
    {
     "name": "stdout",
     "output_type": "stream",
     "text": [
      "No valid player games data for tournament triple-threat-tuesdays-15-the-peak__melee-singles after filtering.\n"
     ]
    },
    {
     "name": "stderr",
     "output_type": "stream",
     "text": [
      " 89%|████████▉ | 14707/16536 [35:49<04:02,  7.56it/s]"
     ]
    },
    {
     "name": "stdout",
     "output_type": "stream",
     "text": [
      "No valid player games data for tournament illinois-state-smash-weekly-239__melee-singles after filtering.\n"
     ]
    },
    {
     "name": "stderr",
     "output_type": "stream",
     "text": [
      " 90%|████████▉ | 14847/16536 [36:12<03:48,  7.40it/s]"
     ]
    },
    {
     "name": "stdout",
     "output_type": "stream",
     "text": [
      "No valid player games data for tournament smash-cpp-3-1__melee-singles after filtering.\n"
     ]
    },
    {
     "name": "stderr",
     "output_type": "stream",
     "text": [
      " 90%|█████████ | 14891/16536 [36:19<03:38,  7.52it/s]"
     ]
    },
    {
     "name": "stdout",
     "output_type": "stream",
     "text": [
      "No valid player games data for tournament melee-at-realms-4__melee-singles after filtering.\n"
     ]
    },
    {
     "name": "stderr",
     "output_type": "stream",
     "text": [
      " 90%|█████████ | 14897/16536 [36:20<04:16,  6.38it/s]"
     ]
    },
    {
     "name": "stdout",
     "output_type": "stream",
     "text": [
      "No valid player games data for tournament melee-verdugo-west-237__melee-singles after filtering.\n"
     ]
    },
    {
     "name": "stderr",
     "output_type": "stream",
     "text": [
      " 90%|█████████ | 14899/16536 [36:20<03:45,  7.25it/s]"
     ]
    },
    {
     "name": "stdout",
     "output_type": "stream",
     "text": [
      "No valid player games data for tournament tr3-gamers-smash-monthly-11__melee-singles after filtering.\n"
     ]
    },
    {
     "name": "stderr",
     "output_type": "stream",
     "text": [
      " 90%|█████████ | 14908/16536 [36:21<03:31,  7.70it/s]"
     ]
    },
    {
     "name": "stdout",
     "output_type": "stream",
     "text": [
      "No valid player games data for tournament meat-100-a-celebration__melee-singles after filtering.\n"
     ]
    },
    {
     "name": "stderr",
     "output_type": "stream",
     "text": [
      " 90%|█████████ | 14917/16536 [36:23<04:00,  6.74it/s]"
     ]
    },
    {
     "name": "stdout",
     "output_type": "stream",
     "text": [
      "No valid player games data for tournament vienna-melee-s01e04-return__weekly-singles-bracket after filtering.\n"
     ]
    },
    {
     "name": "stderr",
     "output_type": "stream",
     "text": [
      " 90%|█████████ | 14924/16536 [36:24<03:50,  7.00it/s]"
     ]
    },
    {
     "name": "stdout",
     "output_type": "stream",
     "text": [
      "No valid player games data for tournament midlane-melee-118__melee-singles after filtering.\n"
     ]
    },
    {
     "name": "stderr",
     "output_type": "stream",
     "text": [
      " 90%|█████████ | 14934/16536 [36:25<03:16,  8.16it/s]"
     ]
    },
    {
     "name": "stdout",
     "output_type": "stream",
     "text": [
      "No valid player games data for tournament bmw-93-map-technologies__melee-singles after filtering.\n",
      "No valid player games data for tournament dash-dance-revolution-15__melee-singles after filtering.\n",
      "No valid player games data for tournament coal-week-85__melee-singles after filtering.\n"
     ]
    },
    {
     "name": "stderr",
     "output_type": "stream",
     "text": [
      " 90%|█████████ | 14961/16536 [36:30<04:00,  6.54it/s]"
     ]
    },
    {
     "name": "stdout",
     "output_type": "stream",
     "text": [
      "No valid player games data for tournament bridge-weeklies-season-11-week-9__melee-singles after filtering.\n"
     ]
    },
    {
     "name": "stderr",
     "output_type": "stream",
     "text": [
      " 91%|█████████ | 14966/16536 [36:30<03:24,  7.69it/s]"
     ]
    },
    {
     "name": "stdout",
     "output_type": "stream",
     "text": [
      "No valid player games data for tournament smash-ntnu-gl-shaugen-183__melee-singles after filtering.\n"
     ]
    },
    {
     "name": "stderr",
     "output_type": "stream",
     "text": [
      " 91%|█████████ | 14970/16536 [36:31<03:18,  7.89it/s]"
     ]
    },
    {
     "name": "stdout",
     "output_type": "stream",
     "text": [
      "No valid player games data for tournament mallard-mania__dorfball after filtering.\n",
      "No valid player games data for tournament mallard-mania__items-on after filtering.\n"
     ]
    },
    {
     "name": "stderr",
     "output_type": "stream",
     "text": [
      " 91%|█████████ | 14974/16536 [36:32<03:27,  7.51it/s]"
     ]
    },
    {
     "name": "stdout",
     "output_type": "stream",
     "text": [
      "No valid player games data for tournament no-bogeys-33__melee-singles after filtering.\n"
     ]
    },
    {
     "name": "stderr",
     "output_type": "stream",
     "text": [
      " 91%|█████████ | 14987/16536 [36:34<03:27,  7.48it/s]"
     ]
    },
    {
     "name": "stdout",
     "output_type": "stream",
     "text": [
      "No valid player games data for tournament tomorrowlan-2024__melee-1v1-singles after filtering.\n"
     ]
    },
    {
     "name": "stderr",
     "output_type": "stream",
     "text": [
      " 91%|█████████ | 14989/16536 [36:34<03:47,  6.79it/s]"
     ]
    },
    {
     "name": "stdout",
     "output_type": "stream",
     "text": [
      "No valid player games data for tournament the-middle-ground-37-3-10-24__melee-singles-5-main-event after filtering.\n"
     ]
    },
    {
     "name": "stderr",
     "output_type": "stream",
     "text": [
      " 91%|█████████ | 15006/16536 [36:37<04:07,  6.18it/s]"
     ]
    },
    {
     "name": "stdout",
     "output_type": "stream",
     "text": [
      "No valid player games data for tournament ricks-ringside-821__melee-singles after filtering.\n"
     ]
    },
    {
     "name": "stderr",
     "output_type": "stream",
     "text": [
      " 91%|█████████ | 15018/16536 [36:38<02:53,  8.76it/s]"
     ]
    },
    {
     "name": "stdout",
     "output_type": "stream",
     "text": [
      "No valid player games data for tournament taking-back-tampa-41__melee-singles after filtering.\n",
      "No valid player games data for tournament triple-threat-tuesdays-18-the-peak__melee-singles after filtering.\n"
     ]
    },
    {
     "name": "stderr",
     "output_type": "stream",
     "text": [
      " 91%|█████████ | 15031/16536 [36:41<03:42,  6.75it/s]"
     ]
    },
    {
     "name": "stdout",
     "output_type": "stream",
     "text": [
      "No valid player games data for tournament midlane-melee-119__melee-singles after filtering.\n"
     ]
    },
    {
     "name": "stderr",
     "output_type": "stream",
     "text": [
      " 91%|█████████ | 15055/16536 [36:44<03:11,  7.74it/s]"
     ]
    },
    {
     "name": "stdout",
     "output_type": "stream",
     "text": [
      "No valid player games data for tournament melee-da-greenhouse-42__dgh-melee-singles after filtering.\n"
     ]
    },
    {
     "name": "stderr",
     "output_type": "stream",
     "text": [
      " 91%|█████████▏| 15107/16536 [36:53<04:00,  5.95it/s]"
     ]
    },
    {
     "name": "stdout",
     "output_type": "stream",
     "text": [
      "No valid player games data for tournament melee-verdugo-west-239__melee-singles after filtering.\n"
     ]
    },
    {
     "name": "stderr",
     "output_type": "stream",
     "text": [
      " 91%|█████████▏| 15129/16536 [36:56<03:31,  6.64it/s]"
     ]
    },
    {
     "name": "stdout",
     "output_type": "stream",
     "text": [
      "No valid player games data for tournament midlane-melee-120__melee-singles after filtering.\n"
     ]
    },
    {
     "name": "stderr",
     "output_type": "stream",
     "text": [
      " 92%|█████████▏| 15173/16536 [37:03<03:02,  7.45it/s]"
     ]
    },
    {
     "name": "stdout",
     "output_type": "stream",
     "text": [
      "No valid player games data for tournament the-north-awakens-ii__melee-singles after filtering.\n"
     ]
    },
    {
     "name": "stderr",
     "output_type": "stream",
     "text": [
      " 92%|█████████▏| 15179/16536 [37:04<02:49,  8.01it/s]"
     ]
    },
    {
     "name": "stdout",
     "output_type": "stream",
     "text": [
      "No valid player games data for tournament etsu-con-2024__melee-singles after filtering.\n"
     ]
    },
    {
     "name": "stderr",
     "output_type": "stream",
     "text": [
      " 92%|█████████▏| 15193/16536 [37:06<02:54,  7.70it/s]"
     ]
    },
    {
     "name": "stdout",
     "output_type": "stream",
     "text": [
      "No valid player games data for tournament risk-it-all-2__melee-singles after filtering.\n"
     ]
    },
    {
     "name": "stderr",
     "output_type": "stream",
     "text": [
      " 92%|█████████▏| 15214/16536 [37:10<03:00,  7.33it/s]"
     ]
    },
    {
     "name": "stdout",
     "output_type": "stream",
     "text": [
      "No valid player games data for tournament recovery-tdhor-46__melee-singles after filtering.\n"
     ]
    },
    {
     "name": "stderr",
     "output_type": "stream",
     "text": [
      " 92%|█████████▏| 15226/16536 [37:11<02:55,  7.47it/s]"
     ]
    },
    {
     "name": "stdout",
     "output_type": "stream",
     "text": [
      "No valid player games data for tournament fighthouse-weeklies-march-26th__super-smash-bros-melee after filtering.\n"
     ]
    },
    {
     "name": "stderr",
     "output_type": "stream",
     "text": [
      " 92%|█████████▏| 15233/16536 [37:12<02:42,  8.01it/s]"
     ]
    },
    {
     "name": "stdout",
     "output_type": "stream",
     "text": [
      "No valid player games data for tournament meat-103__melee-singles after filtering.\n"
     ]
    },
    {
     "name": "stderr",
     "output_type": "stream",
     "text": [
      " 92%|█████████▏| 15255/16536 [37:16<02:42,  7.86it/s]"
     ]
    },
    {
     "name": "stdout",
     "output_type": "stream",
     "text": [
      "No valid player games data for tournament salt-water-smash-282__melee-singles after filtering.\n"
     ]
    },
    {
     "name": "stderr",
     "output_type": "stream",
     "text": [
      " 92%|█████████▏| 15262/16536 [37:17<02:39,  7.97it/s]"
     ]
    },
    {
     "name": "stdout",
     "output_type": "stream",
     "text": [
      "No valid player games data for tournament the-pregame-bobc6-pre-event__melee-singles after filtering.\n"
     ]
    },
    {
     "name": "stderr",
     "output_type": "stream",
     "text": [
      " 92%|█████████▏| 15295/16536 [37:22<02:39,  7.79it/s]"
     ]
    },
    {
     "name": "stdout",
     "output_type": "stream",
     "text": [
      "No valid player games data for tournament defend-the-district-5__melee-singles-100-pot-bonus after filtering.\n"
     ]
    },
    {
     "name": "stderr",
     "output_type": "stream",
     "text": [
      " 93%|█████████▎| 15359/16536 [37:32<03:12,  6.13it/s]"
     ]
    },
    {
     "name": "stdout",
     "output_type": "stream",
     "text": [
      "No valid player games data for tournament dusk-s-dungeon-9-bosshog-begone__melee-singles after filtering.\n"
     ]
    },
    {
     "name": "stderr",
     "output_type": "stream",
     "text": [
      " 93%|█████████▎| 15387/16536 [37:36<02:21,  8.12it/s]"
     ]
    },
    {
     "name": "stdout",
     "output_type": "stream",
     "text": [
      "No valid player games data for tournament sbu-wolfie-wars-37-1__melee-singles after filtering.\n"
     ]
    },
    {
     "name": "stderr",
     "output_type": "stream",
     "text": [
      " 93%|█████████▎| 15411/16536 [37:40<02:24,  7.80it/s]"
     ]
    },
    {
     "name": "stdout",
     "output_type": "stream",
     "text": [
      "No valid player games data for tournament michigan-melee-arcadian-2024__melee-singles after filtering.\n"
     ]
    },
    {
     "name": "stderr",
     "output_type": "stream",
     "text": [
      " 93%|█████████▎| 15416/16536 [37:41<02:36,  7.14it/s]"
     ]
    },
    {
     "name": "stdout",
     "output_type": "stream",
     "text": [
      "No valid player games data for tournament magic-conch-30__magic-conch-singles after filtering.\n"
     ]
    },
    {
     "name": "stderr",
     "output_type": "stream",
     "text": [
      " 93%|█████████▎| 15448/16536 [37:46<02:57,  6.13it/s]"
     ]
    },
    {
     "name": "stdout",
     "output_type": "stream",
     "text": [
      "No valid player games data for tournament melee-verdugo-west-242-sponsored-by-ghost-town-2__melee-singles after filtering.\n"
     ]
    },
    {
     "name": "stderr",
     "output_type": "stream",
     "text": [
      " 93%|█████████▎| 15455/16536 [37:47<02:22,  7.57it/s]"
     ]
    },
    {
     "name": "stdout",
     "output_type": "stream",
     "text": [
      "No valid player games data for tournament lost-level-melee-23__melee-singles after filtering.\n"
     ]
    },
    {
     "name": "stderr",
     "output_type": "stream",
     "text": [
      " 94%|█████████▎| 15477/16536 [37:50<03:03,  5.79it/s]"
     ]
    },
    {
     "name": "stdout",
     "output_type": "stream",
     "text": [
      "No valid player games data for tournament fairlane-34__melee-singles after filtering.\n"
     ]
    },
    {
     "name": "stderr",
     "output_type": "stream",
     "text": [
      " 94%|█████████▎| 15484/16536 [37:51<02:29,  7.06it/s]"
     ]
    },
    {
     "name": "stdout",
     "output_type": "stream",
     "text": [
      "No valid player games data for tournament quarter-finals-21__melee-singles after filtering.\n"
     ]
    },
    {
     "name": "stderr",
     "output_type": "stream",
     "text": [
      " 94%|█████████▎| 15488/16536 [37:52<02:26,  7.17it/s]"
     ]
    },
    {
     "name": "stdout",
     "output_type": "stream",
     "text": [
      "No valid player games data for tournament roffa-rumble-13__melee-singles after filtering.\n"
     ]
    },
    {
     "name": "stderr",
     "output_type": "stream",
     "text": [
      " 94%|█████████▎| 15491/16536 [37:52<02:03,  8.43it/s]"
     ]
    },
    {
     "name": "stdout",
     "output_type": "stream",
     "text": [
      "No valid player games data for tournament umassd-smash-club-spring-2024-10__project-singles after filtering.\n"
     ]
    },
    {
     "name": "stderr",
     "output_type": "stream",
     "text": [
      " 94%|█████████▍| 15527/16536 [37:58<02:21,  7.12it/s]"
     ]
    },
    {
     "name": "stdout",
     "output_type": "stream",
     "text": [
      "No valid player games data for tournament minnesota-monthly-melee-18__melee-singles after filtering.\n"
     ]
    },
    {
     "name": "stderr",
     "output_type": "stream",
     "text": [
      " 94%|█████████▍| 15558/16536 [38:03<02:18,  7.04it/s]"
     ]
    },
    {
     "name": "stdout",
     "output_type": "stream",
     "text": [
      "No valid player games data for tournament saint-john-smash-rewind-40__melee-singles after filtering.\n"
     ]
    },
    {
     "name": "stderr",
     "output_type": "stream",
     "text": [
      " 94%|█████████▍| 15593/16536 [38:09<02:08,  7.35it/s]"
     ]
    },
    {
     "name": "stdout",
     "output_type": "stream",
     "text": [
      "No valid player games data for tournament midlane-melee-124__melee-singles after filtering.\n"
     ]
    },
    {
     "name": "stderr",
     "output_type": "stream",
     "text": [
      " 95%|█████████▍| 15648/16536 [38:18<01:50,  8.02it/s]"
     ]
    },
    {
     "name": "stdout",
     "output_type": "stream",
     "text": [
      "No valid player games data for tournament good-tournament-2__melee-singles after filtering.\n"
     ]
    },
    {
     "name": "stderr",
     "output_type": "stream",
     "text": [
      " 95%|█████████▍| 15674/16536 [38:22<01:54,  7.52it/s]"
     ]
    },
    {
     "name": "stdout",
     "output_type": "stream",
     "text": [
      "No valid player games data for tournament rust-belt-showdown-2__smash-melee-sat after filtering.\n"
     ]
    },
    {
     "name": "stderr",
     "output_type": "stream",
     "text": [
      " 95%|█████████▍| 15706/16536 [38:27<02:15,  6.13it/s]"
     ]
    },
    {
     "name": "stdout",
     "output_type": "stream",
     "text": [
      "No valid player games data for tournament melee-abbey-tavern-43__melee-singles after filtering.\n"
     ]
    },
    {
     "name": "stderr",
     "output_type": "stream",
     "text": [
      " 95%|█████████▌| 15753/16536 [38:34<02:03,  6.32it/s]"
     ]
    },
    {
     "name": "stdout",
     "output_type": "stream",
     "text": [
      "No valid player games data for tournament super-n-rre-bros-32-1__melee-singles after filtering.\n"
     ]
    },
    {
     "name": "stderr",
     "output_type": "stream",
     "text": [
      " 95%|█████████▌| 15767/16536 [38:36<01:45,  7.28it/s]"
     ]
    },
    {
     "name": "stdout",
     "output_type": "stream",
     "text": [
      "No valid player games data for tournament who-s-on-ledge-6-melee-and-p-edition__melee-singles after filtering.\n"
     ]
    },
    {
     "name": "stderr",
     "output_type": "stream",
     "text": [
      " 95%|█████████▌| 15774/16536 [38:37<01:45,  7.19it/s]"
     ]
    },
    {
     "name": "stdout",
     "output_type": "stream",
     "text": [
      "No valid player games data for tournament bristol-s-basement-xv-alpha-sapphire__melee-singles after filtering.\n"
     ]
    },
    {
     "name": "stderr",
     "output_type": "stream",
     "text": [
      " 96%|█████████▌| 15822/16536 [38:45<01:42,  6.95it/s]"
     ]
    },
    {
     "name": "stdout",
     "output_type": "stream",
     "text": [
      "No valid player games data for tournament vienna-melee-s01e11-finale__weekly-singles-bracket after filtering.\n"
     ]
    },
    {
     "name": "stderr",
     "output_type": "stream",
     "text": [
      " 96%|█████████▌| 15861/16536 [38:51<01:15,  8.93it/s]"
     ]
    },
    {
     "name": "stdout",
     "output_type": "stream",
     "text": [
      "No valid player games data for tournament code-red-133__melee-singles after filtering.\n",
      "No valid player games data for tournament code-red-133__melee-redemption after filtering.\n"
     ]
    },
    {
     "name": "stderr",
     "output_type": "stream",
     "text": [
      " 96%|█████████▌| 15865/16536 [38:52<01:29,  7.53it/s]"
     ]
    },
    {
     "name": "stdout",
     "output_type": "stream",
     "text": [
      "No valid player games data for tournament smash-ntnu-gl-shaugen-186__melee-singles after filtering.\n"
     ]
    },
    {
     "name": "stderr",
     "output_type": "stream",
     "text": [
      " 96%|█████████▌| 15891/16536 [38:56<01:30,  7.15it/s]"
     ]
    },
    {
     "name": "stdout",
     "output_type": "stream",
     "text": [
      "No valid player games data for tournament don-t-drown-in-pools-2024__melee-singles after filtering.\n"
     ]
    },
    {
     "name": "stderr",
     "output_type": "stream",
     "text": [
      " 96%|█████████▋| 15925/16536 [39:02<01:34,  6.48it/s]"
     ]
    },
    {
     "name": "stdout",
     "output_type": "stream",
     "text": [
      "No valid player games data for tournament buffalo-wild-wednesdays-v3-2-2__melee-singles after filtering.\n"
     ]
    },
    {
     "name": "stderr",
     "output_type": "stream",
     "text": [
      " 97%|█████████▋| 15958/16536 [39:07<01:16,  7.53it/s]"
     ]
    },
    {
     "name": "stdout",
     "output_type": "stream",
     "text": [
      "No valid player games data for tournament code-red-134__melee-singles after filtering.\n"
     ]
    },
    {
     "name": "stderr",
     "output_type": "stream",
     "text": [
      " 97%|█████████▋| 15964/16536 [39:08<01:09,  8.25it/s]"
     ]
    },
    {
     "name": "stdout",
     "output_type": "stream",
     "text": [
      "No valid player games data for tournament el-rey-del-salseo-m-i-a-melee-in-action__melee-singles after filtering.\n"
     ]
    },
    {
     "name": "stderr",
     "output_type": "stream",
     "text": [
      " 97%|█████████▋| 15966/16536 [39:08<00:56, 10.14it/s]"
     ]
    },
    {
     "name": "stdout",
     "output_type": "stream",
     "text": [
      "No valid player games data for tournament tender-loving-crouch-cancels-7-kept-you-waiting-huh__melee-singles after filtering.\n",
      "No valid player games data for tournament 250-pot-bonus-for-singles-xanadu-legends-may-2024__250-pot-bonus-melee-singles-3-00-pm-tournament after filtering.\n"
     ]
    },
    {
     "name": "stderr",
     "output_type": "stream",
     "text": [
      " 97%|█████████▋| 15983/16536 [39:10<01:14,  7.41it/s]"
     ]
    },
    {
     "name": "stdout",
     "output_type": "stream",
     "text": [
      "No valid player games data for tournament saint-john-smash-rewind-44__melee-singles after filtering.\n"
     ]
    },
    {
     "name": "stderr",
     "output_type": "stream",
     "text": [
      " 97%|█████████▋| 16022/16536 [39:18<01:11,  7.17it/s]"
     ]
    },
    {
     "name": "stdout",
     "output_type": "stream",
     "text": [
      "No valid player games data for tournament town-center-tussle-14-1__melee-singles after filtering.\n"
     ]
    },
    {
     "name": "stderr",
     "output_type": "stream",
     "text": [
      " 97%|█████████▋| 16043/16536 [39:22<01:11,  6.94it/s]"
     ]
    },
    {
     "name": "stdout",
     "output_type": "stream",
     "text": [
      "No valid player games data for tournament battlegateway-45__bbracket after filtering.\n"
     ]
    },
    {
     "name": "stderr",
     "output_type": "stream",
     "text": [
      " 97%|█████████▋| 16045/16536 [39:22<01:00,  8.08it/s]"
     ]
    },
    {
     "name": "stdout",
     "output_type": "stream",
     "text": [
      "No valid player games data for tournament small-good-tournament__melee-singles after filtering.\n"
     ]
    },
    {
     "name": "stderr",
     "output_type": "stream",
     "text": [
      " 97%|█████████▋| 16063/16536 [39:25<01:08,  6.87it/s]"
     ]
    },
    {
     "name": "stdout",
     "output_type": "stream",
     "text": [
      "No valid player games data for tournament high-percent-2-double-measure__melee-singles after filtering.\n"
     ]
    },
    {
     "name": "stderr",
     "output_type": "stream",
     "text": [
      " 97%|█████████▋| 16085/16536 [39:28<00:58,  7.66it/s]"
     ]
    },
    {
     "name": "stdout",
     "output_type": "stream",
     "text": [
      "No valid player games data for tournament lost-level-melee-24__melee-singles after filtering.\n"
     ]
    },
    {
     "name": "stderr",
     "output_type": "stream",
     "text": [
      " 98%|█████████▊| 16141/16536 [39:37<00:42,  9.22it/s]"
     ]
    },
    {
     "name": "stdout",
     "output_type": "stream",
     "text": [
      "No valid player games data for tournament smash-ntnu-gl-shaugen-188__melee-singles after filtering.\n",
      "No valid player games data for tournament tender-loving-crouch-cancels-8-combo-broken__melee-singles after filtering.\n"
     ]
    },
    {
     "name": "stderr",
     "output_type": "stream",
     "text": [
      " 98%|█████████▊| 16152/16536 [39:39<00:46,  8.30it/s]"
     ]
    },
    {
     "name": "stdout",
     "output_type": "stream",
     "text": [
      "No valid player games data for tournament masala-monthly-4__melee-singles after filtering.\n"
     ]
    },
    {
     "name": "stderr",
     "output_type": "stream",
     "text": [
      " 98%|█████████▊| 16161/16536 [39:40<00:50,  7.35it/s]"
     ]
    },
    {
     "name": "stdout",
     "output_type": "stream",
     "text": [
      "No valid player games data for tournament bristol-s-basement-xvi-fires-of-rubicon-1__melee-singles after filtering.\n"
     ]
    },
    {
     "name": "stderr",
     "output_type": "stream",
     "text": [
      " 98%|█████████▊| 16186/16536 [39:44<01:01,  5.65it/s]"
     ]
    },
    {
     "name": "stdout",
     "output_type": "stream",
     "text": [
      "No valid player games data for tournament melee-verdugo-west-249-memorial-day-edition__melee-singles after filtering.\n"
     ]
    },
    {
     "name": "stderr",
     "output_type": "stream",
     "text": [
      " 98%|█████████▊| 16204/16536 [39:47<01:00,  5.47it/s]"
     ]
    },
    {
     "name": "stdout",
     "output_type": "stream",
     "text": [
      "No valid player games data for tournament midlane-melee-130__melee-singles after filtering.\n"
     ]
    },
    {
     "name": "stderr",
     "output_type": "stream",
     "text": [
      " 98%|█████████▊| 16226/16536 [39:51<00:43,  7.19it/s]"
     ]
    },
    {
     "name": "stdout",
     "output_type": "stream",
     "text": [
      "No valid player games data for tournament asvg-freaky-friday__melee-singles after filtering.\n"
     ]
    },
    {
     "name": "stderr",
     "output_type": "stream",
     "text": [
      " 98%|█████████▊| 16254/16536 [39:55<00:38,  7.40it/s]"
     ]
    },
    {
     "name": "stdout",
     "output_type": "stream",
     "text": [
      "No valid player games data for tournament kara-bazaar__melee-singles after filtering.\n"
     ]
    },
    {
     "name": "stderr",
     "output_type": "stream",
     "text": [
      " 98%|█████████▊| 16278/16536 [39:59<00:31,  8.15it/s]"
     ]
    },
    {
     "name": "stdout",
     "output_type": "stream",
     "text": [
      "No valid player games data for tournament maul-196-6-3-24__melee-singles after filtering.\n"
     ]
    },
    {
     "name": "stderr",
     "output_type": "stream",
     "text": [
      " 99%|█████████▉| 16341/16536 [40:10<00:28,  6.96it/s]"
     ]
    },
    {
     "name": "stdout",
     "output_type": "stream",
     "text": [
      "No valid player games data for tournament puffin-play-finale__melee-1v1 after filtering.\n"
     ]
    },
    {
     "name": "stderr",
     "output_type": "stream",
     "text": [
      " 99%|█████████▉| 16374/16536 [40:15<00:22,  7.05it/s]"
     ]
    },
    {
     "name": "stdout",
     "output_type": "stream",
     "text": [
      "No valid player games data for tournament lost-level-melee-25__melee-singles after filtering.\n"
     ]
    },
    {
     "name": "stderr",
     "output_type": "stream",
     "text": [
      " 99%|█████████▉| 16380/16536 [40:16<00:19,  7.91it/s]"
     ]
    },
    {
     "name": "stdout",
     "output_type": "stream",
     "text": [
      "No valid player games data for tournament time-warp-20__melee-singles after filtering.\n"
     ]
    },
    {
     "name": "stderr",
     "output_type": "stream",
     "text": [
      " 99%|█████████▉| 16384/16536 [40:17<00:23,  6.54it/s]"
     ]
    },
    {
     "name": "stdout",
     "output_type": "stream",
     "text": [
      "No valid player games data for tournament melee-abbey-tavern-50__melee-singles after filtering.\n"
     ]
    },
    {
     "name": "stderr",
     "output_type": "stream",
     "text": [
      " 99%|█████████▉| 16420/16536 [40:23<00:16,  7.19it/s]"
     ]
    },
    {
     "name": "stdout",
     "output_type": "stream",
     "text": [
      "No valid player games data for tournament free-friday-43-nauvoo-ooh-mr-electricidad__melee-singles after filtering.\n"
     ]
    },
    {
     "name": "stderr",
     "output_type": "stream",
     "text": [
      " 99%|█████████▉| 16425/16536 [40:23<00:14,  7.92it/s]"
     ]
    },
    {
     "name": "stdout",
     "output_type": "stream",
     "text": [
      "No valid player games data for tournament smash-ntnu-gl-shaugen-190__melee-singles after filtering.\n"
     ]
    },
    {
     "name": "stderr",
     "output_type": "stream",
     "text": [
      " 99%|█████████▉| 16450/16536 [40:27<00:13,  6.48it/s]"
     ]
    },
    {
     "name": "stdout",
     "output_type": "stream",
     "text": [
      "No valid player games data for tournament harbour-fights-15-mang0-w-edition__melee-singles after filtering.\n"
     ]
    },
    {
     "name": "stderr",
     "output_type": "stream",
     "text": [
      "100%|█████████▉| 16510/16536 [40:38<00:03,  7.52it/s]"
     ]
    },
    {
     "name": "stdout",
     "output_type": "stream",
     "text": [
      "No valid player games data for tournament smash-ntnu-gl-shaugen-191__melee-singles after filtering.\n"
     ]
    },
    {
     "name": "stderr",
     "output_type": "stream",
     "text": [
      "100%|█████████▉| 16527/16536 [40:40<00:01,  8.21it/s]"
     ]
    },
    {
     "name": "stdout",
     "output_type": "stream",
     "text": [
      "No valid player games data for tournament liga-melee-br__esq-4 after filtering.\n"
     ]
    },
    {
     "name": "stderr",
     "output_type": "stream",
     "text": [
      "100%|██████████| 16536/16536 [40:42<00:00,  6.77it/s]\n"
     ]
    }
   ],
   "source": [
    "# process_tournament(tournament_key, player_ratings_matchup_df, tournament_info_df, sets_df)\n",
    "# Initialize player ratings DataFrame\n",
    "player_ratings_matchup_df = pd.DataFrame(columns=[\n",
    "    'player_id',\n",
    "    'dates_dict',          # {player_char: {opponent_char: [dates]}}\n",
    "    'rating_history_dict', # {player_char: {opponent_char: [ratings]}}\n",
    "    'rd_history_dict',     # {player_char: {opponent_char: [RDs]}}\n",
    "    'game_count_dict',     # {player_char: {opponent_char: game_count}}\n",
    "    'glicko2_dict'         # {player_char: {opponent_char: Player()}}\n",
    "])\n",
    "\n",
    "# Loop over tournaments\n",
    "for idx, tournament in tqdm.tqdm(game_data_tournaments_df.iterrows(), total=game_data_tournaments_df.shape[0]):\n",
    "    player_ratings_matchup_df = process_tournament(tournament['key'], player_ratings_matchup_df, tournament_info_df, sets_df)"
   ]
  },
  {
   "cell_type": "code",
   "execution_count": 13,
   "metadata": {},
   "outputs": [
    {
     "data": {
      "text/html": [
       "<div>\n",
       "<style scoped>\n",
       "    .dataframe tbody tr th:only-of-type {\n",
       "        vertical-align: middle;\n",
       "    }\n",
       "\n",
       "    .dataframe tbody tr th {\n",
       "        vertical-align: top;\n",
       "    }\n",
       "\n",
       "    .dataframe thead th {\n",
       "        text-align: right;\n",
       "    }\n",
       "</style>\n",
       "<table border=\"1\" class=\"dataframe\">\n",
       "  <thead>\n",
       "    <tr style=\"text-align: right;\">\n",
       "      <th></th>\n",
       "      <th>player_id</th>\n",
       "      <th>dates_dict</th>\n",
       "      <th>rating_history_dict</th>\n",
       "      <th>rd_history_dict</th>\n",
       "      <th>game_count_dict</th>\n",
       "      <th>glicko2_dict</th>\n",
       "    </tr>\n",
       "  </thead>\n",
       "  <tbody>\n",
       "    <tr>\n",
       "      <th>0</th>\n",
       "      <td>4643</td>\n",
       "      <td>{'melee/jigglypuff': {'melee/falco': [2015-04-...</td>\n",
       "      <td>{'melee/jigglypuff': {'melee/falco': [1799.626...</td>\n",
       "      <td>{'melee/jigglypuff': {'melee/falco': [227.7354...</td>\n",
       "      <td>{'melee/jigglypuff': {'melee/falco': 3, 'melee...</td>\n",
       "      <td>{'melee/jigglypuff': {'melee/zelda': &lt;glicko2....</td>\n",
       "    </tr>\n",
       "    <tr>\n",
       "      <th>1</th>\n",
       "      <td>4005</td>\n",
       "      <td>{'melee/mario': {'melee/falco': [2015-04-13 05...</td>\n",
       "      <td>{'melee/mario': {'melee/falco': [1799.62603124...</td>\n",
       "      <td>{'melee/mario': {'melee/falco': [227.735488936...</td>\n",
       "      <td>{'melee/mario': {'melee/falco': 3, 'melee/jigg...</td>\n",
       "      <td>{'melee/mario': {'melee/marth': &lt;glicko2.glick...</td>\n",
       "    </tr>\n",
       "    <tr>\n",
       "      <th>2</th>\n",
       "      <td>4624</td>\n",
       "      <td>{'melee/jigglypuff': {'melee/pikachu': [2015-0...</td>\n",
       "      <td>{'melee/jigglypuff': {'melee/pikachu': [1747.3...</td>\n",
       "      <td>{'melee/jigglypuff': {'melee/pikachu': [253.40...</td>\n",
       "      <td>{'melee/jigglypuff': {'melee/pikachu': 2}, 'me...</td>\n",
       "      <td>{'melee/zelda': {'melee/pikachu': &lt;glicko2.gli...</td>\n",
       "    </tr>\n",
       "    <tr>\n",
       "      <th>3</th>\n",
       "      <td>4469</td>\n",
       "      <td>{'melee/falco': {'melee/marth': [2015-04-13 05...</td>\n",
       "      <td>{'melee/falco': {'melee/marth': [1747.31814972...</td>\n",
       "      <td>{'melee/falco': {'melee/marth': [253.404642284...</td>\n",
       "      <td>{'melee/falco': {'melee/marth': 2, 'melee/pika...</td>\n",
       "      <td>{'melee/marth': {'melee/jigglypuff': &lt;glicko2....</td>\n",
       "    </tr>\n",
       "    <tr>\n",
       "      <th>4</th>\n",
       "      <td>6189</td>\n",
       "      <td>{'melee/falco': {'melee/fox': [2015-04-13 05:0...</td>\n",
       "      <td>{'melee/falco': {'melee/fox': [1662.3108949761...</td>\n",
       "      <td>{'melee/falco': {'melee/fox': [290.31896467475...</td>\n",
       "      <td>{'melee/falco': {'melee/fox': 2, 'melee/peach'...</td>\n",
       "      <td>{'melee/fox': {'melee/zelda': &lt;glicko2.glicko2...</td>\n",
       "    </tr>\n",
       "  </tbody>\n",
       "</table>\n",
       "</div>"
      ],
      "text/plain": [
       "  player_id                                         dates_dict  \\\n",
       "0      4643  {'melee/jigglypuff': {'melee/falco': [2015-04-...   \n",
       "1      4005  {'melee/mario': {'melee/falco': [2015-04-13 05...   \n",
       "2      4624  {'melee/jigglypuff': {'melee/pikachu': [2015-0...   \n",
       "3      4469  {'melee/falco': {'melee/marth': [2015-04-13 05...   \n",
       "4      6189  {'melee/falco': {'melee/fox': [2015-04-13 05:0...   \n",
       "\n",
       "                                 rating_history_dict  \\\n",
       "0  {'melee/jigglypuff': {'melee/falco': [1799.626...   \n",
       "1  {'melee/mario': {'melee/falco': [1799.62603124...   \n",
       "2  {'melee/jigglypuff': {'melee/pikachu': [1747.3...   \n",
       "3  {'melee/falco': {'melee/marth': [1747.31814972...   \n",
       "4  {'melee/falco': {'melee/fox': [1662.3108949761...   \n",
       "\n",
       "                                     rd_history_dict  \\\n",
       "0  {'melee/jigglypuff': {'melee/falco': [227.7354...   \n",
       "1  {'melee/mario': {'melee/falco': [227.735488936...   \n",
       "2  {'melee/jigglypuff': {'melee/pikachu': [253.40...   \n",
       "3  {'melee/falco': {'melee/marth': [253.404642284...   \n",
       "4  {'melee/falco': {'melee/fox': [290.31896467475...   \n",
       "\n",
       "                                     game_count_dict  \\\n",
       "0  {'melee/jigglypuff': {'melee/falco': 3, 'melee...   \n",
       "1  {'melee/mario': {'melee/falco': 3, 'melee/jigg...   \n",
       "2  {'melee/jigglypuff': {'melee/pikachu': 2}, 'me...   \n",
       "3  {'melee/falco': {'melee/marth': 2, 'melee/pika...   \n",
       "4  {'melee/falco': {'melee/fox': 2, 'melee/peach'...   \n",
       "\n",
       "                                        glicko2_dict  \n",
       "0  {'melee/jigglypuff': {'melee/zelda': <glicko2....  \n",
       "1  {'melee/mario': {'melee/marth': <glicko2.glick...  \n",
       "2  {'melee/zelda': {'melee/pikachu': <glicko2.gli...  \n",
       "3  {'melee/marth': {'melee/jigglypuff': <glicko2....  \n",
       "4  {'melee/fox': {'melee/zelda': <glicko2.glicko2...  "
      ]
     },
     "execution_count": 13,
     "metadata": {},
     "output_type": "execute_result"
    }
   ],
   "source": [
    "player_ratings_matchup_df.head()"
   ]
  },
  {
   "cell_type": "code",
   "execution_count": 14,
   "metadata": {},
   "outputs": [],
   "source": [
    "# player_ratings_matchup_df.to_pickle('../player_ratings_matchup_data/player_ratings_matchup_tau_13_df.pkl')"
   ]
  },
  {
   "cell_type": "code",
   "execution_count": 15,
   "metadata": {},
   "outputs": [
    {
     "ename": "FileNotFoundError",
     "evalue": "[Errno 2] No such file or directory: '../player_ratings_matchup_data/player_ratings_matchup_tau_13_df.pkl'",
     "output_type": "error",
     "traceback": [
      "\u001b[1;31m---------------------------------------------------------------------------\u001b[0m",
      "\u001b[1;31mFileNotFoundError\u001b[0m                         Traceback (most recent call last)",
      "Cell \u001b[1;32mIn[15], line 1\u001b[0m\n\u001b[1;32m----> 1\u001b[0m loaded \u001b[38;5;241m=\u001b[39m  \u001b[43mpd\u001b[49m\u001b[38;5;241;43m.\u001b[39;49m\u001b[43mread_pickle\u001b[49m\u001b[43m(\u001b[49m\u001b[38;5;124;43m'\u001b[39;49m\u001b[38;5;124;43m../player_ratings_matchup_data/player_ratings_matchup_tau_13_df.pkl\u001b[39;49m\u001b[38;5;124;43m'\u001b[39;49m\u001b[43m)\u001b[49m\n\u001b[0;32m      2\u001b[0m loaded\u001b[38;5;241m.\u001b[39mhead()\n",
      "File \u001b[1;32m~\\AppData\\Roaming\\Python\\Python312\\site-packages\\pandas\\io\\pickle.py:185\u001b[0m, in \u001b[0;36mread_pickle\u001b[1;34m(filepath_or_buffer, compression, storage_options)\u001b[0m\n\u001b[0;32m    123\u001b[0m \u001b[38;5;250m\u001b[39m\u001b[38;5;124;03m\"\"\"\u001b[39;00m\n\u001b[0;32m    124\u001b[0m \u001b[38;5;124;03mLoad pickled pandas object (or any object) from file.\u001b[39;00m\n\u001b[0;32m    125\u001b[0m \n\u001b[1;32m   (...)\u001b[0m\n\u001b[0;32m    182\u001b[0m \u001b[38;5;124;03m4    4    9\u001b[39;00m\n\u001b[0;32m    183\u001b[0m \u001b[38;5;124;03m\"\"\"\u001b[39;00m\n\u001b[0;32m    184\u001b[0m excs_to_catch \u001b[38;5;241m=\u001b[39m (\u001b[38;5;167;01mAttributeError\u001b[39;00m, \u001b[38;5;167;01mImportError\u001b[39;00m, \u001b[38;5;167;01mModuleNotFoundError\u001b[39;00m, \u001b[38;5;167;01mTypeError\u001b[39;00m)\n\u001b[1;32m--> 185\u001b[0m \u001b[38;5;28;01mwith\u001b[39;00m \u001b[43mget_handle\u001b[49m\u001b[43m(\u001b[49m\n\u001b[0;32m    186\u001b[0m \u001b[43m    \u001b[49m\u001b[43mfilepath_or_buffer\u001b[49m\u001b[43m,\u001b[49m\n\u001b[0;32m    187\u001b[0m \u001b[43m    \u001b[49m\u001b[38;5;124;43m\"\u001b[39;49m\u001b[38;5;124;43mrb\u001b[39;49m\u001b[38;5;124;43m\"\u001b[39;49m\u001b[43m,\u001b[49m\n\u001b[0;32m    188\u001b[0m \u001b[43m    \u001b[49m\u001b[43mcompression\u001b[49m\u001b[38;5;241;43m=\u001b[39;49m\u001b[43mcompression\u001b[49m\u001b[43m,\u001b[49m\n\u001b[0;32m    189\u001b[0m \u001b[43m    \u001b[49m\u001b[43mis_text\u001b[49m\u001b[38;5;241;43m=\u001b[39;49m\u001b[38;5;28;43;01mFalse\u001b[39;49;00m\u001b[43m,\u001b[49m\n\u001b[0;32m    190\u001b[0m \u001b[43m    \u001b[49m\u001b[43mstorage_options\u001b[49m\u001b[38;5;241;43m=\u001b[39;49m\u001b[43mstorage_options\u001b[49m\u001b[43m,\u001b[49m\n\u001b[0;32m    191\u001b[0m \u001b[43m\u001b[49m\u001b[43m)\u001b[49m \u001b[38;5;28;01mas\u001b[39;00m handles:\n\u001b[0;32m    192\u001b[0m     \u001b[38;5;66;03m# 1) try standard library Pickle\u001b[39;00m\n\u001b[0;32m    193\u001b[0m     \u001b[38;5;66;03m# 2) try pickle_compat (older pandas version) to handle subclass changes\u001b[39;00m\n\u001b[0;32m    194\u001b[0m     \u001b[38;5;66;03m# 3) try pickle_compat with latin-1 encoding upon a UnicodeDecodeError\u001b[39;00m\n\u001b[0;32m    196\u001b[0m     \u001b[38;5;28;01mtry\u001b[39;00m:\n\u001b[0;32m    197\u001b[0m         \u001b[38;5;66;03m# TypeError for Cython complaints about object.__new__ vs Tick.__new__\u001b[39;00m\n\u001b[0;32m    198\u001b[0m         \u001b[38;5;28;01mtry\u001b[39;00m:\n",
      "File \u001b[1;32m~\\AppData\\Roaming\\Python\\Python312\\site-packages\\pandas\\io\\common.py:882\u001b[0m, in \u001b[0;36mget_handle\u001b[1;34m(path_or_buf, mode, encoding, compression, memory_map, is_text, errors, storage_options)\u001b[0m\n\u001b[0;32m    873\u001b[0m         handle \u001b[38;5;241m=\u001b[39m \u001b[38;5;28mopen\u001b[39m(\n\u001b[0;32m    874\u001b[0m             handle,\n\u001b[0;32m    875\u001b[0m             ioargs\u001b[38;5;241m.\u001b[39mmode,\n\u001b[1;32m   (...)\u001b[0m\n\u001b[0;32m    878\u001b[0m             newline\u001b[38;5;241m=\u001b[39m\u001b[38;5;124m\"\u001b[39m\u001b[38;5;124m\"\u001b[39m,\n\u001b[0;32m    879\u001b[0m         )\n\u001b[0;32m    880\u001b[0m     \u001b[38;5;28;01melse\u001b[39;00m:\n\u001b[0;32m    881\u001b[0m         \u001b[38;5;66;03m# Binary mode\u001b[39;00m\n\u001b[1;32m--> 882\u001b[0m         handle \u001b[38;5;241m=\u001b[39m \u001b[38;5;28;43mopen\u001b[39;49m\u001b[43m(\u001b[49m\u001b[43mhandle\u001b[49m\u001b[43m,\u001b[49m\u001b[43m \u001b[49m\u001b[43mioargs\u001b[49m\u001b[38;5;241;43m.\u001b[39;49m\u001b[43mmode\u001b[49m\u001b[43m)\u001b[49m\n\u001b[0;32m    883\u001b[0m     handles\u001b[38;5;241m.\u001b[39mappend(handle)\n\u001b[0;32m    885\u001b[0m \u001b[38;5;66;03m# Convert BytesIO or file objects passed with an encoding\u001b[39;00m\n",
      "\u001b[1;31mFileNotFoundError\u001b[0m: [Errno 2] No such file or directory: '../player_ratings_matchup_data/player_ratings_matchup_tau_13_df.pkl'"
     ]
    }
   ],
   "source": [
    "loaded =  pd.read_pickle('../player_ratings_matchup_data/player_ratings_matchup_tau_13_df.pkl')\n",
    "loaded.head()"
   ]
  },
  {
   "cell_type": "code",
   "execution_count": 16,
   "metadata": {},
   "outputs": [],
   "source": [
    "# im"
   ]
  }
 ],
 "metadata": {
  "kernelspec": {
   "display_name": "fall_2024_melee",
   "language": "python",
   "name": "python3"
  },
  "language_info": {
   "codemirror_mode": {
    "name": "ipython",
    "version": 3
   },
   "file_extension": ".py",
   "mimetype": "text/x-python",
   "name": "python",
   "nbconvert_exporter": "python",
   "pygments_lexer": "ipython3",
   "version": "3.12.6"
  }
 },
 "nbformat": 4,
 "nbformat_minor": 2
}
