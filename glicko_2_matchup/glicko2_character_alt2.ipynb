{
 "cells": [
  {
   "cell_type": "code",
   "execution_count": 1,
   "metadata": {},
   "outputs": [],
   "source": [
    "import pandas as pd\n",
    "import numpy as np\n",
    "import matplotlib.pyplot as plt\n",
    "import json\n",
    "from collections import defaultdict\n",
    "from joblib import Parallel, delayed\n",
    "\n",
    "import sqlite3\n",
    "import sys\n",
    "import time\n",
    "import math\n",
    "#import tqdm\n",
    "from tqdm.auto import tqdm\n",
    "import datetime\n",
    "import os\n",
    "import pickle\n",
    "from pathlib import Path\n",
    "\n",
    "from glicko2 import Player\n",
    "import multiprocessing\n",
    "\n",
    "tqdm.pandas()\n",
    "\n",
    "if os.path.exists('/workspace/data'):\n",
    "    # Load the dictionary of DataFrames from the pickle\n",
    "    data_path = '/workspace/data/'\n",
    "else:\n",
    "    data_path = '../data/'"
   ]
  },
  {
   "cell_type": "markdown",
   "metadata": {},
   "source": [
    "## Loading SQLite Database into Pandas DataFrames\n",
    "\n",
    "The following code connects to an SQLite database (`melee_player_database.db`) and converts each table within the database into a pandas DataFrame. The DataFrames will be stored in a dictionary, where each key corresponds to the table name with `_df` appended, and the values are the respective DataFrames.\n",
    "\n",
    "### Steps:\n",
    "\n",
    "1. **Database Connection**: We use the `sqlite3` library to connect to the SQLite database file.\n",
    "2. **Retrieve Table Names**: A query retrieves all the table names in the database.\n",
    "3. **Convert Tables to DataFrames**: For each table:\n",
    "   - The table is loaded into a pandas DataFrame using `pd.read_sql()`.\n",
    "   - We check each column to see if any data is JSON-formatted (lists or dictionaries). If so, we convert these columns from strings into their corresponding Python objects using `json.loads()`.\n",
    "4. **Store DataFrames**: The DataFrames are stored in a dictionary, where the key is the table name with a `_df` suffix, and the value is the DataFrame.\n",
    "5. **Database Connection Closed**: Once all tables are loaded into DataFrames, the database connection is closed.\n",
    "\n",
    "### Example:\n",
    "If the database contains a table named `players`, the corresponding DataFrame will be stored in the dictionary with the key `players_df`, and can be accessed as:\n",
    "\n",
    "```python\n",
    "players_df = dfs['players_df']\n"
   ]
  },
  {
   "cell_type": "code",
   "execution_count": 2,
   "metadata": {},
   "outputs": [],
   "source": [
    "# Function to get the table names\n",
    "def get_table_names(conn):\n",
    "    query = \"SELECT name FROM sqlite_master WHERE type='table';\"\n",
    "    return pd.read_sql(query, conn)['name'].tolist()\n",
    "\n",
    "# Function to load tables into DataFrames\n",
    "def load_tables_to_dfs(conn):\n",
    "    table_names = get_table_names(conn)\n",
    "    dataframes = {}\n",
    "    \n",
    "    for table in table_names:\n",
    "        # Load table into a DataFrame\n",
    "        df = pd.read_sql(f\"SELECT * FROM {table}\", conn)\n",
    "        \n",
    "        # Detect and convert JSON formatted columns (if any)\n",
    "        for col in df.columns:\n",
    "            # Check if any entry in the column is a valid JSON (list or dictionary)\n",
    "            if df[col].apply(lambda x: isinstance(x, str)).all():\n",
    "                try:\n",
    "                    # Try parsing the column as JSON\n",
    "                    df[col] = df[col].apply(lambda x: json.loads(x) if pd.notnull(x) else x)\n",
    "                except (json.JSONDecodeError, TypeError):\n",
    "                    # If it fails, skip the column\n",
    "                    pass\n",
    "        \n",
    "        # Store the DataFrame with table name + '_df'\n",
    "        dataframes[f\"{table}_df\"] = df\n",
    "        \n",
    "    return dataframes\n",
    "\n",
    "if os.path.exists(data_path + 'dfs_dict.pkl'):\n",
    "    cell_has_run = True\n",
    "    # Load the dictionary of DataFrames from the pickle\n",
    "    with open(data_path + 'dfs_dict.pkl', 'rb') as f:\n",
    "        dfs = pickle.load(f)\n",
    "# Check if the flag variable exists in the global scope so that this code does not run twice\n",
    "if 'cell_has_run' not in globals():\n",
    "    path = data_path + \"melee_player_database.db\"\n",
    "    \n",
    "    # Connect to the database\n",
    "    conn = sqlite3.connect(path)\n",
    "\n",
    "    # Convert each table into a DataFrame\n",
    "    dfs = load_tables_to_dfs(conn)\n",
    "\n",
    "    # Close the connection\n",
    "    conn.close()\n",
    "\n",
    "    # Now, you have a dictionary 'dfs' where each key is the table name with '_df' suffix and value is the corresponding DataFrame.\n",
    "    # For example, to access the DataFrame for a table called 'players':\n",
    "    # players_df = dfs['players_df']\n",
    "\n",
    "    dfs['tournament_info_df']['start'] = pd.to_datetime(dfs['tournament_info_df']['start'], unit='s')\n",
    "    dfs['tournament_info_df']['end'] = pd.to_datetime(dfs['tournament_info_df']['end'], unit='s')\n",
    "\n",
    "    \n",
    "    # Set the flag to indicate that the cell has been run\n",
    "    cell_has_run = True"
   ]
  },
  {
   "cell_type": "markdown",
   "metadata": {},
   "source": [
    "### Here we adjust the data types of the dataframes so that they are the correct type. (This will be updated as needed.)"
   ]
  },
  {
   "cell_type": "code",
   "execution_count": 3,
   "metadata": {},
   "outputs": [],
   "source": [
    "dfs['sets_df']['best_of'] = dfs['sets_df']['best_of'].fillna(0).astype(int) "
   ]
  },
  {
   "cell_type": "markdown",
   "metadata": {},
   "source": [
    "### Here we make dataframes that we will use and print the head.\n",
    "\n",
    "The integers in 'characters' count the number of games the player has played that character. (We verify this for Zain below.)"
   ]
  },
  {
   "cell_type": "code",
   "execution_count": null,
   "metadata": {},
   "outputs": [],
   "source": [
    "players_df = dfs['players_df']\n",
    "players_df.head()"
   ]
  },
  {
   "cell_type": "code",
   "execution_count": null,
   "metadata": {},
   "outputs": [],
   "source": [
    "ranking_df = dfs['ranking_df']\n",
    "ranking_df.head()"
   ]
  },
  {
   "cell_type": "code",
   "execution_count": null,
   "metadata": {},
   "outputs": [],
   "source": [
    "ranking_seasons_df = dfs['ranking_seasons_df']\n",
    "ranking_seasons_df.head()"
   ]
  },
  {
   "cell_type": "code",
   "execution_count": null,
   "metadata": {},
   "outputs": [],
   "source": [
    "sets_df = dfs['sets_df']\n",
    "print(f\"{sets_df[sets_df['game_data'].apply(lambda x: len(x) > 0)].shape[0] / sets_df.shape[0]:0.01%} percent of sets have some game data)\")\n",
    "\n",
    "sets_df.head()"
   ]
  },
  {
   "cell_type": "code",
   "execution_count": null,
   "metadata": {},
   "outputs": [],
   "source": [
    "tournament_info_df = dfs['tournament_info_df']\n",
    "tournament_info_df.head()"
   ]
  },
  {
   "cell_type": "code",
   "execution_count": 9,
   "metadata": {},
   "outputs": [],
   "source": [
    "# Code optimization by Dan\n",
    "# Basically we want to replace this line in process_tournament with something more efficient:\n",
    "#\n",
    "#      tournament_sets_df = sets_df[sets_df['tournament_key'] == tournament_key]\n",
    "#\n",
    "# Instead, we can\n",
    "# - Merge the tournament date info into ``sets_df``\n",
    "# - Sort by date\n",
    "# - Store the start/end positions of each tournament in a separate dictionary\n",
    "# - Use tournament_sets_df = sets_df.iloc[start:end+1] instead.\n",
    "\n",
    "sets_df = sets_df.merge(tournament_info_df[['key', 'start', 'end']], left_on='tournament_key', right_on='key', how='left')\n",
    "sets_df = sets_df.drop(labels=['key_y'], axis='columns')\n",
    "sets_df = sets_df.rename(columns={\"key_x\": \"key\"})\n",
    "sets_df = sets_df.sort_values(by=['end', 'tournament_key']) # Just in case there are tournaments with the exact same end date"
   ]
  },
  {
   "cell_type": "code",
   "execution_count": 10,
   "metadata": {},
   "outputs": [],
   "source": [
    "# A bit of data cleanup\n",
    "# TODO: Rerun!\n",
    "min_date = datetime.datetime(2015, 1, 1)\n",
    "max_date = datetime.datetime(2024, 12, 31)\n",
    "\n",
    "sets_df = sets_df[(sets_df['start'] >= min_date) & (sets_df['end'] >= min_date) & (sets_df['start'] <= max_date) & (sets_df['end'] <= max_date)]"
   ]
  },
  {
   "cell_type": "code",
   "execution_count": null,
   "metadata": {},
   "outputs": [],
   "source": [
    "# Example of game data. List of dictionaries.\n",
    "sets_df[sets_df['game_data'].apply(lambda x: x != [])].iloc[0]['game_data']"
   ]
  },
  {
   "cell_type": "markdown",
   "metadata": {},
   "source": [
    "## A variation on the other character matchup\n",
    "\n",
    "In short, the other character vs character matchup that I made relies on collecting all, for example, fox vs fox matches and computing rankings for those. (Seeing how fox players compare to each other). It then uses those elos to compute the elo of someone playing, for example, yoshi vs all fox players.\n",
    "\n",
    "This variation is different. It uses the *general* elo of every player to compute character matchup elos instead."
   ]
  },
  {
   "cell_type": "code",
   "execution_count": 12,
   "metadata": {},
   "outputs": [],
   "source": [
    "# Assumes dataset_generation/game_data_extractor.ipynb was run\n",
    "game_data_df = pd.read_pickle(data_path + 'individual_game_data.pkl')"
   ]
  },
  {
   "cell_type": "code",
   "execution_count": null,
   "metadata": {},
   "outputs": [],
   "source": [
    "all_characters = list(set(list(game_data_df['p1_char'].unique()) + list(game_data_df['p1_char'].unique())))\n",
    "all_characters"
   ]
  },
  {
   "cell_type": "markdown",
   "metadata": {},
   "source": [
    "## Compute the rankings for player/char/char"
   ]
  },
  {
   "cell_type": "code",
   "execution_count": null,
   "metadata": {},
   "outputs": [],
   "source": [
    "# Good for testing\n",
    "# 1021/yoshi - aMSa\n",
    "# 19554/fox - Cody\n",
    "\n",
    "# First, we build the set of rounds with one player and one opponent.\n",
    "# Each original row in game_data_df will contribute twice, with each player swapping the above roles.\n",
    "\n",
    "# For convenience, we can restrict our attention to players who actually have a reasonable amount of data with a certain character\n",
    "MIN_GAMES = 1\n",
    "\n",
    "game_players_series = pd.concat([game_data_df['p1_id'], game_data_df['p2_id']])\n",
    "total_games = game_players_series.value_counts()\n",
    "regular_players = total_games[total_games >= MIN_GAMES]\n",
    "\n",
    "print(\"{0} regular player/char combos\".format(len(regular_players.index)))\n",
    "\n",
    "# Lots of memory usage. Let's just reduce down to what we need.\n",
    "rounds_df = game_data_df[['p1_id', 'p2_id', 'winner_id', 'p1_char', 'p2_char', 'winner_char', 'start', 'end']]\n",
    "\n",
    "# Each row should contribute twice, swapping 'player' and 'opponent'\n",
    "df_p1 = rounds_df[rounds_df['p1_id'].apply(lambda x: x in regular_players.index)].copy()\n",
    "df_p1.rename(columns={'p1_id': 'player_id', 'p2_id': 'opponent_id',\n",
    "                      'p1_char': 'player_char', 'p2_char': 'opponent_char'}, inplace=True)\n",
    "df_p1['outcome'] = (df_p1['winner_id'] == df_p1['player_id']).astype(int)\n",
    "df_p1 = df_p1[['player_id', 'opponent_id', 'player_char', 'opponent_char', 'outcome', 'start', 'end']]\n",
    "    \n",
    "df_p2 = rounds_df[rounds_df['p2_id'].apply(lambda x: x in regular_players.index)].copy()\n",
    "df_p2.rename(columns={'p2_id': 'player_id', 'p1_id': 'opponent_id',\n",
    "                      'p2_char': 'player_char', 'p1_char': 'opponent_char'}, inplace=True)\n",
    "df_p2['outcome'] = (df_p2['winner_id'] == df_p2['player_id']).astype(int)\n",
    "df_p2 = df_p2[['player_id', 'opponent_id', 'player_char', 'opponent_char', 'outcome', 'start', 'end']]\n",
    "\n",
    "rounds_df = pd.concat([df_p1, df_p2], ignore_index=True)\n",
    "\n",
    "# Save some memory - these are probably huge.\n",
    "del df_p1\n",
    "del df_p2"
   ]
  },
  {
   "cell_type": "code",
   "execution_count": null,
   "metadata": {},
   "outputs": [],
   "source": [
    "rounds_df"
   ]
  },
  {
   "cell_type": "code",
   "execution_count": null,
   "metadata": {},
   "outputs": [],
   "source": [
    "player_ratings_df = pd.read_pickle(data_path + 'overall_players_ranking_new_weekly.pkl')\n",
    "player_rds_df = pd.read_pickle(data_path + 'overall_players_rds_new_weekly.pkl')\n",
    "\n",
    "# Returns Rating, RD, and a bool for (actually found = True, default values = False)\n",
    "def get_opponent_elo_rd(row):\n",
    "    # Not in our main list of players\n",
    "    if row['opponent_id'] not in player_ratings_df.columns:\n",
    "        return (1500.0, 350.0, False)\n",
    "\n",
    "    # No old enough data\n",
    "    if player_ratings_df.index[0] > row['start']:\n",
    "        return (1500.0, 350.0, False)\n",
    "\n",
    "    # We can take advantage of the fact that the index of player_ratings is always in regular intervals.\n",
    "    start_date = player_ratings_df.index[0]\n",
    "    interval = player_ratings_df.index[1] - player_ratings_df.index[0] # I guess we're assuming at least two entries?\n",
    "\n",
    "    newest_index = int((row['start'] - start_date) / interval)\n",
    "\n",
    "    # Might actually be out of bounds on the data we have,\n",
    "    # i.e. 'start' might be well beyond the dates we have data on.\n",
    "    # In this case, just use the newest piece of data.\n",
    "    if newest_index >= len(player_ratings_df.index):\n",
    "        newest_index = len(player_ratings_df.index) - 1\n",
    "\n",
    "    return (player_ratings_df.iloc[newest_index][row['opponent_id']], player_rds_df.iloc[newest_index][row['opponent_id']], True)\n",
    "\n",
    "rounds_df['result'] = rounds_df.apply(get_opponent_elo_rd, axis=1)\n",
    "\n",
    "rounds_df['opponent_rating'] = rounds_df['result'].apply(lambda x: x[0])\n",
    "rounds_df['opponent_rd']     = rounds_df['result'].apply(lambda x: x[1])\n",
    "rounds_df['opponent_found']  = rounds_df['result'].apply(lambda x: x[2])\n",
    "\n",
    "rounds_df.drop(columns=['result'], inplace=True)\n",
    "\n",
    "rounds_df"
   ]
  },
  {
   "cell_type": "code",
   "execution_count": 17,
   "metadata": {},
   "outputs": [],
   "source": [
    "# Compute weekly intervals to group by, quite easily.\n",
    "start_date = datetime.datetime(2015,1,1)\n",
    "interval = player_ratings_df.index[1] - player_ratings_df.index[0]\n",
    "\n",
    "# \"Copy of a slice\" nonsense, this should fix it.\n",
    "rounds_df = rounds_df.copy()\n",
    "\n",
    "# Round up, as this computes the date that receives this elo update.\n",
    "rounds_df['end_index'] = rounds_df['end'].apply(lambda x: math.ceil((x - start_date) / interval))"
   ]
  },
  {
   "cell_type": "code",
   "execution_count": null,
   "metadata": {},
   "outputs": [],
   "source": [
    "# Group by player/character (pc_combo), opponent character, week index\n",
    "rounds_df['pc_combo'] = rounds_df['player_id'] + '/' + rounds_df['player_char']\n",
    "\n",
    "grouped_df = rounds_df[['pc_combo', 'opponent_char', 'end_index',\n",
    "                        'opponent_rating', 'opponent_rd', 'outcome']].groupby(['pc_combo', 'opponent_char', 'end_index']).agg({\n",
    "        'opponent_rating': list,\n",
    "        'opponent_rd': list,\n",
    "        'outcome': list\n",
    "    }).reset_index()\n",
    "\n",
    "grouped_df['player_char_char'] = grouped_df['pc_combo'] + '/' + grouped_df['opponent_char']\n",
    "grouped_df.drop(columns=['pc_combo', 'opponent_char'], inplace=True)\n",
    "grouped_df"
   ]
  },
  {
   "cell_type": "code",
   "execution_count": 20,
   "metadata": {},
   "outputs": [],
   "source": [
    "# Actually start computing elos for player/char/char combos.\n",
    "# TODO: This is REALLY slow. Optimize!\n",
    "\n",
    "# To deal with inlcude_groups=True being deprecated and disallowed soon,\n",
    "# let's just create a copy of this column\n",
    "grouped_df['pcc_duplicate'] = grouped_df['player_char_char']\n",
    "\n",
    "# Parallelization, cause this be SLOW\n",
    "hyperthreading = True\n",
    "n_jobs = multiprocessing.cpu_count() // 2 if hyperthreading else multiprocessing.cpu_count()\n",
    "\n",
    "# Split into separate dataframes and save in separate files.\n",
    "# This lets us easily run a multiprocessing script later on them.\n",
    "unique_pcc_combos = list(grouped_df['player_char_char'].unique())\n",
    "split_pcc_combos = [] # List of lists to filter by\n",
    "\n",
    "for i in range(0, n_jobs):\n",
    "    # First n-1 lists will have this length.\n",
    "    # Last one will have the remainder.\n",
    "    # This isn't the most even split, but it gets the job done.\n",
    "    default_length = len(unique_pcc_combos) // n_jobs\n",
    "\n",
    "    if i != n_jobs - 1:\n",
    "        split_pcc_combos += [unique_pcc_combos[i*default_length : (i+1)*default_length]]\n",
    "    else:\n",
    "        split_pcc_combos += [unique_pcc_combos[i*default_length : ]]\n",
    "\n",
    "for i, split in enumerate(split_pcc_combos):\n",
    "    filter = grouped_df['player_char_char'].isin(split)\n",
    "    split_grouped_df = grouped_df[filter]\n",
    "    split_grouped_df.to_pickle(data_path + 'char_vs_char_player_rankings_weekly_alt2_temp_' + str(i) + '.pkl')\n",
    "\n",
    "# grouped_df.groupby('player_char_char').progress_apply(compute_pcc_elo, include_groups=False)"
   ]
  },
  {
   "cell_type": "markdown",
   "metadata": {},
   "source": [
    "## You should now run the separate multiprocessing scripts"
   ]
  },
  {
   "cell_type": "code",
   "execution_count": null,
   "metadata": {},
   "outputs": [],
   "source": []
  }
 ],
 "metadata": {
  "kernelspec": {
   "display_name": "Python 3 (ipykernel)",
   "language": "python",
   "name": "python3"
  },
  "language_info": {
   "codemirror_mode": {
    "name": "ipython",
    "version": 3
   },
   "file_extension": ".py",
   "mimetype": "text/x-python",
   "name": "python",
   "nbconvert_exporter": "python",
   "pygments_lexer": "ipython3",
   "version": "3.10.12"
  }
 },
 "nbformat": 4,
 "nbformat_minor": 4
}
