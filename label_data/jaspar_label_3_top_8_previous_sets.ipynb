{
 "cells": [
  {
   "cell_type": "markdown",
   "metadata": {},
   "source": [
    "# Journey to top 8\n",
    "Here we add columns to tournament_info_df that includes the top 8 players and their location in the top 8 bracket and the index of the earlier sets they played in the tournament. "
   ]
  },
  {
   "cell_type": "markdown",
   "metadata": {},
   "source": [
    "### Load packages\n"
   ]
  },
  {
   "cell_type": "code",
   "execution_count": null,
   "metadata": {},
   "outputs": [],
   "source": [
    "\n",
    "import pandas as pd\n",
    "import numpy as np\n",
    "import matplotlib.pyplot as plt\n",
    "import seaborn as sns\n",
    "import matplotlib.pyplot as plt\n",
    "from tqdm.auto import tqdm\n",
    "from tqdm import tqdm\n",
    "import tqdm\n",
    "import os\n",
    "\n",
    "if os.path.exists('/workspace/data_2'):\n",
    "    # Load the dictionary of DataFrames from the pickle\n",
    "    data_path = '/workspace/data_2/'\n",
    "else:\n",
    "    data_path = '../data/'"
   ]
  },
  {
   "cell_type": "markdown",
   "metadata": {},
   "source": [
    "### Load Data"
   ]
  },
  {
   "cell_type": "code",
   "execution_count": null,
   "metadata": {},
   "outputs": [],
   "source": [
    "tournament_info_df = pd.read_pickle(data_path + 'tournament_info_df.pkl')\n",
    "tournament_info_df.head(1)\n"
   ]
  },
  {
   "cell_type": "code",
   "execution_count": null,
   "metadata": {},
   "outputs": [],
   "source": [
    "sets_df = pd.read_pickle(data_path + 'sets_top_8_labeled_df.pkl')\n",
    "sets_df.head(1)"
   ]
  },
  {
   "cell_type": "markdown",
   "metadata": {},
   "source": [
    "### Filter tournaments\n",
    "We filter the tournaments with a valid top 8 bracket."
   ]
  },
  {
   "cell_type": "code",
   "execution_count": null,
   "metadata": {},
   "outputs": [],
   "source": [
    "valid_bracket_keys = list(sets_df[sets_df['valid_top_8_bracket']==True]['tournament_key'].unique())\n",
    "print(f\"{len(valid_bracket_keys)/tournament_info_df.shape[0]:.1%} of tournaments have a valid top 8 bracket.\")\n",
    "\n",
    "valid_sets_df = sets_df[sets_df['tournament_key'].isin(valid_bracket_keys)].copy()\n",
    "valid_tournament_info_df = tournament_info_df[tournament_info_df['key'].isin(valid_bracket_keys)].copy()"
   ]
  },
  {
   "cell_type": "markdown",
   "metadata": {},
   "source": [
    "We add columns to ``tournament_info_df`` that contain the players in the top 8 and what their position in the bracket was."
   ]
  },
  {
   "cell_type": "code",
   "execution_count": null,
   "metadata": {},
   "outputs": [],
   "source": [
    "def add_top_8_players(valid_sets_df=valid_sets_df, valid_tournament_info_df=valid_tournament_info_df):\n",
    "    # Filter valid sets\n",
    "    loc_names = ['WSF_A', 'WSF_B', 'LN_A', 'LN_B']\n",
    "    masked_df = valid_sets_df[\n",
    "        (valid_sets_df['valid_top_8_bracket'] == True) &\n",
    "        (valid_sets_df['tournament_key'].isin(valid_bracket_keys)) &\n",
    "        (valid_sets_df['top_8_bracket_location_names'].isin(loc_names))    \n",
    "    ].copy()\n",
    "    \n",
    "    # Add 'key' column\n",
    "    masked_df['key'] = masked_df['tournament_key']\n",
    "    \n",
    "    # Melt 'p1_id' and 'p2_id' into long format\n",
    "    melted_df = masked_df.melt(\n",
    "        id_vars=['key', 'top_8_bracket_location_names'],\n",
    "        value_vars=['p1_id', 'p2_id'],\n",
    "        var_name='pn_id',\n",
    "        value_name='player_id'\n",
    "    )\n",
    "    # Create 'loc_id' column\n",
    "    melted_df['loc_id'] = melted_df['top_8_bracket_location_names'] + '_' + melted_df['pn_id'].apply(lambda x: x.split('_')[0])\n",
    "    \n",
    "    # Pivot the table\n",
    "    pivot_df = melted_df.pivot_table(\n",
    "        index='key',\n",
    "        columns='loc_id',\n",
    "        values='player_id',\n",
    "        aggfunc='first'\n",
    "    ).reset_index()\n",
    "    \n",
    "    # Merge with tournament info\n",
    "    df = valid_tournament_info_df.copy()\n",
    "    df = df.merge(pivot_df, on='key', how='left')\n",
    "    \n",
    "    return df\n",
    "\n",
    "top_8_tournament_df = add_top_8_players()\n",
    "top_8_tournament_df.head(2)\n",
    "    "
   ]
  },
  {
   "cell_type": "markdown",
   "metadata": {},
   "source": [
    "Now we add columns to ``tournament_info_df`` that contain the "
   ]
  },
  {
   "cell_type": "code",
   "execution_count": null,
   "metadata": {},
   "outputs": [],
   "source": [
    "def add_top_8_previous_sets(valid_sets_df=valid_sets_df, top_8_tournament_df=top_8_tournament_df):\n",
    "    \n",
    "    # Copy tournament dataframe\n",
    "    valid_tourn_df = top_8_tournament_df.copy()\n",
    "    \n",
    "    # Make a list of the columns containing the top 8 players\n",
    "    player_cols = ['LN_A_p1', 'LN_A_p2', 'LN_B_p1', 'LN_B_p2', 'WSF_A_p1', 'WSF_A_p2', 'WSF_B_p1', 'WSF_B_p2']\n",
    "        \n",
    "    for player_col in tqdm.tqdm(player_cols):\n",
    "        \n",
    "        # Add a losers_id column\n",
    "        valid_df = valid_sets_df.copy()\n",
    "        valid_df['loser_id'] = valid_df['p1_id']\n",
    "        mask = valid_df['winner_id'] == valid_df['p1_id']\n",
    "        valid_df.loc[mask, 'loser_id'] = valid_df['p2_id']\n",
    "\n",
    "        # Add a column to valid_sets_copy that contains the player we are interested in.\n",
    "        col_to_merge = ['key', player_col]\n",
    "        merge_df = pd.merge(left=valid_df, right=top_8_tournament_df[col_to_merge], left_on='tournament_key', right_on='key')\n",
    "\n",
    "        # NOTE: VERY IMPORTANT, the index is actually reset during the merge operation, and we really need it to be accurate if we wanna pull in data later\n",
    "        merge_df.index = valid_df.index\n",
    "        \n",
    "        # Add a column to merge_df that says if the relevant player played in that set.\n",
    "        merge_df['top_8_player_set'] = (merge_df['winner_id'] == merge_df[player_col]) | (merge_df['loser_id'] == merge_df[player_col])\n",
    "        \n",
    "        # Filter the sets to the ones where the player we are interested in played outside the top 8\n",
    "        merge_df = merge_df[merge_df['top_8_player_set'] & (merge_df['valid_top_8_bracket'] == False)]\n",
    "\n",
    "        # Add a column to merge_df that says if the relevant player won that set.\n",
    "        merge_df['top_8_player_wins'] = (merge_df['winner_id'] == merge_df[player_col])\n",
    "\n",
    "        # Add a column to merge_df that contains the index of the set and if the player we are interested in won.\n",
    "        merge_df['top_8_player_matches'] = list(zip(merge_df.index, merge_df['top_8_player_wins']))\n",
    "\n",
    "        dfs = []\n",
    "\n",
    "        # Iterate through the tournaments using groupby object and collect the column top_8_player_matches into `dfs`\n",
    "        for i, (key, group) in enumerate(merge_df.groupby('tournament_key')):\n",
    "            dfs.append([key, list(group['top_8_player_matches'])])\n",
    "\n",
    "        # Create the DataFrame with the corrected `data` parameter\n",
    "        df = pd.DataFrame(dfs, columns=['key', (player_col + '_non_top_8_sets')])\n",
    "\n",
    "        valid_tourn_df = pd.merge(valid_tourn_df, df, on='key', how='left')\n",
    "    \n",
    "    return valid_tourn_df\n",
    "\n",
    "\n",
    "top_8_tournament_with_sets_df = add_top_8_previous_sets()\n",
    "top_8_tournament_with_sets_df.iloc[:3,-16:].head()"
   ]
  },
  {
   "cell_type": "code",
   "execution_count": null,
   "metadata": {},
   "outputs": [],
   "source": [
    "valid_sets_df.loc[[77, 107, 122, 209]]"
   ]
  },
  {
   "cell_type": "code",
   "execution_count": null,
   "metadata": {},
   "outputs": [],
   "source": [
    "\n",
    "col_to_merge = ['LN_A_p1', 'LN_A_p2', 'LN_B_p1', 'LN_B_p2',\n",
    "       'WSF_A_p1', 'WSF_A_p2', 'WSF_B_p1', 'WSF_B_p2',\n",
    "       'LN_A_p1_non_top_8_sets', 'LN_A_p2_non_top_8_sets',\n",
    "       'LN_B_p1_non_top_8_sets', 'LN_B_p2_non_top_8_sets',\n",
    "       'WSF_A_p1_non_top_8_sets', 'WSF_A_p2_non_top_8_sets',\n",
    "       'WSF_B_p1_non_top_8_sets', 'WSF_B_p2_non_top_8_sets']"
   ]
  },
  {
   "cell_type": "code",
   "execution_count": null,
   "metadata": {},
   "outputs": [],
   "source": [
    "result = pd.merge(tournament_info_df, top_8_tournament_with_sets_df[col_to_merge], how='left', left_index=True, right_index=True)\n"
   ]
  },
  {
   "cell_type": "code",
   "execution_count": null,
   "metadata": {},
   "outputs": [],
   "source": [
    "result.to_pickle(data_path + 'top_8_tournament_previous_sets_and_results_df')"
   ]
  },
  {
   "cell_type": "code",
   "execution_count": null,
   "metadata": {},
   "outputs": [],
   "source": [
    "result.columns"
   ]
  },
  {
   "cell_type": "code",
   "execution_count": null,
   "metadata": {},
   "outputs": [],
   "source": []
  }
 ],
 "metadata": {
  "kernelspec": {
   "display_name": "erdos_fall_2024",
   "language": "python",
   "name": "python3"
  },
  "language_info": {
   "codemirror_mode": {
    "name": "ipython",
    "version": 3
   },
   "file_extension": ".py",
   "mimetype": "text/x-python",
   "name": "python",
   "nbconvert_exporter": "python",
   "pygments_lexer": "ipython3",
   "version": "3.12.7"
  }
 },
 "nbformat": 4,
 "nbformat_minor": 2
}
