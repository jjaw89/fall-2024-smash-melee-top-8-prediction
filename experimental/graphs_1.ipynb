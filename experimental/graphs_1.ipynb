{
 "cells": [
  {
   "cell_type": "code",
   "execution_count": null,
   "metadata": {},
   "outputs": [],
   "source": [
    "import pandas as pd\n",
    "import numpy as np"
   ]
  },
  {
   "cell_type": "code",
   "execution_count": null,
   "metadata": {},
   "outputs": [],
   "source": [
    "lines  = None\n",
    "\n",
    "with open('./data/text') as file:\n",
    "    lines = [line.rstrip() for line in file]\n"
   ]
  },
  {
   "cell_type": "code",
   "execution_count": null,
   "metadata": {},
   "outputs": [],
   "source": [
    "lines"
   ]
  },
  {
   "cell_type": "code",
   "execution_count": null,
   "metadata": {},
   "outputs": [],
   "source": [
    "def process_line(x):\n",
    "    x = x.split()\n",
    "    entries = [x[1], float(x[2]), float(x[3]), float(x[4])]\n",
    "    return pd.Series(entries, index=['name', 'weight', 'gain', 'cover'])\n",
    "\n"
   ]
  },
  {
   "cell_type": "code",
   "execution_count": null,
   "metadata": {},
   "outputs": [],
   "source": [
    "series_es = []\n",
    "for x in lines:\n",
    "    series_es.append(process_line(x))\n",
    "series_es"
   ]
  },
  {
   "cell_type": "code",
   "execution_count": null,
   "metadata": {},
   "outputs": [],
   "source": [
    "df = pd.DataFrame(series_es)\n",
    "df"
   ]
  },
  {
   "cell_type": "code",
   "execution_count": null,
   "metadata": {},
   "outputs": [],
   "source": [
    "df['name'] = df['name'].apply(lambda x: x.replace('/m1', ''))\n",
    "df['name'] = df['name'].apply(lambda x: x.replace('_default', ''))"
   ]
  },
  {
   "cell_type": "code",
   "execution_count": null,
   "metadata": {},
   "outputs": [],
   "source": [
    "df['gb'] = df['name'].apply(lambda x: x.replace('p1_', '').replace('p2_', ''))\n",
    "df"
   ]
  },
  {
   "cell_type": "code",
   "execution_count": null,
   "metadata": {},
   "outputs": [],
   "source": [
    "df"
   ]
  },
  {
   "cell_type": "code",
   "execution_count": null,
   "metadata": {},
   "outputs": [],
   "source": [
    "def get_color(name):\n",
    "    if 'matchup' in name:\n",
    "        return 'tab:orange'\n",
    "    \n",
    "    if 'alt2' in name or 'alt3' in name:\n",
    "        return 'tab:green'\n",
    "    \n",
    "    return 'tab:blue'"
   ]
  },
  {
   "cell_type": "code",
   "execution_count": null,
   "metadata": {},
   "outputs": [],
   "source": [
    "import matplotlib.pyplot as plt\n",
    "import matplotlib.patches as mpatches"
   ]
  },
  {
   "cell_type": "code",
   "execution_count": null,
   "metadata": {},
   "outputs": [],
   "source": [
    "df = df.sort_values('weight', ascending=True)\n",
    "\n",
    "x = range(df.shape[0])\n",
    "#plt.figure(figsize=(6,5))\n",
    "\n",
    "plt.figure(figsize=(8,7))\n",
    "\n",
    "plt.barh(y=x, width=df['weight'], color=df['name'].apply(get_color))\n",
    "plt.yticks(x, df['name'])\n",
    "plt.title('Weights of features', fontsize=20)\n",
    "\n",
    "plt.legend(handles=[mpatches.Patch(color='tab:blue', label='Default elo + misc'),\n",
    "                    mpatches.Patch(color='tab:green', label='Character-related elo + misc'),\n",
    "                    mpatches.Patch(color='tab:orange', label='Previous matches between players')])\n",
    "\n",
    "plt.show()"
   ]
  },
  {
   "cell_type": "code",
   "execution_count": null,
   "metadata": {},
   "outputs": [],
   "source": [
    "df_gain = df.sort_values('gain', ascending=True)\n",
    "\n",
    "plt.figure(figsize=(8,7))\n",
    "\n",
    "x = range(df.shape[0])\n",
    "plt.barh(y=x, width=df_gain['gain'], color=df_gain['name'].apply(get_color))\n",
    "plt.yticks(x, df_gain['name'])\n",
    "plt.title('Gain of features', fontsize=20)\n",
    "\n",
    "plt.legend(handles=[mpatches.Patch(color='tab:blue', label='Default elo + misc'),\n",
    "                    mpatches.Patch(color='tab:green', label='Character-related elo + misc'),\n",
    "                    mpatches.Patch(color='tab:orange', label='Previous matches between players')])\n",
    "\n",
    "plt.show()"
   ]
  },
  {
   "cell_type": "code",
   "execution_count": null,
   "metadata": {},
   "outputs": [],
   "source": [
    "df_cover = df.sort_values('cover', ascending=False)\n",
    "\n",
    "x = range(df.shape[0])\n",
    "plt.bar(x=x, height=df_cover['cover'], color=df_cover['name'].apply(get_color))\n",
    "plt.xticks(x, df_cover['name'], rotation=90)\n",
    "plt.title('Cover of features')\n",
    "\n",
    "plt.legend(handles=[mpatches.Patch(color='tab:blue', label='Default elo + misc'),\n",
    "                    mpatches.Patch(color='tab:green', label='Character-related elo + misc'),\n",
    "                    mpatches.Patch(color='tab:orange', label='Previous matches between players')])\n",
    "\n",
    "plt.show()"
   ]
  },
  {
   "cell_type": "code",
   "execution_count": null,
   "metadata": {},
   "outputs": [],
   "source": []
  }
 ],
 "metadata": {
  "kernelspec": {
   "display_name": "erdos_fall_2024",
   "language": "python",
   "name": "python3"
  },
  "language_info": {
   "codemirror_mode": {
    "name": "ipython",
    "version": 3
   },
   "file_extension": ".py",
   "mimetype": "text/x-python",
   "name": "python",
   "nbconvert_exporter": "python",
   "pygments_lexer": "ipython3",
   "version": "3.12.7"
  }
 },
 "nbformat": 4,
 "nbformat_minor": 2
}
