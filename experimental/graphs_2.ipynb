{
 "cells": [
  {
   "cell_type": "code",
   "execution_count": null,
   "metadata": {},
   "outputs": [],
   "source": [
    "import pandas as pd\n",
    "import numpy as np"
   ]
  },
  {
   "cell_type": "code",
   "execution_count": null,
   "metadata": {},
   "outputs": [],
   "source": [
    "game_df = pd.read_pickle('./data/individual_game_data.pkl')\n",
    "game_df"
   ]
  },
  {
   "cell_type": "code",
   "execution_count": null,
   "metadata": {},
   "outputs": [],
   "source": [
    "chars = pd.concat([game_df['winner_char'], game_df['loser_char']]).value_counts()\n",
    "chars"
   ]
  },
  {
   "cell_type": "code",
   "execution_count": null,
   "metadata": {},
   "outputs": [],
   "source": [
    "stats_df = pd.DataFrame(0, index=chars.index, columns=chars.index)\n",
    "\n",
    "for i in range(0, game_df.shape[0]):\n",
    "    # loc and iloc are same in this case, index is numeric and in order\n",
    "    winner_char = game_df.at[i, 'winner_char']\n",
    "    loser_char = game_df.at[i, 'loser_char']\n",
    "\n",
    "    stats_df.loc[winner_char, loser_char] += 1\n",
    "\n",
    "stats_df"
   ]
  },
  {
   "cell_type": "code",
   "execution_count": null,
   "metadata": {},
   "outputs": [],
   "source": [
    "stats_temp_df = stats_df.to_numpy().astype(float).copy()\n",
    "stats_temp_2_df = stats_temp_df.copy()\n",
    "\n",
    "for i in range(0, stats_df.shape[0]):\n",
    "    for j in range(0, stats_df.shape[1]):\n",
    "        stats_temp_2_df[i,j] = stats_temp_df[i,j] / (stats_temp_df[i,j] + stats_temp_df[j,i])\n",
    "\n",
    "stats_temp_2_df"
   ]
  },
  {
   "cell_type": "code",
   "execution_count": null,
   "metadata": {},
   "outputs": [],
   "source": [
    "stats_percentage_df = pd.DataFrame(stats_temp_2_df, index=stats_df.index, columns=stats_df.columns) * 100.0\n",
    "stats_percentage_df"
   ]
  },
  {
   "cell_type": "code",
   "execution_count": null,
   "metadata": {},
   "outputs": [],
   "source": [
    "stats_percentage_df.iloc[range(0,10), range(0,10)]"
   ]
  },
  {
   "cell_type": "code",
   "execution_count": null,
   "metadata": {},
   "outputs": [],
   "source": [
    "import seaborn as sns\n",
    "import matplotlib.pyplot as plt"
   ]
  },
  {
   "cell_type": "code",
   "execution_count": null,
   "metadata": {},
   "outputs": [],
   "source": [
    "n=8\n",
    "\n",
    "short_columns = [x[:2] + '.' for x in stats_percentage_df.columns][:n]\n",
    "\n",
    "plt.figure(figsize=(4,3))\n",
    "ax = sns.heatmap(stats_percentage_df.iloc[range(0,n), range(0,n)], cmap='RdYlGn', xticklabels=short_columns)\n",
    "ax.xaxis.tick_top()\n",
    "plt.title(\"Character vs character win rates\", fontsize=18, pad=20)"
   ]
  },
  {
   "cell_type": "code",
   "execution_count": null,
   "metadata": {},
   "outputs": [],
   "source": []
  }
 ],
 "metadata": {
  "kernelspec": {
   "display_name": "erdos_fall_2024",
   "language": "python",
   "name": "python3"
  },
  "language_info": {
   "codemirror_mode": {
    "name": "ipython",
    "version": 3
   },
   "file_extension": ".py",
   "mimetype": "text/x-python",
   "name": "python",
   "nbconvert_exporter": "python",
   "pygments_lexer": "ipython3",
   "version": "3.12.7"
  }
 },
 "nbformat": 4,
 "nbformat_minor": 2
}
