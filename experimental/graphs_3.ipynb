{
 "cells": [
  {
   "cell_type": "code",
   "execution_count": null,
   "metadata": {},
   "outputs": [],
   "source": [
    "import pandas as pd\n",
    "import numpy as np\n",
    "import matplotlib.pyplot as plt\n",
    "import datetime\n"
   ]
  },
  {
   "cell_type": "code",
   "execution_count": null,
   "metadata": {},
   "outputs": [],
   "source": [
    "elo_df = pd.read_pickle('./data/overall_players_ranking_new_weekly.pkl')\n",
    "alt_df = pd.read_pickle('./data/char_vs_char_player_rankings_weekly_alt.pkl')\n",
    "alt2_df = pd.read_pickle('./data/char_vs_char_player_rankings_weekly_alt2.pkl')\n",
    "alt3_df = pd.read_pickle('./data/player_char_overall_rankings_weekly.pkl')"
   ]
  },
  {
   "cell_type": "code",
   "execution_count": null,
   "metadata": {},
   "outputs": [],
   "source": [
    "amsa_elo = elo_df['1021']\n",
    "amsa_alt = alt_df['1021/yoshi/fox']\n",
    "amsa_alt2 = alt2_df['1021/yoshi/fox']\n",
    "amsa_alt3 = alt3_df['1021/yoshi']"
   ]
  },
  {
   "cell_type": "code",
   "execution_count": null,
   "metadata": {},
   "outputs": [],
   "source": [
    "plt.figure(figsize=(5,4))\n",
    "\n",
    "plt.plot(amsa_elo,  label='Default ELO')\n",
    "plt.plot(amsa_alt,  label='\"alt\"   (as yoshi, vs fox)')\n",
    "plt.plot(amsa_alt2, label='\"alt2\" (as yoshi, vs fox)')\n",
    "plt.plot(amsa_alt3, label='\"alt3\" (as yoshi)')\n",
    "\n",
    "plt.xlim(left=datetime.datetime(2015,1,1),\n",
    "         right=datetime.datetime(2024,6,1))\n",
    "\n",
    "xticks = plt.xticks()\n",
    "\n",
    "for j in range(len(xticks[1])):\n",
    "    if j % 2 == 0:\n",
    "        xticks[1][j] = \"\"\n",
    "\n",
    "plt.xticks(xticks[0], xticks[1])\n",
    "\n",
    "\n",
    "plt.legend()\n",
    "\n",
    "plt.title('ELOs over time for pro player \"aMSa\"', fontsize=18, pad=12)"
   ]
  },
  {
   "cell_type": "code",
   "execution_count": null,
   "metadata": {},
   "outputs": [],
   "source": []
  }
 ],
 "metadata": {
  "kernelspec": {
   "display_name": "erdos_fall_2024",
   "language": "python",
   "name": "python3"
  },
  "language_info": {
   "codemirror_mode": {
    "name": "ipython",
    "version": 3
   },
   "file_extension": ".py",
   "mimetype": "text/x-python",
   "name": "python",
   "nbconvert_exporter": "python",
   "pygments_lexer": "ipython3",
   "version": "3.12.7"
  }
 },
 "nbformat": 4,
 "nbformat_minor": 2
}
