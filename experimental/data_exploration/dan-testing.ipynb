{
 "cells": [
  {
   "cell_type": "markdown",
   "id": "53ae572c-8701-4934-a401-69c56d8260ff",
   "metadata": {},
   "source": [
    "## Packages and default settings\n",
    "\n",
    "In particular, there is a setting for how many rows to load. The database is MASSIVE."
   ]
  },
  {
   "cell_type": "code",
   "execution_count": 1,
   "id": "cc86e348-91d0-44aa-b32d-4dcbcf6d3754",
   "metadata": {},
   "outputs": [],
   "source": [
    "import pandas as pd\n",
    "import numpy as np\n",
    "import matplotlib.pyplot as plt\n",
    "\n",
    "import sqlite3\n",
    "import time\n",
    "import sys\n",
    "\n",
    "MAX_ROWS = 10*1000*1000\n",
    "path = \"../data/melee_player_database.db\""
   ]
  },
  {
   "cell_type": "markdown",
   "id": "3547b347-76e6-4b5f-b370-ce8e653cee38",
   "metadata": {},
   "source": [
    "## Load the database"
   ]
  },
  {
   "cell_type": "code",
   "execution_count": null,
   "id": "01f0c07a-769c-40ab-8d41-111d9dcddfc4",
   "metadata": {},
   "outputs": [],
   "source": [
    "con = sqlite3.connect(path)\n",
    "cur = con.cursor()\n",
    "\n",
    "# Might be slightly janky\n",
    "def get_column_names(table):\n",
    "    cur.execute(\"SELECT * FROM \" + table + \" LIMIT 1\")\n",
    "    return [x[0] for x in cur.description]\n",
    "\n",
    "def get_rows(table, max_rows=None):\n",
    "    if max_rows is None:\n",
    "        cur.execute(\"SELECT * FROM \" + table)\n",
    "    else:\n",
    "        cur.execute(\"SELECT * FROM \" + table + \" LIMIT \" + str(max_rows))\n",
    "    \n",
    "    return cur.fetchall()\n",
    "\n",
    "def load_table(table, max_rows=None):\n",
    "    # BENCHMARKING - BENCHMARKING - BENCHMARKING\n",
    "    start_time = time.time()\n",
    "    \n",
    "    columns = get_column_names(table)\n",
    "    rows = get_rows(table=table, max_rows=MAX_ROWS)\n",
    "    \n",
    "    df = pd.DataFrame(rows, columns=columns)\n",
    "    \n",
    "    # BENCHMARKING - BENCHMARKING - BENCHMARKING\n",
    "    print(\"--- Table: {0} ---\".format(table))\n",
    "    print(\"--- Duration of {0:.2f} seconds ---\".format(time.time() - start_time))\n",
    "    print(\"--- Memory size of {0:.2f} MB ---\".format(float(sys.getsizeof(df)) / (1024*1024)))\n",
    "    print(\"--- Total of {0} rows ---\".format(len(df.index)))\n",
    "    print(\"\")\n",
    "\n",
    "    return df\n",
    "\n",
    "# Load tables. Only sets is massive. No need to limit ourselves on the rest.\n",
    "df_sets            = load_table(\"sets\", MAX_ROWS)\n",
    "df_tournament_info = load_table(\"tournament_info\")\n",
    "df_players         = load_table(\"players\")\n",
    "df_ranking_seasons = load_table(\"ranking_seasons\")\n",
    "df_ranking         = load_table(\"ranking\")"
   ]
  },
  {
   "cell_type": "code",
   "execution_count": null,
   "id": "bab581d3-6a9a-4ee7-a006-08ba7eb9e59b",
   "metadata": {},
   "outputs": [],
   "source": [
    "df_sets.head(1)"
   ]
  },
  {
   "cell_type": "code",
   "execution_count": null,
   "id": "03f2b785-eb16-4bc4-9bed-84faeef5b809",
   "metadata": {},
   "outputs": [],
   "source": [
    "df_tournament_info.head(1)"
   ]
  },
  {
   "cell_type": "code",
   "execution_count": null,
   "id": "79764616-e1fb-4170-9118-4435cc759949",
   "metadata": {},
   "outputs": [],
   "source": [
    "df_players.head(1)"
   ]
  },
  {
   "cell_type": "code",
   "execution_count": null,
   "id": "09fb8d10-ecaa-4e92-aa6f-4aa7702ae26d",
   "metadata": {},
   "outputs": [],
   "source": [
    "df_ranking.head(1)"
   ]
  },
  {
   "cell_type": "code",
   "execution_count": null,
   "id": "a9f71728-32ce-4f39-a666-b2f69eb8f930",
   "metadata": {},
   "outputs": [],
   "source": [
    "df_ranking_seasons.head(1)"
   ]
  },
  {
   "cell_type": "markdown",
   "id": "2d8409f5",
   "metadata": {},
   "source": [
    "## Combine some relevant info into one table\n",
    "\n",
    "Here, for convenience, we will consider most of the set info together with the tournament dates (unix time) and player tags."
   ]
  },
  {
   "cell_type": "code",
   "execution_count": null,
   "id": "9dbb740e-59d9-4e42-85a2-9eb69714f4b6",
   "metadata": {},
   "outputs": [],
   "source": [
    "df_past_wins = df_sets[['key', 'tournament_key', 'winner_id', 'p1_id', 'p2_id', 'p1_score', 'p2_score', 'best_of', 'location_names']]\n",
    "\n",
    "# Add tournament start/end, sort in chronological order\n",
    "df_past_wins = df_past_wins.merge(df_tournament_info[['key', 'start', 'end']], left_on='tournament_key', right_on='key', how='left')\n",
    "df_past_wins = df_past_wins.drop(labels=['key_y'], axis='columns')\n",
    "df_past_wins = df_past_wins.rename(columns={\"key_x\": \"key\"})\n",
    "df_past_wins = df_past_wins.sort_values(by=['start', 'end'])\n",
    "\n",
    "# Add player tags, for convenience when looking up the info online\n",
    "df_past_wins = df_past_wins.merge(df_players[['player_id', 'tag']], left_on='p1_id', right_on='player_id', how='left')\n",
    "df_past_wins = df_past_wins.drop(labels=['player_id'], axis='columns')\n",
    "df_past_wins = df_past_wins.rename(columns={\"tag\": \"p1_tag\"})\n",
    "\n",
    "df_past_wins = df_past_wins.merge(df_players[['player_id', 'tag']], left_on='p2_id', right_on='player_id', how='left')\n",
    "df_past_wins = df_past_wins.drop(labels=['player_id'], axis='columns')\n",
    "df_past_wins = df_past_wins.rename(columns={\"tag\": \"p2_tag\"})\n",
    "\n",
    "df_past_wins"
   ]
  },
  {
   "cell_type": "markdown",
   "id": "e58e9dac-088e-4b0c-b48a-3d97615b8562",
   "metadata": {},
   "source": [
    "## Data cleanup\n",
    "\n",
    "Immediately, in the above, we notice that\n",
    "* There are some entries with an unusually early ``start`` for the tournament. These are few and can be safely deleted.\n",
    "* Some entries have a negative ``p1_score`` or ``p2_score``."
   ]
  },
  {
   "cell_type": "code",
   "execution_count": null,
   "id": "4578d3a4-2e80-4e27-a0ef-41ea2996d537",
   "metadata": {},
   "outputs": [],
   "source": [
    "# Some of this seems to accidentally be 2001 data, despite the purported end date.\n",
    "print(\"Total of {0} rows with unusually early start date\".format(len(df_past_wins[df_past_wins['start'] < 1388534400].index)))\n",
    "\n",
    "df_past_wins = df_past_wins[df_past_wins['start'] >= 1388534400]\n",
    "\n",
    "# Some sets have a negative score?\n",
    "num_negative = len(df_past_wins[(df_past_wins['p1_score'] < 0) | (df_past_wins['p2_score'] < 0)].index)\n",
    "num_total = len(df_past_wins.index)\n",
    "print(\"{0:.2f}% have a negative score somewhere\".format(100 * num_negative / num_total))\n",
    "\n",
    "df_past_wins = df_past_wins[(df_past_wins['p1_score'] >= 0) & (df_past_wins['p2_score'] >= 0)]\n",
    "\n",
    "df_past_wins"
   ]
  },
  {
   "cell_type": "markdown",
   "id": "116d328d",
   "metadata": {},
   "source": [
    "## More data cleanup, this time in players\n",
    "\n",
    "It appears as if the same player can have several different ids, as can be seen with the following example."
   ]
  },
  {
   "cell_type": "code",
   "execution_count": null,
   "id": "781042a9-5a8b-4cf8-bb3b-c4f175a8d4f2",
   "metadata": {},
   "outputs": [],
   "source": [
    "# Ex: \"[\"Zain\", \"DontTestMe\"]\"\n",
    "\n",
    "tag = \"Zain\"\n",
    "\n",
    "def str_to_array(s):\n",
    "    s = s.replace('[', '').replace(']', '')\n",
    "    \n",
    "    elements = s.split(',')\n",
    "    elements = [e.strip().replace('\\'','').replace('\\\"','') for e in elements]\n",
    "\n",
    "    return elements\n",
    "\n",
    "df_specific_tag = df_players[df_players['all_tags'].apply(lambda x: tag in str_to_array(x))]\n",
    "\n",
    "df_specific_tag\n",
    "\n",
    "#for p in df_specific_tag['placings']:\n",
    "#    print(p)"
   ]
  },
  {
   "cell_type": "code",
   "execution_count": null,
   "id": "ff90b2fa",
   "metadata": {},
   "outputs": [],
   "source": []
  }
 ],
 "metadata": {
  "kernelspec": {
   "display_name": "erdos_fall_2024",
   "language": "python",
   "name": "python3"
  },
  "language_info": {
   "codemirror_mode": {
    "name": "ipython",
    "version": 3
   },
   "file_extension": ".py",
   "mimetype": "text/x-python",
   "name": "python",
   "nbconvert_exporter": "python",
   "pygments_lexer": "ipython3",
   "version": "3.12.6"
  }
 },
 "nbformat": 4,
 "nbformat_minor": 5
}
