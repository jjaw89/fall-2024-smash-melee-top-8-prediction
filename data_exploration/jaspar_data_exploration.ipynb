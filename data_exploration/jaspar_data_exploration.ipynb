{
 "cells": [
  {
   "cell_type": "code",
   "execution_count": 1,
   "metadata": {},
   "outputs": [],
   "source": [
    "import pandas as pd\n",
    "import numpy as np\n",
    "import matplotlib.pyplot as plt\n",
    "import json\n",
    "from collections import defaultdict\n",
    "import matplotlib.pyplot as plt\n",
    "\n",
    "import sqlite3\n",
    "import sys\n",
    "import time\n",
    "import tqdm"
   ]
  },
  {
   "cell_type": "markdown",
   "metadata": {},
   "source": [
    "## Loading SQLite Database into Pandas DataFrames\n",
    "\n",
    "The following code connects to an SQLite database (`melee_player_database.db`) and converts each table within the database into a pandas DataFrame. The DataFrames will be stored in a dictionary, where each key corresponds to the table name with `_df` appended, and the values are the respective DataFrames.\n",
    "\n",
    "### Steps:\n",
    "\n",
    "1. **Database Connection**: We use the `sqlite3` library to connect to the SQLite database file.\n",
    "2. **Retrieve Table Names**: A query retrieves all the table names in the database.\n",
    "3. **Convert Tables to DataFrames**: For each table:\n",
    "   - The table is loaded into a pandas DataFrame using `pd.read_sql()`.\n",
    "   - We check each column to see if any data is JSON-formatted (lists or dictionaries). If so, we convert these columns from strings into their corresponding Python objects using `json.loads()`.\n",
    "4. **Store DataFrames**: The DataFrames are stored in a dictionary, where the key is the table name with a `_df` suffix, and the value is the DataFrame.\n",
    "5. **Database Connection Closed**: Once all tables are loaded into DataFrames, the database connection is closed.\n",
    "\n",
    "### Example:\n",
    "If the database contains a table named `players`, the corresponding DataFrame will be stored in the dictionary with the key `players_df`, and can be accessed as:\n",
    "\n",
    "```python\n",
    "players_df = dfs['players_df']\n"
   ]
  },
  {
   "cell_type": "code",
   "execution_count": 2,
   "metadata": {},
   "outputs": [],
   "source": [
    "# Function to get the table names\n",
    "def get_table_names(conn):\n",
    "    query = \"SELECT name FROM sqlite_master WHERE type='table';\"\n",
    "    return pd.read_sql(query, conn)['name'].tolist()\n",
    "\n",
    "# Function to load tables into DataFrames\n",
    "def load_tables_to_dfs(conn):\n",
    "    table_names = get_table_names(conn)\n",
    "    dataframes = {}\n",
    "    \n",
    "    for table in table_names:\n",
    "        # Load table into a DataFrame\n",
    "        df = pd.read_sql(f\"SELECT * FROM {table}\", conn)\n",
    "        \n",
    "        # Detect and convert JSON formatted columns (if any)\n",
    "        for col in df.columns:\n",
    "            # Check if any entry in the column is a valid JSON (list or dictionary)\n",
    "            if df[col].apply(lambda x: isinstance(x, str)).all():\n",
    "                try:\n",
    "                    # Try parsing the column as JSON\n",
    "                    df[col] = df[col].apply(lambda x: json.loads(x) if pd.notnull(x) else x)\n",
    "                except (json.JSONDecodeError, TypeError):\n",
    "                    # If it fails, skip the column\n",
    "                    pass\n",
    "        \n",
    "        # Store the DataFrame with table name + '_df'\n",
    "        dataframes[f\"{table}_df\"] = df\n",
    "        \n",
    "    return dataframes\n",
    "\n",
    "# Check if the flag variable exists in the global scope so that this code does not run twice\n",
    "if 'cell_has_run' not in globals():\n",
    "    path = \"../data/melee_player_database.db\"\n",
    "    \n",
    "    # Connect to the database\n",
    "    conn = sqlite3.connect(path)\n",
    "\n",
    "    # Convert each table into a DataFrame\n",
    "    dfs = load_tables_to_dfs(conn)\n",
    "\n",
    "    # Close the connection\n",
    "    conn.close()\n",
    "\n",
    "    # Now, you have a dictionary 'dfs' where each key is the table name with '_df' suffix and value is the corresponding DataFrame.\n",
    "    # For example, to access the DataFrame for a table called 'players':\n",
    "    # players_df = dfs['players_df']\n",
    "\n",
    "    dfs['tournament_info_df']['start'] = pd.to_datetime(dfs['tournament_info_df']['start'], unit='s')\n",
    "    dfs['tournament_info_df']['end'] = pd.to_datetime(dfs['tournament_info_df']['end'], unit='s')\n",
    "\n",
    "    \n",
    "    # Set the flag to indicate that the cell has been run\n",
    "    cell_has_run = True"
   ]
  },
  {
   "cell_type": "markdown",
   "metadata": {},
   "source": [
    "### Here we adjust the data types of the dataframes so that they are the correct type. (This will be updated as needed.)"
   ]
  },
  {
   "cell_type": "code",
   "execution_count": 3,
   "metadata": {},
   "outputs": [],
   "source": [
    "dfs['sets_df']['best_of'] = dfs['sets_df']['best_of'].fillna(0).astype(int) "
   ]
  },
  {
   "cell_type": "markdown",
   "metadata": {},
   "source": [
    "### Here we make dataframes that we will use and print the head.\n",
    "\n",
    "The integers in 'characters' count the number of games the player has played that character. (We verify this for Zain below.)"
   ]
  },
  {
   "cell_type": "code",
   "execution_count": null,
   "metadata": {},
   "outputs": [],
   "source": [
    "players_df = dfs['players_df']\n",
    "players_df.head()"
   ]
  },
  {
   "cell_type": "code",
   "execution_count": null,
   "metadata": {},
   "outputs": [],
   "source": [
    "ranking_df = dfs['ranking_df']\n",
    "ranking_df.head()"
   ]
  },
  {
   "cell_type": "code",
   "execution_count": null,
   "metadata": {},
   "outputs": [],
   "source": [
    "ranking_seasons_df = dfs['ranking_seasons_df']\n",
    "ranking_seasons_df.head()"
   ]
  },
  {
   "cell_type": "code",
   "execution_count": null,
   "metadata": {},
   "outputs": [],
   "source": [
    "sets_df = dfs['sets_df']\n",
    "print(f'{sets_df[sets_df['game_data'].apply(lambda x: len(x) > 0)].shape[0] / sets_df.shape[0]:0.01%} percent of sets have some game data')\n",
    "sets_df.head()"
   ]
  },
  {
   "cell_type": "code",
   "execution_count": null,
   "metadata": {},
   "outputs": [],
   "source": [
    "tournament_info_df = dfs['tournament_info_df']\n",
    "tournament_info_df.head()\n"
   ]
  },
  {
   "cell_type": "code",
   "execution_count": null,
   "metadata": {},
   "outputs": [],
   "source": [
    "n = 1206\n",
    "print(tournament_info_df.loc[n]['entrants'])\n",
    "print(len(tournament_info_df.loc[n]['placings']))\n",
    "print(tournament_info_df.loc[n]['placings'])\n"
   ]
  },
  {
   "cell_type": "markdown",
   "metadata": {},
   "source": [
    "## Investigate data for Zain\n",
    "We choose zain because he is in the best player in the head of the players_df."
   ]
  },
  {
   "cell_type": "code",
   "execution_count": null,
   "metadata": {},
   "outputs": [],
   "source": [
    "zain_df = players_df.iloc[2]\n",
    "print('Zain has played in', len(zain_df['placings']), 'tournaments.')\n",
    "\n",
    "# Dataframe of tournaments that zain has played in.\n",
    "zain_tournament_keys = [tournament['key'] for tournament in zain_df['placings']]\n",
    "zain_tournament_info_df = tournament_info_df[tournament_info_df['key'].isin(zain_tournament_keys)]"
   ]
  },
  {
   "cell_type": "code",
   "execution_count": null,
   "metadata": {},
   "outputs": [],
   "source": [
    "print(zain_tournament_info_df.info())\n",
    "zain_tournament_info_df.head()"
   ]
  },
  {
   "cell_type": "markdown",
   "metadata": {},
   "source": [
    "Here we make a dataframe containing all the sets that zain has played in and add some columns so that we can identify him more easily."
   ]
  },
  {
   "cell_type": "code",
   "execution_count": null,
   "metadata": {},
   "outputs": [],
   "source": [
    "# Filter sets_df with Zain as a player and make a copy\n",
    "zain_sets_df = sets_df[(sets_df['p1_id'] == zain_df['player_id']) | (sets_df['p2_id'] == zain_df['player_id'])].copy()\n",
    "print('Zain has played', zain_sets_df.shape[0], 'sets.')\n",
    "\n",
    "# Assuming zain_df['player_id'] gives Zain's player ID\n",
    "zain_id = zain_df['player_id']\n",
    "\n",
    "# Add a 'zain_win' column using .loc\n",
    "zain_sets_df.loc[:, 'zain_win'] = ((zain_sets_df['p1_id'] == zain_id) & (zain_sets_df['p1_score'] > zain_sets_df['p2_score'])) | \\\n",
    "                                  ((zain_sets_df['p2_id'] == zain_id) & (zain_sets_df['p2_score'] > zain_sets_df['p1_score']))\n",
    "\n",
    "# Add an 'opponent' column using .loc\n",
    "zain_sets_df.loc[:, 'opponent'] = zain_sets_df.apply(\n",
    "    lambda row: row['p1_id'] if row['p2_id'] == zain_id else row['p2_id'],\n",
    "    axis=1\n",
    ")\n",
    "\n",
    "# Add 'zain_score' and 'opponent_score' columns using .loc\n",
    "zain_sets_df.loc[:, 'zain_score'] = zain_sets_df.apply(\n",
    "    lambda row: row['p1_score'] if row['p1_id'] == zain_id else row['p2_score'],\n",
    "    axis=1\n",
    ")\n",
    "\n",
    "zain_sets_df.loc[:, 'opponent_score'] = zain_sets_df.apply(\n",
    "    lambda row: row['p2_score'] if row['p1_id'] == zain_id else row['p1_score'],\n",
    "    axis=1\n",
    ")\n",
    "\n",
    "# Filter the zain_sets_df for rows where 'game_data' is not an empty list\n",
    "game_data_zain_sets_df = zain_sets_df[zain_sets_df['game_data'].apply(lambda x: len(x) > 0)]\n",
    "\n",
    "# Display the result\n",
    "print('Zain has played', game_data_zain_sets_df.shape[0], 'sets with game_data.')\n"
   ]
  },
  {
   "cell_type": "markdown",
   "metadata": {},
   "source": [
    "Here we check to see that zain_df['characters'] counts the number of games that zain has played that character."
   ]
  },
  {
   "cell_type": "code",
   "execution_count": null,
   "metadata": {},
   "outputs": [],
   "source": [
    "# Ensure zain_id is a string to match the data in game_data\n",
    "zain_id = str(zain_id)\n",
    "\n",
    "# Initialize a dictionary to count Zain's characters\n",
    "zain_characters_count = defaultdict(int)\n",
    "\n",
    "# Loop through the 'game_data' for each set Zain played\n",
    "for game_data in game_data_zain_sets_df['game_data']:\n",
    "    for game in game_data:\n",
    "        # Check if Zain was the winner or loser and increment the count of the character he used\n",
    "        if str(game['winner_id']) == zain_id:  # Compare as strings\n",
    "            zain_characters_count[game['winner_char']] += 1\n",
    "        elif str(game['loser_id']) == zain_id:  # Compare as strings\n",
    "            zain_characters_count[game['loser_char']] += 1\n",
    "\n",
    "# Convert the defaultdict to a regular dict and display the result\n",
    "zain_characters_count = dict(zain_characters_count)\n",
    "# print(zain_characters_count)\n",
    "# print(zain_df['characters'])\n",
    "\n",
    "# Extract the characters dictionary from zain_df\n",
    "zain_characters_actual = zain_df['characters']\n",
    "\n",
    "# Find the keys that are common to both dictionaries\n",
    "common_keys = set(zain_characters_count.keys()).intersection(set(zain_characters_actual.keys()))\n",
    "\n",
    "# Compare the values for the keys that are common\n",
    "for key in common_keys:\n",
    "    if zain_characters_count[key] == zain_characters_actual[key]:\n",
    "        print(f\"{key}: Match - {zain_characters_count[key]} games\")\n",
    "    else:\n",
    "        print(f\"{key}: Mismatch - counted {zain_characters_count[key]} games, actual {zain_characters_actual[key]} games\")"
   ]
  },
  {
   "cell_type": "markdown",
   "metadata": {},
   "source": [
    "## Overall Glicko-2 ##\n",
    "We obtain a baseline of the predictive power of the Glicko-2 ratings we computed."
   ]
  },
  {
   "cell_type": "code",
   "execution_count": null,
   "metadata": {},
   "outputs": [],
   "source": [
    "glicko2_df = pd.read_pickle('../data/overall_players_ranking.pkl')\n",
    "glicko2_df.head(2)"
   ]
  },
  {
   "cell_type": "code",
   "execution_count": null,
   "metadata": {},
   "outputs": [],
   "source": [
    "def check_set(glicko2_df, set, tournament_info_df, correct_predictions):\n",
    "    tournament = set['tournament_key']\n",
    "    p1_id = set['p1_id']\n",
    "    p2_id = set['p2_id']\n",
    "    start_date = tournament_info_df[tournament_info_df['key']==tournament]['start']\n",
    "    \n",
    "    p1_index = np.searchsorted(glicko2_df.loc[p1_id,'dates'], start_date) - 1\n",
    "    p2_index = np.searchsorted(glicko2_df.loc[p2_id,'dates'], start_date) - 1\n",
    "    \n",
    "    p1_glikco2 = glicko2_df.loc[p1_id,'rating_history'][p1_index]\n",
    "    p2_glikco2 = glicko2_df.loc[p2_id,'rating_history'][p2_index]\n",
    "    \n",
    "    if p1_glikco2 > p2_glikco2 and set['winner_id'] == p1_id:\n",
    "        return  1\n",
    "    if p1_glikco2 < p2_glikco2 and set['winner_id'] == p2_id:\n",
    "        return  1\n",
    "    \n",
    "    \n",
    "    return 0\n",
    "        \n",
    "num_sets = 6000\n",
    "random_set_sample = sets_df.sample(n = num_sets, random_state=42)   \n",
    "correct_predictions = 0\n",
    "\n",
    "for j in tqdm.tqdm(range(num_sets)):\n",
    "    correct_predictions += check_set(glicko2_df, random_set_sample.iloc[j], tournament_info_df, correct_predictions)\n",
    "\n",
    "print(f'The higher Glicko-2 rating wins {correct_predictions/num_sets:0.1%} of the time')\n",
    "    \n",
    "# check_set(glicko2_df, sets_df.iloc[1000,:], tournament_info_df, correct_predictions)\n",
    "\n"
   ]
  },
  {
   "cell_type": "code",
   "execution_count": null,
   "metadata": {},
   "outputs": [],
   "source": [
    "\n",
    "\n",
    "# Assume players_df is already loaded and contains the 'characters' column\n",
    "# For this example, I'll use the provided players_df DataFrame\n",
    "\n",
    "# Initialize an empty dictionary to store the total counts per character\n",
    "total_character_counts = {}\n",
    "\n",
    "# Iterate over the 'characters' column\n",
    "for idx, row in players_df.iterrows():\n",
    "    char_dict = row['characters']\n",
    "    if isinstance(char_dict, dict):\n",
    "        for character, count in char_dict.items():\n",
    "            if character in total_character_counts:\n",
    "                total_character_counts[character] += count\n",
    "            else:\n",
    "                total_character_counts[character] = count\n",
    "    else:\n",
    "        # Handle cases where 'characters' is empty or NaN\n",
    "        continue\n",
    "\n",
    "# Now total_character_counts contains the total counts per character\n",
    "\n",
    "# Sort the characters by total counts in decreasing order\n",
    "sorted_characters = sorted(total_character_counts.items(), key=lambda x: x[1], reverse=True)\n",
    "\n",
    "# Print the list of characters sorted by total number of games played\n",
    "print(\"Characters sorted by total number of games played:\")\n",
    "for character, count in sorted_characters:\n",
    "    print(f\"{character}: {count}\")\n",
    "\n",
    "# Prepare data for plotting\n",
    "characters = [item[0] for item in sorted_characters]\n",
    "counts = [item[1] for item in sorted_characters]\n",
    "character_names = [character.split('/')[1].title() for character in characters]\n",
    "\n",
    "# Plot the horizontal bar chart\n",
    "plt.figure(figsize=(12, 8))\n",
    "plt.barh(character_names, counts, color='skyblue')\n",
    "plt.xlabel('Number of Games Played')\n",
    "plt.ylabel('Character')\n",
    "plt.title('Games Played By Character')"
   ]
  }
 ],
 "metadata": {
  "kernelspec": {
   "display_name": "erdos_fall_2024",
   "language": "python",
   "name": "python3"
  },
  "language_info": {
   "codemirror_mode": {
    "name": "ipython",
    "version": 3
   },
   "file_extension": ".py",
   "mimetype": "text/x-python",
   "name": "python",
   "nbconvert_exporter": "python",
   "pygments_lexer": "ipython3",
   "version": "3.12.6"
  }
 },
 "nbformat": 4,
 "nbformat_minor": 2
}
