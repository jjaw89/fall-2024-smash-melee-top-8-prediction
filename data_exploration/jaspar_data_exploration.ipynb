{
 "cells": [
  {
   "cell_type": "code",
   "execution_count": 33,
   "metadata": {},
   "outputs": [],
   "source": [
    "import pandas as pd\n",
    "import numpy as np\n",
    "import matplotlib.pyplot as plt\n",
    "import json\n",
    "from collections import defaultdict\n",
    "import matplotlib.pyplot as plt\n",
    "import datetime \n",
    "\n",
    "import sqlite3\n",
    "import sys\n",
    "import time\n",
    "import tqdm"
   ]
  },
  {
   "cell_type": "markdown",
   "metadata": {},
   "source": [
    "## Loading SQLite Database into Pandas DataFrames\n",
    "\n",
    "The following code connects to an SQLite database (`melee_player_database.db`) and converts each table within the database into a pandas DataFrame. The DataFrames will be stored in a dictionary, where each key corresponds to the table name with `_df` appended, and the values are the respective DataFrames.\n",
    "\n",
    "### Steps:\n",
    "\n",
    "1. **Database Connection**: We use the `sqlite3` library to connect to the SQLite database file.\n",
    "2. **Retrieve Table Names**: A query retrieves all the table names in the database.\n",
    "3. **Convert Tables to DataFrames**: For each table:\n",
    "   - The table is loaded into a pandas DataFrame using `pd.read_sql()`.\n",
    "   - We check each column to see if any data is JSON-formatted (lists or dictionaries). If so, we convert these columns from strings into their corresponding Python objects using `json.loads()`.\n",
    "4. **Store DataFrames**: The DataFrames are stored in a dictionary, where the key is the table name with a `_df` suffix, and the value is the DataFrame.\n",
    "5. **Database Connection Closed**: Once all tables are loaded into DataFrames, the database connection is closed.\n",
    "\n",
    "### Example:\n",
    "If the database contains a table named `players`, the corresponding DataFrame will be stored in the dictionary with the key `players_df`, and can be accessed as:\n",
    "\n",
    "```python\n",
    "players_df = dfs['players_df']\n"
   ]
  },
  {
   "cell_type": "code",
   "execution_count": 34,
   "metadata": {},
   "outputs": [],
   "source": [
    "# Function to get the table names\n",
    "def get_table_names(conn):\n",
    "    query = \"SELECT name FROM sqlite_master WHERE type='table';\"\n",
    "    return pd.read_sql(query, conn)['name'].tolist()\n",
    "\n",
    "# Function to load tables into DataFrames\n",
    "def load_tables_to_dfs(conn):\n",
    "    table_names = get_table_names(conn)\n",
    "    dataframes = {}\n",
    "    \n",
    "    for table in table_names:\n",
    "        # Load table into a DataFrame\n",
    "        df = pd.read_sql(f\"SELECT * FROM {table}\", conn)\n",
    "        \n",
    "        # Detect and convert JSON formatted columns (if any)\n",
    "        for col in df.columns:\n",
    "            # Check if any entry in the column is a valid JSON (list or dictionary)\n",
    "            if df[col].apply(lambda x: isinstance(x, str)).all():\n",
    "                try:\n",
    "                    # Try parsing the column as JSON\n",
    "                    df[col] = df[col].apply(lambda x: json.loads(x) if pd.notnull(x) else x)\n",
    "                except (json.JSONDecodeError, TypeError):\n",
    "                    # If it fails, skip the column\n",
    "                    pass\n",
    "        \n",
    "        # Store the DataFrame with table name + '_df'\n",
    "        dataframes[f\"{table}_df\"] = df\n",
    "        \n",
    "    return dataframes\n",
    "\n",
    "# Check if the flag variable exists in the global scope so that this code does not run twice\n",
    "if 'cell_has_run' not in globals():\n",
    "    path = \"../data/melee_player_database.db\"\n",
    "    \n",
    "    # Connect to the database\n",
    "    conn = sqlite3.connect(path)\n",
    "\n",
    "    # Convert each table into a DataFrame\n",
    "    dfs = load_tables_to_dfs(conn)\n",
    "\n",
    "    # Close the connection\n",
    "    conn.close()\n",
    "\n",
    "    # Now, you have a dictionary 'dfs' where each key is the table name with '_df' suffix and value is the corresponding DataFrame.\n",
    "    # For example, to access the DataFrame for a table called 'players':\n",
    "    # players_df = dfs['players_df']\n",
    "\n",
    "    dfs['tournament_info_df']['start'] = pd.to_datetime(dfs['tournament_info_df']['start'], unit='s')\n",
    "    dfs['tournament_info_df']['end'] = pd.to_datetime(dfs['tournament_info_df']['end'], unit='s')\n",
    "\n",
    "    \n",
    "    # Set the flag to indicate that the cell has been run\n",
    "    cell_has_run = True"
   ]
  },
  {
   "cell_type": "markdown",
   "metadata": {},
   "source": [
    "### Here we adjust the data types of the dataframes so that they are the correct type. (This will be updated as needed.)"
   ]
  },
  {
   "cell_type": "code",
   "execution_count": 35,
   "metadata": {},
   "outputs": [],
   "source": [
    "dfs['sets_df']['best_of'] = dfs['sets_df']['best_of'].fillna(0).astype(int) "
   ]
  },
  {
   "cell_type": "markdown",
   "metadata": {},
   "source": [
    "### Here we make dataframes that we will use and print the head.\n",
    "\n",
    "The integers in 'characters' count the number of games the player has played that character. (We verify this for Zain below.)"
   ]
  },
  {
   "cell_type": "code",
   "execution_count": null,
   "metadata": {},
   "outputs": [],
   "source": [
    "players_df = dfs['players_df']\n",
    "players_df.head()"
   ]
  },
  {
   "cell_type": "code",
   "execution_count": null,
   "metadata": {},
   "outputs": [],
   "source": [
    "ranking_df = dfs['ranking_df']\n",
    "ranking_df.head()"
   ]
  },
  {
   "cell_type": "code",
   "execution_count": null,
   "metadata": {},
   "outputs": [],
   "source": [
    "ranking_seasons_df = dfs['ranking_seasons_df']\n",
    "ranking_seasons_df.head()"
   ]
  },
  {
   "cell_type": "code",
   "execution_count": null,
   "metadata": {},
   "outputs": [],
   "source": [
    "sets_df = dfs['sets_df']\n",
    "print(f'{sets_df[sets_df['game_data'].apply(lambda x: len(x) > 0)].shape[0] / sets_df.shape[0]:0.01%} percent of sets have some game data')\n",
    "sets_df.head()\n"
   ]
  },
  {
   "cell_type": "code",
   "execution_count": null,
   "metadata": {},
   "outputs": [],
   "source": [
    "print(sets_df['p1_score'].value_counts())\n",
    "filtered_sets_df = sets_df[sets_df['p1_score']==20]\n",
    "filtered_sets_df.head(13)"
   ]
  },
  {
   "cell_type": "code",
   "execution_count": null,
   "metadata": {},
   "outputs": [],
   "source": [
    "tournament_info_df = dfs['tournament_info_df']\n",
    "tournament_info_df.head()\n"
   ]
  },
  {
   "cell_type": "code",
   "execution_count": null,
   "metadata": {},
   "outputs": [],
   "source": [
    "n = 1206\n",
    "print(tournament_info_df.loc[n]['entrants'])\n",
    "print(len(tournament_info_df.loc[n]['placings']))\n",
    "print(tournament_info_df.loc[n]['placings'])\n"
   ]
  },
  {
   "cell_type": "markdown",
   "metadata": {},
   "source": [
    "## Investigate data for Zain\n",
    "We choose zain because he is in the best player in the head of the players_df."
   ]
  },
  {
   "cell_type": "code",
   "execution_count": null,
   "metadata": {},
   "outputs": [],
   "source": [
    "zain_df = players_df.iloc[2]\n",
    "print('Zain has played in', len(zain_df['placings']), 'tournaments.')\n",
    "\n",
    "# Dataframe of tournaments that zain has played in.\n",
    "zain_tournament_keys = [tournament['key'] for tournament in zain_df['placings']]\n",
    "zain_tournament_info_df = tournament_info_df[tournament_info_df['key'].isin(zain_tournament_keys)]"
   ]
  },
  {
   "cell_type": "code",
   "execution_count": null,
   "metadata": {},
   "outputs": [],
   "source": [
    "print(zain_tournament_info_df.info())\n",
    "zain_tournament_info_df.head()"
   ]
  },
  {
   "cell_type": "markdown",
   "metadata": {},
   "source": [
    "Here we make a dataframe containing all the sets that zain has played in and add some columns so that we can identify him more easily."
   ]
  },
  {
   "cell_type": "code",
   "execution_count": null,
   "metadata": {},
   "outputs": [],
   "source": [
    "# Filter sets_df with Zain as a player and make a copy\n",
    "zain_sets_df = sets_df[(sets_df['p1_id'] == zain_df['player_id']) | (sets_df['p2_id'] == zain_df['player_id'])].copy()\n",
    "print('Zain has played', zain_sets_df.shape[0], 'sets.')\n",
    "\n",
    "# Assuming zain_df['player_id'] gives Zain's player ID\n",
    "zain_id = zain_df['player_id']\n",
    "\n",
    "# Add a 'zain_win' column using .loc\n",
    "zain_sets_df.loc[:, 'zain_win'] = ((zain_sets_df['p1_id'] == zain_id) & (zain_sets_df['p1_score'] > zain_sets_df['p2_score'])) | \\\n",
    "                                  ((zain_sets_df['p2_id'] == zain_id) & (zain_sets_df['p2_score'] > zain_sets_df['p1_score']))\n",
    "\n",
    "# Add an 'opponent' column using .loc\n",
    "zain_sets_df.loc[:, 'opponent'] = zain_sets_df.apply(\n",
    "    lambda row: row['p1_id'] if row['p2_id'] == zain_id else row['p2_id'],\n",
    "    axis=1\n",
    ")\n",
    "\n",
    "# Add 'zain_score' and 'opponent_score' columns using .loc\n",
    "zain_sets_df.loc[:, 'zain_score'] = zain_sets_df.apply(\n",
    "    lambda row: row['p1_score'] if row['p1_id'] == zain_id else row['p2_score'],\n",
    "    axis=1\n",
    ")\n",
    "\n",
    "zain_sets_df.loc[:, 'opponent_score'] = zain_sets_df.apply(\n",
    "    lambda row: row['p2_score'] if row['p1_id'] == zain_id else row['p1_score'],\n",
    "    axis=1\n",
    ")\n",
    "\n",
    "# Filter the zain_sets_df for rows where 'game_data' is not an empty list\n",
    "game_data_zain_sets_df = zain_sets_df[zain_sets_df['game_data'].apply(lambda x: len(x) > 0)]\n",
    "\n",
    "# Display the result\n",
    "print('Zain has played', game_data_zain_sets_df.shape[0], 'sets with game_data.')\n"
   ]
  },
  {
   "cell_type": "markdown",
   "metadata": {},
   "source": [
    "Here we check to see that zain_df['characters'] counts the number of games that zain has played that character."
   ]
  },
  {
   "cell_type": "code",
   "execution_count": null,
   "metadata": {},
   "outputs": [],
   "source": [
    "# Ensure zain_id is a string to match the data in game_data\n",
    "zain_id = str(zain_id)\n",
    "\n",
    "# Initialize a dictionary to count Zain's characters\n",
    "zain_characters_count = defaultdict(int)\n",
    "\n",
    "# Loop through the 'game_data' for each set Zain played\n",
    "for game_data in game_data_zain_sets_df['game_data']:\n",
    "    for game in game_data:\n",
    "        # Check if Zain was the winner or loser and increment the count of the character he used\n",
    "        if str(game['winner_id']) == zain_id:  # Compare as strings\n",
    "            zain_characters_count[game['winner_char']] += 1\n",
    "        elif str(game['loser_id']) == zain_id:  # Compare as strings\n",
    "            zain_characters_count[game['loser_char']] += 1\n",
    "\n",
    "# Convert the defaultdict to a regular dict and display the result\n",
    "zain_characters_count = dict(zain_characters_count)\n",
    "# print(zain_characters_count)\n",
    "# print(zain_df['characters'])\n",
    "\n",
    "# Extract the characters dictionary from zain_df\n",
    "zain_characters_actual = zain_df['characters']\n",
    "\n",
    "# Find the keys that are common to both dictionaries\n",
    "common_keys = set(zain_characters_count.keys()).intersection(set(zain_characters_actual.keys()))\n",
    "\n",
    "# Compare the values for the keys that are common\n",
    "for key in common_keys:\n",
    "    if zain_characters_count[key] == zain_characters_actual[key]:\n",
    "        print(f\"{key}: Match - {zain_characters_count[key]} games\")\n",
    "    else:\n",
    "        print(f\"{key}: Mismatch - counted {zain_characters_count[key]} games, actual {zain_characters_actual[key]} games\")"
   ]
  },
  {
   "cell_type": "markdown",
   "metadata": {},
   "source": [
    "## Overall Glicko-2 Exploration ##\n"
   ]
  },
  {
   "cell_type": "markdown",
   "metadata": {},
   "source": [
    "Here we see what happens if we only have one update to a player's glicko rating.  It can blow up."
   ]
  },
  {
   "cell_type": "code",
   "execution_count": null,
   "metadata": {},
   "outputs": [],
   "source": [
    "from glicko2 import Player\n",
    "player = Player()\n",
    "print(player.getRating(),',', player.getRd())\n",
    "for i in range(0,3200, 200):\n",
    "    player = Player()\n",
    "    # player._tau = 1.2\n",
    "    # print(player._tau)\n",
    "    player.update_player([i, i, i],[100, 100, 100],[1, 1, 1])\n",
    "    print(i, player.getRating())"
   ]
  },
  {
   "cell_type": "code",
   "execution_count": null,
   "metadata": {},
   "outputs": [],
   "source": [
    "glicko2_df = pd.read_pickle('../data/overall_players_ranking.pkl')\n",
    "glicko2_df.shape[0]"
   ]
  },
  {
   "cell_type": "markdown",
   "metadata": {},
   "source": [
    "Here we explore who had the highest glicko 2 rating for every six months of the dataset. The result is nonsense if we include the players who have only a single rating. Requirering the players to have at least two updates to their rating fixes the problem."
   ]
  },
  {
   "cell_type": "code",
   "execution_count": null,
   "metadata": {},
   "outputs": [],
   "source": [
    "import datetime\n",
    "\n",
    "def get_index_of_date(dates, target_date):\n",
    "    return np.searchsorted(dates, target_date) - 1\n",
    "\n",
    "filtered_glicko = glicko2_df[glicko2_df['dates'].apply(len) > 1]\n",
    "# print(filtered_glicko.shape[0])\n",
    "\n",
    "for year in range(2016, 2025):\n",
    "    for month in [1, 6]:\n",
    "        target_date = datetime.datetime(year, month, 1)\n",
    "\n",
    "        indices = filtered_glicko['dates'].apply(lambda x: get_index_of_date(x, target_date))\n",
    "        filtered_glicko = filtered_glicko[indices >= 0]\n",
    "\n",
    "        # Extract ratings as a Series, ensuring correct data type\n",
    "        ratings_on_date = filtered_glicko.apply(\n",
    "            lambda row: row['rating_history'][indices[row.name]], axis=1\n",
    "        )\n",
    "\n",
    "        rd_on_date = filtered_glicko.apply(\n",
    "            lambda row: row['rd_history'][indices[row.name]], axis=1\n",
    "        )\n",
    "\n",
    "        # Ensure ratings_on_date is a Series and sort it\n",
    "        top_5 = ratings_on_date.sort_values(ascending=False)[:10]\n",
    "\n",
    "        # Retrieve the player tags along with their ratings\n",
    "        top_5_df = players_df[players_df['player_id'].isin(top_5.index)]\n",
    "        top_5_df = top_5_df.set_index('player_id').loc[top_5.index]\n",
    "        top_5_df['rating'] = top_5.values.astype(int)\n",
    "\n",
    "        # Display the top 5 players sorted by rating\n",
    "        print(f\"Date: {target_date.strftime('%Y-%m-%d')}\")\n",
    "        print(top_5_df[['tag', 'rating']].to_string(index=False))\n",
    "        print()\n"
   ]
  },
  {
   "cell_type": "code",
   "execution_count": null,
   "metadata": {},
   "outputs": [],
   "source": [
    "matchup_glicko = pd.read_pickle('../data/player_ratings_matchup_df.pkl')\n",
    "matchup_glicko.head()"
   ]
  },
  {
   "cell_type": "code",
   "execution_count": null,
   "metadata": {},
   "outputs": [],
   "source": [
    "matchup_glicko[matchup_glicko['player_id']=='1021']['rating_history_dict']"
   ]
  },
  {
   "cell_type": "code",
   "execution_count": null,
   "metadata": {},
   "outputs": [],
   "source": [
    "# Extract the relevant row from the DataFrame\n",
    "player_data = matchup_glicko.loc[matchup_glicko['player_id'] == '1021', 'rating_history_dict'].values[0]\n",
    "date_value = matchup_glicko.loc[matchup_glicko['player_id'] == '1021', 'dates_dict'].values[0]\n",
    "# Access the specific nested data: melee/yoshi vs melee/fox\n",
    "yoshi_vs_fox_ratings = player_data['melee/yoshi']['melee/fox']\n",
    "\n",
    "print(yoshi_vs_fox_ratings)"
   ]
  },
  {
   "cell_type": "code",
   "execution_count": null,
   "metadata": {},
   "outputs": [],
   "source": [
    "# Extract the relevant row from the DataFrame\n",
    "player_data = matchup_glicko.loc[matchup_glicko['player_id'] == '1021', 'rating_history_dict'].values[0]\n",
    "date_value = matchup_glicko.loc[matchup_glicko['player_id'] == '1021', 'dates_dict'].values[0]\n",
    "# Access the specific nested data: melee/yoshi vs melee/fox\n",
    "yoshi_vs_fox_ratings = player_data['melee/yoshi']['melee/fox']\n",
    "\n",
    "plot = plt.plot(date_value['melee/yoshi']['melee/fox'], player_data['melee/yoshi']['melee/fox'])\n",
    "\n",
    "# Extract the relevant row from the DataFrame\n",
    "player_data = matchup_glicko.loc[matchup_glicko['player_id'] == '19554', 'rating_history_dict'].values[0]\n",
    "date_value = matchup_glicko.loc[matchup_glicko['player_id'] == '19554', 'dates_dict'].values[0]\n",
    "# Access the specific nested data: melee/yoshi vs melee/fox\n",
    "fox_vs_yoshi_ratings = player_data['melee/fox']['melee/yoshi']\n",
    "print(date_value)\n",
    "plot = plt.plot(date_value['melee/fox']['melee/yoshi'], player_data['melee/fox']['melee/yoshi'])\n",
    "print(fox_vs_yoshi_ratings)"
   ]
  },
  {
   "cell_type": "code",
   "execution_count": 55,
   "metadata": {},
   "outputs": [],
   "source": [
    "matchup_glicko_3 = pd.read_pickle('../player_ratings_matchup_data/player_ratings_matchup_tau_3_df.pkl')\n",
    "matchup_glicko_9 = pd.read_pickle('../player_ratings_matchup_data/player_ratings_matchup_tau_9_df.pkl')\n",
    "matchup_glicko_11 = pd.read_pickle('../player_ratings_matchup_data/player_ratings_matchup_tau_11_df.pkl')\n",
    "matchup_glicko_13 = pd.read_pickle('../player_ratings_matchup_data/player_ratings_matchup_tau_13_df.pkl')"
   ]
  },
  {
   "cell_type": "code",
   "execution_count": 57,
   "metadata": {},
   "outputs": [
    {
     "data": {
      "text/html": [
       "<div>\n",
       "<style scoped>\n",
       "    .dataframe tbody tr th:only-of-type {\n",
       "        vertical-align: middle;\n",
       "    }\n",
       "\n",
       "    .dataframe tbody tr th {\n",
       "        vertical-align: top;\n",
       "    }\n",
       "\n",
       "    .dataframe thead th {\n",
       "        text-align: right;\n",
       "    }\n",
       "</style>\n",
       "<table border=\"1\" class=\"dataframe\">\n",
       "  <thead>\n",
       "    <tr style=\"text-align: right;\">\n",
       "      <th></th>\n",
       "      <th>player_id</th>\n",
       "      <th>dates_dict</th>\n",
       "      <th>rating_history_dict</th>\n",
       "      <th>rd_history_dict</th>\n",
       "      <th>game_count_dict</th>\n",
       "      <th>glicko2_dict</th>\n",
       "    </tr>\n",
       "  </thead>\n",
       "  <tbody>\n",
       "    <tr>\n",
       "      <th>1069</th>\n",
       "      <td>1021</td>\n",
       "      <td>{'melee/fox': {'melee/yoshi': [2017-10-09 03:0...</td>\n",
       "      <td>{'melee/fox': {'melee/yoshi': [1579.5961520248...</td>\n",
       "      <td>{'melee/fox': {'melee/yoshi': [293.42760627894...</td>\n",
       "      <td>{'melee/fox': {'melee/yoshi': 20, 'melee/marth...</td>\n",
       "      <td>{'melee/fox': {'melee/yoshi': &lt;glicko2.glicko2...</td>\n",
       "    </tr>\n",
       "  </tbody>\n",
       "</table>\n",
       "</div>"
      ],
      "text/plain": [
       "     player_id                                         dates_dict  \\\n",
       "1069      1021  {'melee/fox': {'melee/yoshi': [2017-10-09 03:0...   \n",
       "\n",
       "                                    rating_history_dict  \\\n",
       "1069  {'melee/fox': {'melee/yoshi': [1579.5961520248...   \n",
       "\n",
       "                                        rd_history_dict  \\\n",
       "1069  {'melee/fox': {'melee/yoshi': [293.42760627894...   \n",
       "\n",
       "                                        game_count_dict  \\\n",
       "1069  {'melee/fox': {'melee/yoshi': 20, 'melee/marth...   \n",
       "\n",
       "                                           glicko2_dict  \n",
       "1069  {'melee/fox': {'melee/yoshi': <glicko2.glicko2...  "
      ]
     },
     "execution_count": 57,
     "metadata": {},
     "output_type": "execute_result"
    }
   ],
   "source": [
    "# Extract the relevant row from the DataFrame\n",
    "amsa_matchup = matchup_glicko_13.loc[matchup_glicko['player_id'] == '1021']\n",
    "cody_matchup = matchup_glicko_13.loc[matchup_glicko['player_id'] == '19554']\n",
    "plot\n",
    "# amsa_date_value = matchup_glicko.loc[matchup_glicko['player_id'] == '1021', 'dates_dict'].values[0]\n",
    "# # Access the specific nested data: melee/yoshi vs melee/fox\n",
    "# yoshi_vs_fox_ratings = player_data['melee/yoshi']['melee/fox']\n",
    "\n",
    "# plot = plt.plot(date_value['melee/yoshi']['melee/fox'], player_data['melee/yoshi']['melee/fox'])\n",
    "\n",
    "# # Extract the relevant row from the DataFrame\n",
    "# player_data = matchup_glicko.loc[matchup_glicko['player_id'] == '19554', 'rating_history_dict'].values[0]\n",
    "# date_value = matchup_glicko.loc[matchup_glicko['player_id'] == '19554', 'dates_dict'].values[0]\n",
    "# # Access the specific nested data: melee/yoshi vs melee/fox\n",
    "# fox_vs_yoshi_ratings = player_data['melee/fox']['melee/yoshi']\n",
    "# print(date_value)\n",
    "# plot = plt.plot(date_value['melee/fox']['melee/yoshi'], player_data['melee/fox']['melee/yoshi'])\n",
    "# print(fox_vs_yoshi_ratings)"
   ]
  },
  {
   "cell_type": "code",
   "execution_count": null,
   "metadata": {},
   "outputs": [],
   "source": []
  }
 ],
 "metadata": {
  "kernelspec": {
   "display_name": "erdos_fall_2024",
   "language": "python",
   "name": "python3"
  },
  "language_info": {
   "codemirror_mode": {
    "name": "ipython",
    "version": 3
   },
   "file_extension": ".py",
   "mimetype": "text/x-python",
   "name": "python",
   "nbconvert_exporter": "python",
   "pygments_lexer": "ipython3",
   "version": "3.12.6"
  }
 },
 "nbformat": 4,
 "nbformat_minor": 2
}
