{
 "cells": [
  {
   "cell_type": "code",
   "execution_count": 1,
   "id": "3c346286-1d87-4bc2-9a2d-2ef3c7072812",
   "metadata": {},
   "outputs": [],
   "source": [
    "from xml.etree.ElementInclude import include\n",
    "\n",
    "import pandas as pd\n",
    "import numpy as np\n",
    "import matplotlib.pyplot as plt\n",
    "\n",
    "import sqlite3\n",
    "import sys\n",
    "import time"
   ]
  },
  {
   "cell_type": "code",
   "execution_count": 5,
   "id": "b2f04df2-934d-4e1c-b69a-bfd70bcd2746",
   "metadata": {},
   "outputs": [],
   "source": [
    "path = \"/Users/samschiavone/github/fall-2024-smash-melee-top-8-prediction/data/melee_player_database.db\"\n",
    "\n",
    "con = sqlite3.connect(path)\n",
    "cur = con.cursor()"
   ]
  },
  {
   "cell_type": "code",
   "execution_count": 6,
   "id": "d3a0b8a1-98b3-4975-8419-9ff2e3cac68d",
   "metadata": {},
   "outputs": [
    {
     "name": "stdout",
     "output_type": "stream",
     "text": [
      "         key   game                             tournament_key winner_id  \\\n",
      "0  104675843  melee  mdva-invitational-2017-(challonge-mirror)      5620   \n",
      "1  104675844  melee  mdva-invitational-2017-(challonge-mirror)     Aglet   \n",
      "2  104675845  melee  mdva-invitational-2017-(challonge-mirror)      6126   \n",
      "3  104675846  melee  mdva-invitational-2017-(challonge-mirror)      1069   \n",
      "4  104675847  melee  mdva-invitational-2017-(challonge-mirror)     Rishi   \n",
      "\n",
      "   p1_id    p2_id  p1_score  p2_score                location_names  \\\n",
      "0   5620  Chillin         3         1  [\"R1\", \"Round 1\", \"Round 1\"]   \n",
      "1  15634    Aglet         2         3  [\"R1\", \"Round 1\", \"Round 1\"]   \n",
      "2   6126     1097         3         0  [\"R1\", \"Round 1\", \"Round 1\"]   \n",
      "3    Chu     1069         0         3  [\"R1\", \"Round 1\", \"Round 1\"]   \n",
      "4  Jerry    Rishi         1         3  [\"R1\", \"Round 1\", \"Round 1\"]   \n",
      "\n",
      "  bracket_name bracket_order set_order  best_of game_data  \n",
      "0                          1         A      5.0        []  \n",
      "1                          1         B      5.0        []  \n",
      "2                          1         C      5.0        []  \n",
      "3                          1         D      5.0        []  \n",
      "4                          1         E      5.0        []  \n",
      "\n"
     ]
    }
   ],
   "source": [
    "def get_column_names(table):\n",
    "    cur.execute(\"SELECT * FROM \" + table + \" LIMIT 1\")\n",
    "    return [x[0] for x in cur.description]\n",
    "\n",
    "def get_rows(table, num_rows):\n",
    "    cur.execute(\"SELECT * FROM \" + table + \" LIMIT \" + str(num_rows))\n",
    "    return cur.fetchall()\n",
    "\n",
    "# BENCHMARKING - BENCHMARKING - BENCHMARKING\n",
    "start_time = time.time()\n",
    "\n",
    "columns = get_column_names(\"sets\")\n",
    "rows = get_rows(table=\"sets\", num_rows=10 * 1000 * 1000)\n",
    "\n",
    "df = pd.DataFrame(rows, columns=columns)\n",
    "\n",
    "print(df.head())\n",
    "print()\n"
   ]
  },
  {
   "cell_type": "code",
   "execution_count": 13,
   "id": "6b91e06c-c0dd-4df0-9f21-a22977814105",
   "metadata": {},
   "outputs": [
    {
     "name": "stdout",
     "output_type": "stream",
     "text": [
      "39487\n"
     ]
    }
   ],
   "source": [
    "tourneys = df['tournament_key'].unique()\n",
    "print(len(tourneys))"
   ]
  },
  {
   "cell_type": "code",
   "execution_count": 14,
   "id": "d538bf8e-5588-4ecc-8c26-41d54b5d1f24",
   "metadata": {},
   "outputs": [
    {
     "data": {
      "text/plain": [
       "'gamescape-smash-50__melee-singles'"
      ]
     },
     "execution_count": 14,
     "metadata": {},
     "output_type": "execute_result"
    }
   ],
   "source": [
    "tourneys[30000]"
   ]
  },
  {
   "cell_type": "code",
   "execution_count": 19,
   "id": "08f74cd7-609c-4f6e-93d6-e1b4323691a6",
   "metadata": {},
   "outputs": [
    {
     "data": {
      "text/plain": [
       "key                                                           \n",
       "game                                                     melee\n",
       "tournament_key                           heir-4__melee-singles\n",
       "winner_id                                                22900\n",
       "p1_id                                                     5956\n",
       "p2_id                                                    22900\n",
       "p1_score                                                     2\n",
       "p2_score                                                     3\n",
       "location_names    [\"LSF\", \"Losers Semis\", \"Losers Semi-Final\"]\n",
       "bracket_name                             Diamond Bracket Top 8\n",
       "bracket_order                                                4\n",
       "set_order                                                    J\n",
       "best_of                                                    3.0\n",
       "game_data                                                   []\n",
       "Name: 43390, dtype: object"
      ]
     },
     "execution_count": 19,
     "metadata": {},
     "output_type": "execute_result"
    }
   ],
   "source": [
    "df.iloc[43390]"
   ]
  },
  {
   "cell_type": "code",
   "execution_count": null,
   "id": "8e86ae2b-8b41-452a-9180-5950acb6c667",
   "metadata": {},
   "outputs": [],
   "source": []
  }
 ],
 "metadata": {
  "kernelspec": {
   "display_name": "Python 3 (ipykernel)",
   "language": "python",
   "name": "python3"
  },
  "language_info": {
   "codemirror_mode": {
    "name": "ipython",
    "version": 3
   },
   "file_extension": ".py",
   "mimetype": "text/x-python",
   "name": "python",
   "nbconvert_exporter": "python",
   "pygments_lexer": "ipython3",
   "version": "3.10.12"
  }
 },
 "nbformat": 4,
 "nbformat_minor": 5
}
