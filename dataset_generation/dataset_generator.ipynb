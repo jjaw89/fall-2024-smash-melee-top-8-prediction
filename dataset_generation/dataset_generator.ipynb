{
 "cells": [
  {
   "cell_type": "code",
   "execution_count": 23,
   "metadata": {},
   "outputs": [],
   "source": [
    "import pandas as pd\n",
    "import numpy as np\n",
    "import matplotlib.pyplot as plt\n",
    "import json\n",
    "from collections import defaultdict\n",
    "from joblib import Parallel, delayed\n",
    "\n",
    "import sqlite3\n",
    "import sys\n",
    "import time\n",
    "import math\n",
    "import tqdm\n",
    "import datetime\n",
    "import os\n",
    "import pickle\n",
    "import random\n",
    "\n",
    "import swifter\n",
    "\n",
    "from glicko2 import Player\n",
    "\n",
    "if os.path.exists('/workspace/data'):\n",
    "    # Load the dictionary of DataFrames from the pickle\n",
    "    data_path = '/workspace/data/'\n",
    "else:\n",
    "    data_path = '../data/'"
   ]
  },
  {
   "cell_type": "markdown",
   "metadata": {},
   "source": [
    "## Loading SQLite Database into Pandas DataFrames\n",
    "\n",
    "The following code connects to an SQLite database (`melee_player_database.db`) and converts each table within the database into a pandas DataFrame. The DataFrames will be stored in a dictionary, where each key corresponds to the table name with `_df` appended, and the values are the respective DataFrames.\n",
    "\n",
    "### Steps:\n",
    "\n",
    "1. **Database Connection**: We use the `sqlite3` library to connect to the SQLite database file.\n",
    "2. **Retrieve Table Names**: A query retrieves all the table names in the database.\n",
    "3. **Convert Tables to DataFrames**: For each table:\n",
    "   - The table is loaded into a pandas DataFrame using `pd.read_sql()`.\n",
    "   - We check each column to see if any data is JSON-formatted (lists or dictionaries). If so, we convert these columns from strings into their corresponding Python objects using `json.loads()`.\n",
    "4. **Store DataFrames**: The DataFrames are stored in a dictionary, where the key is the table name with a `_df` suffix, and the value is the DataFrame.\n",
    "5. **Database Connection Closed**: Once all tables are loaded into DataFrames, the database connection is closed.\n",
    "\n",
    "### Example:\n",
    "If the database contains a table named `players`, the corresponding DataFrame will be stored in the dictionary with the key `players_df`, and can be accessed as:\n",
    "\n",
    "```python\n",
    "players_df = dfs['players_df']\n"
   ]
  },
  {
   "cell_type": "code",
   "execution_count": 2,
   "metadata": {},
   "outputs": [],
   "source": [
    "# Function to get the table names\n",
    "def get_table_names(conn):\n",
    "    query = \"SELECT name FROM sqlite_master WHERE type='table';\"\n",
    "    return pd.read_sql(query, conn)['name'].tolist()\n",
    "\n",
    "# Function to load tables into DataFrames\n",
    "def load_tables_to_dfs(conn):\n",
    "    table_names = get_table_names(conn)\n",
    "    dataframes = {}\n",
    "    \n",
    "    for table in table_names:\n",
    "        # Load table into a DataFrame\n",
    "        df = pd.read_sql(f\"SELECT * FROM {table}\", conn)\n",
    "        \n",
    "        # Detect and convert JSON formatted columns (if any)\n",
    "        for col in df.columns:\n",
    "            # Check if any entry in the column is a valid JSON (list or dictionary)\n",
    "            if df[col].apply(lambda x: isinstance(x, str)).all():\n",
    "                try:\n",
    "                    # Try parsing the column as JSON\n",
    "                    df[col] = df[col].apply(lambda x: json.loads(x) if pd.notnull(x) else x)\n",
    "                except (json.JSONDecodeError, TypeError):\n",
    "                    # If it fails, skip the column\n",
    "                    pass\n",
    "        \n",
    "        # Store the DataFrame with table name + '_df'\n",
    "        dataframes[f\"{table}_df\"] = df\n",
    "        \n",
    "    return dataframes\n",
    "\n",
    "if os.path.exists(data_path + 'dfs_dict.pkl'):\n",
    "    cell_has_run = True\n",
    "    # Load the dictionary of DataFrames from the pickle\n",
    "    with open(data_path + 'dfs_dict.pkl', 'rb') as f:\n",
    "        dfs = pickle.load(f)\n",
    "# Check if the flag variable exists in the global scope so that this code does not run twice\n",
    "if 'cell_has_run' not in globals():\n",
    "    path = data_path + \"melee_player_database.db\"\n",
    "    \n",
    "    # Connect to the database\n",
    "    conn = sqlite3.connect(path)\n",
    "\n",
    "    # Convert each table into a DataFrame\n",
    "    dfs = load_tables_to_dfs(conn)\n",
    "\n",
    "    # Close the connection\n",
    "    conn.close()\n",
    "\n",
    "    # Now, you have a dictionary 'dfs' where each key is the table name with '_df' suffix and value is the corresponding DataFrame.\n",
    "    # For example, to access the DataFrame for a table called 'players':\n",
    "    # players_df = dfs['players_df']\n",
    "\n",
    "    dfs['tournament_info_df']['start'] = pd.to_datetime(dfs['tournament_info_df']['start'], unit='s')\n",
    "    dfs['tournament_info_df']['end'] = pd.to_datetime(dfs['tournament_info_df']['end'], unit='s')\n",
    "\n",
    "    \n",
    "    # Set the flag to indicate that the cell has been run\n",
    "    cell_has_run = True"
   ]
  },
  {
   "cell_type": "markdown",
   "metadata": {},
   "source": [
    "### Here we adjust the data types of the dataframes so that they are the correct type. (This will be updated as needed.)"
   ]
  },
  {
   "cell_type": "code",
   "execution_count": 3,
   "metadata": {},
   "outputs": [],
   "source": [
    "dfs['sets_df']['best_of'] = dfs['sets_df']['best_of'].fillna(0).astype(int) "
   ]
  },
  {
   "cell_type": "markdown",
   "metadata": {},
   "source": [
    "### Here we make dataframes that we will use and print the head.\n",
    "\n",
    "The integers in 'characters' count the number of games the player has played that character. (We verify this for Zain below.)"
   ]
  },
  {
   "cell_type": "code",
   "execution_count": null,
   "metadata": {},
   "outputs": [],
   "source": [
    "players_df = dfs['players_df']\n",
    "players_df.head()"
   ]
  },
  {
   "cell_type": "code",
   "execution_count": null,
   "metadata": {},
   "outputs": [],
   "source": [
    "ranking_df = dfs['ranking_df']\n",
    "ranking_df.head()"
   ]
  },
  {
   "cell_type": "code",
   "execution_count": null,
   "metadata": {},
   "outputs": [],
   "source": [
    "ranking_seasons_df = dfs['ranking_seasons_df']\n",
    "ranking_seasons_df.head()"
   ]
  },
  {
   "cell_type": "code",
   "execution_count": null,
   "metadata": {},
   "outputs": [],
   "source": [
    "sets_df = dfs['sets_df']\n",
    "print(f\"{sets_df[sets_df['game_data'].apply(lambda x: len(x) > 0)].shape[0] / sets_df.shape[0]:0.01%} percent of sets have some game data)\")\n",
    "\n",
    "sets_df.head()"
   ]
  },
  {
   "cell_type": "code",
   "execution_count": null,
   "metadata": {},
   "outputs": [],
   "source": [
    "tournament_info_df = dfs['tournament_info_df']\n",
    "tournament_info_df.head()"
   ]
  },
  {
   "cell_type": "code",
   "execution_count": 9,
   "metadata": {},
   "outputs": [],
   "source": [
    "# Code optimization by Dan\n",
    "# Basically we want to replace this line in process_tournament with something more efficient:\n",
    "#\n",
    "#      tournament_sets_df = sets_df[sets_df['tournament_key'] == tournament_key]\n",
    "#\n",
    "# Instead, we can\n",
    "# - Merge the tournament date info into ``sets_df``\n",
    "# - Sort by date\n",
    "# - Store the start/end positions of each tournament in a separate dictionary\n",
    "# - Use tournament_sets_df = sets_df.iloc[start:end+1] instead.\n",
    "\n",
    "sets_df = sets_df.merge(tournament_info_df[['key', 'start', 'end']], left_on='tournament_key', right_on='key', how='left')\n",
    "sets_df = sets_df.drop(labels=['key_y'], axis='columns')\n",
    "sets_df = sets_df.rename(columns={\"key_x\": \"key\"})\n",
    "sets_df = sets_df.sort_values(by=['end', 'tournament_key']) # Just in case there are tournaments with the exact same end date"
   ]
  },
  {
   "cell_type": "code",
   "execution_count": 10,
   "metadata": {},
   "outputs": [],
   "source": [
    "# A bit of data cleanup\n",
    "min_date = datetime.datetime(2015, 1, 1)\n",
    "max_date = datetime.datetime(2024, 12, 31)\n",
    "\n",
    "sets_df = sets_df[(sets_df['start'] >= min_date) & (sets_df['end'] >= min_date) & (sets_df['start'] <= max_date) & (sets_df['end'] <= max_date)]"
   ]
  },
  {
   "cell_type": "markdown",
   "metadata": {},
   "source": [
    "## Generate features"
   ]
  },
  {
   "cell_type": "code",
   "execution_count": 11,
   "metadata": {},
   "outputs": [],
   "source": [
    "# Append to this list evey time you add features!\n",
    "# For convenience, it is blank here, and you should append in each feature-adding cell\n",
    "features = []\n",
    "output = 'winner'"
   ]
  },
  {
   "cell_type": "code",
   "execution_count": 12,
   "metadata": {},
   "outputs": [],
   "source": [
    "sets_df[output] = sets_df.apply(lambda row: 1.0 if row['winner_id'] == row['p1_id'] else 0.0, axis=1)"
   ]
  },
  {
   "cell_type": "markdown",
   "metadata": {},
   "source": [
    "### \"Default\" ELO/RD features"
   ]
  },
  {
   "cell_type": "code",
   "execution_count": 41,
   "metadata": {},
   "outputs": [],
   "source": [
    "# Overall ELO/RD as features\n",
    "player_ratings_df = pd.read_pickle(data_path + 'overall_players_ranking_new_weekly.pkl')\n",
    "player_rds_df = pd.read_pickle(data_path + 'overall_players_rds_new_weekly.pkl')\n",
    "\n",
    "# Might as well compute a (mostly accurate) number of updates from the ratings dataframe\n",
    "# This isn't 100% accurate, as sometimes (especially if default elo playing default elo)\n",
    "# the elo might not change from round to round.\n",
    "player_updates_df = pd.DataFrame(0, index=player_ratings_df.index, columns=player_ratings_df.columns)\n",
    "\n",
    "for i in range(1, len(player_ratings_df.index)):\n",
    "    row_updates = (player_ratings_df.iloc[i] != player_ratings_df.iloc[i-1]).astype(int)\n",
    "    player_updates_df.iloc[i] = row_updates\n",
    "\n",
    "player_updates_df = player_updates_df.cumsum()\n",
    "\n",
    "\n",
    "features_elo_rd = ['p1_elo', 'p2_elo', 'p1_rd', 'p2_rd', 'p1_updates', 'p2_updates']\n",
    "dates = list(player_ratings_df.index)\n",
    "\n",
    "# Efficiency purposes. We are assuming that constant intervals are used.\n",
    "initial_date = dates[0]\n",
    "interval = dates[1] - dates[0]\n",
    "\n",
    "# start_date is the start date of the specific set (tournament)\n",
    "def get_info(df, player_id, start_date):\n",
    "    # Far more efficient than searching the index manually every time\n",
    "    week_num = int((start_date - initial_date) / interval)\n",
    "    newest_date = initial_date + week_num * interval\n",
    "    if dates[-1] < newest_date:\n",
    "        newest_date = dates[-1]\n",
    "    return df.loc[newest_date, player_id]\n",
    "\n",
    "sets_df['p1_elo'] = sets_df.apply(lambda row: get_info(player_ratings_df, row['p1_id'], row['start']), axis=1)\n",
    "sets_df['p2_elo'] = sets_df.apply(lambda row: get_info(player_ratings_df, row['p2_id'], row['start']), axis=1)\n",
    "\n",
    "sets_df['p1_rd'] = sets_df.apply(lambda row: get_info(player_rds_df, row['p1_id'], row['start']), axis=1)\n",
    "sets_df['p2_rd'] = sets_df.apply(lambda row: get_info(player_rds_df, row['p2_id'], row['start']), axis=1)\n",
    "\n",
    "sets_df['p1_updates'] = sets_df.apply(lambda row: get_info(player_updates_df, row['p1_id'], row['start']), axis=1)\n",
    "sets_df['p2_updates'] = sets_df.apply(lambda row: get_info(player_updates_df, row['p2_id'], row['start']), axis=1)\n",
    "\n",
    "# Might as well clear if these aren't needed. They are huge in memory.\n",
    "del player_ratings_df\n",
    "del player_rds_df\n",
    "del player_updates_df"
   ]
  },
  {
   "cell_type": "markdown",
   "metadata": {},
   "source": [
    "### Number of times each player has played each character"
   ]
  },
  {
   "cell_type": "code",
   "execution_count": null,
   "metadata": {},
   "outputs": [],
   "source": [
    "initial_date = datetime.datetime(2015,1,1)\n",
    "interval = datetime.timedelta(weeks=1)\n",
    "\n",
    "end_date = initial_date + math.ceil((sets_df['end'].max() - initial_date) / interval) * interval\n",
    "\n",
    "# Extract the number of times a player has played as a certain character\n",
    "game_data = sets_df[sets_df['game_data'].apply(lambda x: x != [])]\n",
    "game_data = game_data[['p1_id', 'p2_id', 'winner_id', 'game_data', 'start', 'end']]\n",
    "game_data\n",
    "\n",
    "# For efficiency reasons, let's create a dataframe with each individual game being a row\n",
    "rows = []\n",
    "\n",
    "def add_row(row):\n",
    "    for data in row['game_data']:\n",
    "        # If we wanna avoid tampering with the original entries\n",
    "        data = data.copy()\n",
    "\n",
    "        # Invalid data\n",
    "        if data['winner_id'] is None or data['winner_char'] is None or data['loser_id'] is None or data['loser_char'] is None:\n",
    "            continue\n",
    "\n",
    "        # Data cleanup\n",
    "        data['winner_id'] = str(data['winner_id'])\n",
    "        data['winner_char'] = str(data['winner_char'])\n",
    "        data['loser_id'] = str(data['loser_id'])\n",
    "        data['loser_char'] = str(data['loser_char'])\n",
    "\n",
    "        data['start'] = row['start']\n",
    "        data['end'] = row['end']\n",
    "\n",
    "        rows.append(data)\n",
    "\n",
    "game_data.apply(add_row, axis=1)\n",
    "\n",
    "game_data = pd.DataFrame(rows)\n",
    "game_data"
   ]
  },
  {
   "cell_type": "code",
   "execution_count": 34,
   "metadata": {},
   "outputs": [],
   "source": [
    "# Actually get a list of characters and their individual popularities\n",
    "# In the end, a series with index as the character and value as the number of times played.\n",
    "# Probably sorted in the end.\n",
    "all_characters = pd.concat([game_data['winner_char'], game_data['loser_char']], ignore_index=True)\n",
    "all_characters = all_characters.value_counts()"
   ]
  },
  {
   "cell_type": "code",
   "execution_count": 35,
   "metadata": {},
   "outputs": [],
   "source": [
    "# Player/character combos\n",
    "game_data['winner_pc'] = game_data.apply(lambda row: row['winner_id'] + '/' + row['winner_char'], axis=1)\n",
    "game_data['loser_pc'] = game_data.apply(lambda row: row['loser_id'] + '/' + row['loser_char'], axis=1)\n",
    "\n",
    "# What week number this is, for example.\n",
    "game_data['end_index'] = game_data['end'].apply(lambda x: math.ceil((x - initial_date) / interval))\n",
    "game_data['end_date'] = game_data['end_index'].apply(lambda x: initial_date + x*interval)\n",
    "game_data['end_date_copy'] = game_data['end_index'].apply(lambda x: initial_date + x*interval) # To deal with include_groups=True deprecation\n"
   ]
  },
  {
   "cell_type": "code",
   "execution_count": 36,
   "metadata": {},
   "outputs": [],
   "source": [
    "# Actually compute the dates (index) without loading a dataframe for reference.\n",
    "dates = []\n",
    "\n",
    "date = initial_date\n",
    "while date <= end_date:\n",
    "    dates.append(date)\n",
    "    date += interval\n",
    "\n",
    "pc_combos = list(set(list(game_data['winner_pc']) + list(game_data['loser_pc'])))\n",
    "\n",
    "# Count the number of times a character has been used.\n",
    "# Columns will be player/character (or rather, player/melee/character)\n",
    "# Initialize everything to zero, initially.\n",
    "character_usage_df = pd.DataFrame(0, index=dates, columns=pc_combos)"
   ]
  },
  {
   "cell_type": "code",
   "execution_count": null,
   "metadata": {},
   "outputs": [],
   "source": [
    "def update_row(df):\n",
    "    date = df.iloc[0]['end_date_copy']\n",
    "\n",
    "    pc_series = pd.concat([df['winner_pc'], df['loser_pc']], ignore_index=True)\n",
    "\n",
    "    # Deprecation-proofing\n",
    "    temp = character_usage_df.loc[date].copy()\n",
    "    temp.update(pc_series.value_counts())\n",
    "    \n",
    "    character_usage_df.loc[date] = temp\n",
    "    \n",
    "game_data.groupby('end_date').apply(update_row, include_groups=False)"
   ]
  },
  {
   "cell_type": "code",
   "execution_count": null,
   "metadata": {},
   "outputs": [],
   "source": [
    "character_usage_df = character_usage_df.cumsum()\n",
    "character_usage_df"
   ]
  },
  {
   "cell_type": "code",
   "execution_count": 39,
   "metadata": {},
   "outputs": [],
   "source": [
    "# Newest possible date to get data from.\n",
    "sets_df['start_index'] = sets_df['start'].apply(lambda x: int((x - initial_date) / interval))\n",
    "sets_df['start_date'] = sets_df['start_index'].apply(lambda x: initial_date + x * interval)"
   ]
  },
  {
   "cell_type": "code",
   "execution_count": null,
   "metadata": {},
   "outputs": [],
   "source": [
    "# No point in recomputing every single time.\n",
    "p1c_final_index = ['p1' + '_' + x + '_count' for x in all_characters.index]\n",
    "p2c_final_index = ['p2' + '_' + x + '_count' for x in all_characters.index]\n",
    "\n",
    "features_pc = p1c_final_index + p2c_final_index\n",
    "\n",
    "def get_char_count(row):\n",
    "    # We'll rename the index entries later for these.\n",
    "    p1c_series = pd.Series(0, index=[row['p1_id'] + '/' + x for x in all_characters.index])\n",
    "    p2c_series = pd.Series(0, index=[row['p2_id'] + '/' + x for x in all_characters.index])\n",
    "\n",
    "    p1c_series.update(character_usage_df.loc[row['start_date']])\n",
    "    p2c_series.update(character_usage_df.loc[row['start_date']])\n",
    "\n",
    "    p1c_series.index = p1c_final_index\n",
    "    p2c_series.index = p2c_final_index\n",
    "\n",
    "    return pd.concat([p1c_series, p2c_series])\n",
    "\n",
    "sets_df = pd.concat([sets_df, sets_df.apply(get_char_count, axis=1)], axis=1)"
   ]
  },
  {
   "cell_type": "markdown",
   "metadata": {},
   "source": [
    "## Generate final dataset from above features"
   ]
  },
  {
   "cell_type": "code",
   "execution_count": null,
   "metadata": {},
   "outputs": [],
   "source": [
    "dataset_df = sets_df[features_elo_rd + features_pc + [output]]\n",
    "dataset_df = dataset_df.astype(float)\n",
    "dataset_df"
   ]
  },
  {
   "cell_type": "code",
   "execution_count": 48,
   "metadata": {},
   "outputs": [],
   "source": [
    "dataset_df.to_pickle(data_path + 'dataset.pkl')"
   ]
  },
  {
   "cell_type": "code",
   "execution_count": null,
   "metadata": {},
   "outputs": [],
   "source": []
  }
 ],
 "metadata": {
  "kernelspec": {
   "display_name": "erdos_fall_2024",
   "language": "python",
   "name": "python3"
  },
  "language_info": {
   "codemirror_mode": {
    "name": "ipython",
    "version": 3
   },
   "file_extension": ".py",
   "mimetype": "text/x-python",
   "name": "python",
   "nbconvert_exporter": "python",
   "pygments_lexer": "ipython3",
   "version": "3.12.6"
  }
 },
 "nbformat": 4,
 "nbformat_minor": 2
}
