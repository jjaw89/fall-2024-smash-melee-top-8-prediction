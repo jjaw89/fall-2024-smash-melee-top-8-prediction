{
 "cells": [
  {
   "cell_type": "markdown",
   "metadata": {},
   "source": [
    "# Baseline Test #\n",
    "Our first baseline is to simply use the Glicko-2 player rank to predict the outcome of the set."
   ]
  },
  {
   "cell_type": "code",
   "execution_count": 20,
   "metadata": {},
   "outputs": [
    {
     "name": "stdout",
     "output_type": "stream",
     "text": [
      "Requirement already satisfied: numba in c:\\users\\jaspa\\.conda\\envs\\erdos_fall_2024\\lib\\site-packages (0.60.0)\n",
      "Requirement already satisfied: llvmlite<0.44,>=0.43.0dev0 in c:\\users\\jaspa\\.conda\\envs\\erdos_fall_2024\\lib\\site-packages (from numba) (0.43.0)\n",
      "Requirement already satisfied: numpy<2.1,>=1.22 in c:\\users\\jaspa\\.conda\\envs\\erdos_fall_2024\\lib\\site-packages (from numba) (2.0.2)\n"
     ]
    }
   ],
   "source": [
    "!pip install numba\n"
   ]
  },
  {
   "cell_type": "code",
   "execution_count": 21,
   "metadata": {},
   "outputs": [],
   "source": [
    "import pandas as pd\n",
    "import numpy as np\n",
    "import matplotlib.pyplot as plt\n",
    "import json\n",
    "from collections import defaultdict\n",
    "import matplotlib.pyplot as plt\n",
    "from numba import njit, prange\n",
    "\n",
    "import sqlite3\n",
    "import sys\n",
    "import time\n",
    "import tqdm"
   ]
  },
  {
   "cell_type": "code",
   "execution_count": 22,
   "metadata": {},
   "outputs": [
    {
     "data": {
      "text/html": [
       "<div>\n",
       "<style scoped>\n",
       "    .dataframe tbody tr th:only-of-type {\n",
       "        vertical-align: middle;\n",
       "    }\n",
       "\n",
       "    .dataframe tbody tr th {\n",
       "        vertical-align: top;\n",
       "    }\n",
       "\n",
       "    .dataframe thead th {\n",
       "        text-align: right;\n",
       "    }\n",
       "</style>\n",
       "<table border=\"1\" class=\"dataframe\">\n",
       "  <thead>\n",
       "    <tr style=\"text-align: right;\">\n",
       "      <th></th>\n",
       "      <th>dates</th>\n",
       "      <th>rating_history</th>\n",
       "      <th>rd_history</th>\n",
       "      <th>glicko2</th>\n",
       "    </tr>\n",
       "    <tr>\n",
       "      <th>player_id</th>\n",
       "      <th></th>\n",
       "      <th></th>\n",
       "      <th></th>\n",
       "      <th></th>\n",
       "    </tr>\n",
       "  </thead>\n",
       "  <tbody>\n",
       "    <tr>\n",
       "      <th>1000</th>\n",
       "      <td>[2015-01-13 01:02:28, 2015-02-06 18:58:36, 201...</td>\n",
       "      <td>[1669.3438572516538, 1699.3674585229132, 1882....</td>\n",
       "      <td>[171.20863576993426, 129.71212804199854, 83.73...</td>\n",
       "      <td>&lt;glicko2.glicko2.Player object at 0x000001BBDB...</td>\n",
       "    </tr>\n",
       "    <tr>\n",
       "      <th>Stelzig</th>\n",
       "      <td>[2015-01-13 01:02:28, 2015-08-17 23:13:14]</td>\n",
       "      <td>[1252.6819167554638, 1165.5738869144382]</td>\n",
       "      <td>[253.40460822505193, 211.92970378109877]</td>\n",
       "      <td>&lt;glicko2.glicko2.Player object at 0x000001BBDB...</td>\n",
       "    </tr>\n",
       "  </tbody>\n",
       "</table>\n",
       "</div>"
      ],
      "text/plain": [
       "                                                       dates  \\\n",
       "player_id                                                      \n",
       "1000       [2015-01-13 01:02:28, 2015-02-06 18:58:36, 201...   \n",
       "Stelzig           [2015-01-13 01:02:28, 2015-08-17 23:13:14]   \n",
       "\n",
       "                                              rating_history  \\\n",
       "player_id                                                      \n",
       "1000       [1669.3438572516538, 1699.3674585229132, 1882....   \n",
       "Stelzig             [1252.6819167554638, 1165.5738869144382]   \n",
       "\n",
       "                                                  rd_history  \\\n",
       "player_id                                                      \n",
       "1000       [171.20863576993426, 129.71212804199854, 83.73...   \n",
       "Stelzig             [253.40460822505193, 211.92970378109877]   \n",
       "\n",
       "                                                     glicko2  \n",
       "player_id                                                     \n",
       "1000       <glicko2.glicko2.Player object at 0x000001BBDB...  \n",
       "Stelzig    <glicko2.glicko2.Player object at 0x000001BBDB...  "
      ]
     },
     "execution_count": 22,
     "metadata": {},
     "output_type": "execute_result"
    }
   ],
   "source": [
    "glicko2_df = pd.read_pickle('../data/overall_players_ranking.pkl')\n",
    "glicko2_df.head(2)"
   ]
  },
  {
   "cell_type": "code",
   "execution_count": 23,
   "metadata": {},
   "outputs": [],
   "source": [
    "# Function to get the table names\n",
    "def get_table_names(conn):\n",
    "    query = \"SELECT name FROM sqlite_master WHERE type='table';\"\n",
    "    return pd.read_sql(query, conn)['name'].tolist()\n",
    "\n",
    "# Function to load tables into DataFrames\n",
    "def load_tables_to_dfs(conn):\n",
    "    table_names = get_table_names(conn)\n",
    "    dataframes = {}\n",
    "    \n",
    "    for table in table_names:\n",
    "        # Load table into a DataFrame\n",
    "        df = pd.read_sql(f\"SELECT * FROM {table}\", conn)\n",
    "        \n",
    "        # Detect and convert JSON formatted columns (if any)\n",
    "        for col in df.columns:\n",
    "            # Check if any entry in the column is a valid JSON (list or dictionary)\n",
    "            if df[col].apply(lambda x: isinstance(x, str)).all():\n",
    "                try:\n",
    "                    # Try parsing the column as JSON\n",
    "                    df[col] = df[col].apply(lambda x: json.loads(x) if pd.notnull(x) else x)\n",
    "                except (json.JSONDecodeError, TypeError):\n",
    "                    # If it fails, skip the column\n",
    "                    pass\n",
    "        \n",
    "        # Store the DataFrame with table name + '_df'\n",
    "        dataframes[f\"{table}_df\"] = df\n",
    "        \n",
    "    return dataframes\n",
    "\n",
    "# Check if the flag variable exists in the global scope so that this code does not run twice\n",
    "if 'cell_has_run' not in globals():\n",
    "    path = \"../data/melee_player_database.db\"\n",
    "    \n",
    "    # Connect to the database\n",
    "    conn = sqlite3.connect(path)\n",
    "\n",
    "    # Convert each table into a DataFrame\n",
    "    dfs = load_tables_to_dfs(conn)\n",
    "\n",
    "    # Close the connection\n",
    "    conn.close()\n",
    "\n",
    "    # Now, you have a dictionary 'dfs' where each key is the table name with '_df' suffix and value is the corresponding DataFrame.\n",
    "    # For example, to access the DataFrame for a table called 'players':\n",
    "    # players_df = dfs['players_df']\n",
    "\n",
    "    dfs['tournament_info_df']['start'] = pd.to_datetime(dfs['tournament_info_df']['start'], unit='s')\n",
    "    dfs['tournament_info_df']['end'] = pd.to_datetime(dfs['tournament_info_df']['end'], unit='s')\n",
    "\n",
    "    \n",
    "    # Set the flag to indicate that the cell has been run\n",
    "    cell_has_run = True"
   ]
  },
  {
   "cell_type": "code",
   "execution_count": 27,
   "metadata": {},
   "outputs": [
    {
     "name": "stdout",
     "output_type": "stream",
     "text": [
      "    game player_id    tag all_tags prefixes           social country state  \\\n",
      "0  melee     Rishi  Rishi  [Rishi]       []  {'twitter': []}                 \n",
      "\n",
      "  region c_country c_state c_region  \\\n",
      "0             None    None     None   \n",
      "\n",
      "                                            placings characters alias  \n",
      "0  [{'key': 'mdva-invitational-2017-(challonge-mi...             None  \n",
      "    game ranking_name  priority region                         seasons  \\\n",
      "0  melee     SSBMRank         0  world  [2015, 2016, 2017, 2018, 2019]   \n",
      "\n",
      "  tournaments  icon  \n",
      "0          []  miom  \n",
      "    game ranking_name  season       start         end  total  \\\n",
      "0  melee     SSBMRank    2015  1420070400  1451606399    100   \n",
      "\n",
      "                                               by_id  \\\n",
      "0  {'6189': 1, '1004': 2, '4465': 3, '1000': 4, '...   \n",
      "\n",
      "                                          by_placing  final  name  \n",
      "0  {'1': '6189', '2': '1004', '3': '4465', '4': '...      0  None  \n",
      "         key   game                             tournament_key winner_id  \\\n",
      "0  104675843  melee  mdva-invitational-2017-(challonge-mirror)      5620   \n",
      "\n",
      "  p1_id    p2_id  p1_score  p2_score          location_names bracket_name  \\\n",
      "0  5620  Chillin         3         1  [R1, Round 1, Round 1]                \n",
      "\n",
      "  bracket_order set_order  best_of game_data  \n",
      "0             1         A      5.0        []  \n",
      "    game                                        key  \\\n",
      "0  melee  mdva-invitational-2017-(challonge-mirror)   \n",
      "\n",
      "                                cleaned_name     source  \\\n",
      "0  MDVA Invitational 2017 (Challonge Mirror)  challonge   \n",
      "\n",
      "                                tournament_name tournament_event season rank  \\\n",
      "0  https://challonge.com/mdva_invitational_2017                      17        \n",
      "\n",
      "                start                 end country state           city  \\\n",
      "0 2017-11-26 08:05:11 2017-11-26 08:48:09      US    VA  Fall's Church   \n",
      "\n",
      "   entrants                                           placings losses  \\\n",
      "0        10  [[Rishi, 1], [15634, 3], [6126, 4], [Chu, 8], ...     {}   \n",
      "\n",
      "  bracket_types  online  lat  lng  \n",
      "0         b'{}'       0  NaN  NaN  \n"
     ]
    }
   ],
   "source": [
    "players_df = dfs['players_df']\n",
    "ranking_df = dfs['ranking_df']\n",
    "ranking_seasons_df = dfs['ranking_seasons_df']\n",
    "sets_df = dfs['sets_df']\n",
    "tournament_info_df = dfs['tournament_info_df']\n",
    "\n",
    "print(players_df.head(1))\n",
    "print(ranking_df.head(1))\n",
    "print(ranking_seasons_df.head(1))\n",
    "print(sets_df.head(1))\n",
    "print(tournament_info_df.head(1))"
   ]
  },
  {
   "cell_type": "code",
   "execution_count": 25,
   "metadata": {},
   "outputs": [
    {
     "name": "stderr",
     "output_type": "stream",
     "text": [
      "100%|██████████| 600/600 [00:01<00:00, 517.42it/s]"
     ]
    },
    {
     "name": "stdout",
     "output_type": "stream",
     "text": [
      "The higher Glicko-2 rating wins 56.0% of the time\n"
     ]
    },
    {
     "name": "stderr",
     "output_type": "stream",
     "text": [
      "\n"
     ]
    }
   ],
   "source": [
    "def check_set(glicko2_df, set, tournament_info_df, correct_predictions):\n",
    "    tournament = set['tournament_key']\n",
    "    p1_id = set['p1_id']\n",
    "    p2_id = set['p2_id']\n",
    "    start_date = tournament_info_df[tournament_info_df['key']==tournament]['start']\n",
    "    \n",
    "    p1_index = np.searchsorted(glicko2_df.loc[p1_id,'dates'], start_date) - 1\n",
    "    p2_index = np.searchsorted(glicko2_df.loc[p2_id,'dates'], start_date) - 1\n",
    "    \n",
    "    p1_glikco2 = glicko2_df.loc[p1_id,'rating_history'][p1_index]\n",
    "    p2_glikco2 = glicko2_df.loc[p2_id,'rating_history'][p2_index]\n",
    "    \n",
    "    if p1_glikco2 > p2_glikco2 and set['winner_id'] == p1_id:\n",
    "        return  1\n",
    "    \n",
    "    \n",
    "    return 0\n",
    "        \n",
    "num_sets = 600\n",
    "random_set_sample = sets_df.sample(n = num_sets, random_state=42)   \n",
    "correct_predictions = 0\n",
    "\n",
    "for j in tqdm.tqdm(range(num_sets)):\n",
    "    correct_predictions += check_set(glicko2_df, random_set_sample.iloc[j], tournament_info_df, correct_predictions)\n",
    "\n",
    "print(f'The higher Glicko-2 rating wins {correct_predictions/num_sets:0.1%} of the time')"
   ]
  },
  {
   "cell_type": "markdown",
   "metadata": {},
   "source": [
    "I need to check the following optimized version from ChatGPT because it does not match the result of the one that I wrote."
   ]
  },
  {
   "cell_type": "code",
   "execution_count": 26,
   "metadata": {},
   "outputs": [
    {
     "name": "stdout",
     "output_type": "stream",
     "text": [
      "The higher Glicko-2 rating wins 77.8% of the time\n",
      "There were 1158270 correct predictions out of 1489592 sets.\n"
     ]
    }
   ],
   "source": [
    "import numpy as np\n",
    "import pandas as pd\n",
    "\n",
    "# Assuming 'sets_df', 'glicko2_df', and 'tournament_info_df' are already defined\n",
    "\n",
    "num_sets = sets_df.shape[0]\n",
    "random_set_sample = sets_df#.sample(n=num_sets, random_state=42)\n",
    "\n",
    "# Merge with 'tournament_info_df' to get 'start' date\n",
    "random_set_sample = random_set_sample.merge(\n",
    "    tournament_info_df[['key', 'start']],\n",
    "    left_on='tournament_key',\n",
    "    right_on='key',\n",
    "    how='left'\n",
    ")\n",
    "\n",
    "# Ensure date columns are datetime\n",
    "random_set_sample['start'] = pd.to_datetime(random_set_sample['start'])\n",
    "\n",
    "# Flatten 'glicko2_df'\n",
    "glicko2_long = glicko2_df[['dates', 'rating_history']].reset_index()\n",
    "glicko2_long = glicko2_long.explode(['dates', 'rating_history'])\n",
    "glicko2_long.rename(columns={'dates': 'date', 'rating_history': 'rating'}, inplace=True)\n",
    "glicko2_long['date'] = pd.to_datetime(glicko2_long['date'])\n",
    "\n",
    "# For Player 1\n",
    "p1_data = random_set_sample[['p1_id', 'start']].rename(columns={'p1_id': 'player_id'})\n",
    "p1_data['key'] = p1_data.index\n",
    "\n",
    "p1_ratings = pd.merge_asof(\n",
    "    p1_data.sort_values('start'),\n",
    "    glicko2_long.sort_values('date'),\n",
    "    by='player_id',\n",
    "    left_on='start',\n",
    "    right_on='date',\n",
    "    direction='backward'\n",
    ").set_index('key')\n",
    "\n",
    "# For Player 2\n",
    "p2_data = random_set_sample[['p2_id', 'start']].rename(columns={'p2_id': 'player_id'})\n",
    "p2_data['key'] = p2_data.index\n",
    "\n",
    "p2_ratings = pd.merge_asof(\n",
    "    p2_data.sort_values('start'),\n",
    "    glicko2_long.sort_values('date'),\n",
    "    by='player_id',\n",
    "    left_on='start',\n",
    "    right_on='date',\n",
    "    direction='backward'\n",
    ").set_index('key')\n",
    "\n",
    "# Combine ratings\n",
    "combined_ratings = pd.DataFrame({\n",
    "    'p1_rating': p1_ratings['rating'],\n",
    "    'p2_rating': p2_ratings['rating'],\n",
    "    'winner_id': random_set_sample['winner_id'],\n",
    "    'p1_id': random_set_sample['p1_id'],\n",
    "    'p2_id': random_set_sample['p2_id']\n",
    "})\n",
    "\n",
    "# Drop missing ratings\n",
    "combined_ratings.dropna(subset=['p1_rating', 'p2_rating'], inplace=True)\n",
    "\n",
    "# Update number of sets\n",
    "num_sets = combined_ratings.shape[0]\n",
    "\n",
    "# Determine if the higher-rated player won\n",
    "higher_p1_wins = (\n",
    "    (combined_ratings['p1_rating'] > combined_ratings['p2_rating']) &\n",
    "    (combined_ratings['winner_id'] == combined_ratings['p1_id'])\n",
    ")\n",
    "higher_p2_wins = (\n",
    "    (combined_ratings['p2_rating'] > combined_ratings['p1_rating']) &\n",
    "    (combined_ratings['winner_id'] == combined_ratings['p2_id'])\n",
    ")\n",
    "correct_predictions = (higher_p1_wins | higher_p2_wins).sum()\n",
    "\n",
    "print(f'The higher Glicko-2 rating wins {correct_predictions / num_sets:0.1%} of the time')\n",
    "print(f'There were {correct_predictions} correct predictions out of {num_sets} sets.')\n"
   ]
  },
  {
   "cell_type": "code",
   "execution_count": null,
   "metadata": {},
   "outputs": [],
   "source": []
  }
 ],
 "metadata": {
  "kernelspec": {
   "display_name": "erdos_fall_2024",
   "language": "python",
   "name": "python3"
  },
  "language_info": {
   "codemirror_mode": {
    "name": "ipython",
    "version": 3
   },
   "file_extension": ".py",
   "mimetype": "text/x-python",
   "name": "python",
   "nbconvert_exporter": "python",
   "pygments_lexer": "ipython3",
   "version": "3.12.6"
  }
 },
 "nbformat": 4,
 "nbformat_minor": 2
}
