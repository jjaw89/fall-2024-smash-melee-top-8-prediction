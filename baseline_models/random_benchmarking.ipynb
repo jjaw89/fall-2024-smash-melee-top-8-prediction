{
 "cells": [
  {
   "cell_type": "code",
   "execution_count": null,
   "metadata": {},
   "outputs": [],
   "source": [
    "import pandas as pd\n",
    "import numpy as np\n",
    "import matplotlib.pyplot as plt\n",
    "import json\n",
    "from collections import defaultdict\n",
    "from joblib import Parallel, delayed\n",
    "\n",
    "import sqlite3\n",
    "import sys\n",
    "import time\n",
    "import math\n",
    "#import tqdm\n",
    "from tqdm.auto import tqdm\n",
    "import datetime\n",
    "import os\n",
    "import pickle\n",
    "from pathlib import Path\n",
    "\n",
    "from glicko2 import Player\n",
    "import multiprocessing\n",
    "\n",
    "tqdm.pandas()\n",
    "\n",
    "if os.path.exists('/workspace/data'):\n",
    "    # Load the dictionary of DataFrames from the pickle\n",
    "    data_path = '/workspace/data/'\n",
    "else:\n",
    "    data_path = '../data/'"
   ]
  },
  {
   "cell_type": "markdown",
   "metadata": {},
   "source": [
    "## Loading SQLite Database into Pandas DataFrames\n",
    "\n",
    "The following code connects to an SQLite database (`melee_player_database.db`) and converts each table within the database into a pandas DataFrame. The DataFrames will be stored in a dictionary, where each key corresponds to the table name with `_df` appended, and the values are the respective DataFrames.\n",
    "\n",
    "### Steps:\n",
    "\n",
    "1. **Database Connection**: We use the `sqlite3` library to connect to the SQLite database file.\n",
    "2. **Retrieve Table Names**: A query retrieves all the table names in the database.\n",
    "3. **Convert Tables to DataFrames**: For each table:\n",
    "   - The table is loaded into a pandas DataFrame using `pd.read_sql()`.\n",
    "   - We check each column to see if any data is JSON-formatted (lists or dictionaries). If so, we convert these columns from strings into their corresponding Python objects using `json.loads()`.\n",
    "4. **Store DataFrames**: The DataFrames are stored in a dictionary, where the key is the table name with a `_df` suffix, and the value is the DataFrame.\n",
    "5. **Database Connection Closed**: Once all tables are loaded into DataFrames, the database connection is closed.\n",
    "\n",
    "### Example:\n",
    "If the database contains a table named `players`, the corresponding DataFrame will be stored in the dictionary with the key `players_df`, and can be accessed as:\n",
    "\n",
    "```python\n",
    "players_df = dfs['players_df']\n"
   ]
  },
  {
   "cell_type": "code",
   "execution_count": null,
   "metadata": {},
   "outputs": [],
   "source": [
    "# Function to get the table names\n",
    "def get_table_names(conn):\n",
    "    query = \"SELECT name FROM sqlite_master WHERE type='table';\"\n",
    "    return pd.read_sql(query, conn)['name'].tolist()\n",
    "\n",
    "# Function to load tables into DataFrames\n",
    "def load_tables_to_dfs(conn):\n",
    "    table_names = get_table_names(conn)\n",
    "    dataframes = {}\n",
    "    \n",
    "    for table in table_names:\n",
    "        # Load table into a DataFrame\n",
    "        df = pd.read_sql(f\"SELECT * FROM {table}\", conn)\n",
    "        \n",
    "        # Detect and convert JSON formatted columns (if any)\n",
    "        for col in df.columns:\n",
    "            # Check if any entry in the column is a valid JSON (list or dictionary)\n",
    "            if df[col].apply(lambda x: isinstance(x, str)).all():\n",
    "                try:\n",
    "                    # Try parsing the column as JSON\n",
    "                    df[col] = df[col].apply(lambda x: json.loads(x) if pd.notnull(x) else x)\n",
    "                except (json.JSONDecodeError, TypeError):\n",
    "                    # If it fails, skip the column\n",
    "                    pass\n",
    "        \n",
    "        # Store the DataFrame with table name + '_df'\n",
    "        dataframes[f\"{table}_df\"] = df\n",
    "        \n",
    "    return dataframes\n",
    "\n",
    "if os.path.exists(data_path + 'dfs_dict.pkl'):\n",
    "    cell_has_run = True\n",
    "    # Load the dictionary of DataFrames from the pickle\n",
    "    with open(data_path + 'dfs_dict.pkl', 'rb') as f:\n",
    "        dfs = pickle.load(f)\n",
    "# Check if the flag variable exists in the global scope so that this code does not run twice\n",
    "if 'cell_has_run' not in globals():\n",
    "    path = data_path + \"melee_player_database.db\"\n",
    "    \n",
    "    # Connect to the database\n",
    "    conn = sqlite3.connect(path)\n",
    "\n",
    "    # Convert each table into a DataFrame\n",
    "    dfs = load_tables_to_dfs(conn)\n",
    "\n",
    "    # Close the connection\n",
    "    conn.close()\n",
    "\n",
    "    # Now, you have a dictionary 'dfs' where each key is the table name with '_df' suffix and value is the corresponding DataFrame.\n",
    "    # For example, to access the DataFrame for a table called 'players':\n",
    "    # players_df = dfs['players_df']\n",
    "\n",
    "    dfs['tournament_info_df']['start'] = pd.to_datetime(dfs['tournament_info_df']['start'], unit='s')\n",
    "    dfs['tournament_info_df']['end'] = pd.to_datetime(dfs['tournament_info_df']['end'], unit='s')\n",
    "\n",
    "    \n",
    "    # Set the flag to indicate that the cell has been run\n",
    "    cell_has_run = True"
   ]
  },
  {
   "cell_type": "markdown",
   "metadata": {},
   "source": [
    "### Here we adjust the data types of the dataframes so that they are the correct type. (This will be updated as needed.)"
   ]
  },
  {
   "cell_type": "code",
   "execution_count": null,
   "metadata": {},
   "outputs": [],
   "source": [
    "dfs['sets_df']['best_of'] = dfs['sets_df']['best_of'].fillna(0).astype(int) "
   ]
  },
  {
   "cell_type": "markdown",
   "metadata": {},
   "source": [
    "### Here we make dataframes that we will use and print the head.\n",
    "\n",
    "The integers in 'characters' count the number of games the player has played that character. (We verify this for Zain below.)"
   ]
  },
  {
   "cell_type": "code",
   "execution_count": null,
   "metadata": {},
   "outputs": [],
   "source": [
    "players_df = dfs['players_df']\n",
    "players_df.head()"
   ]
  },
  {
   "cell_type": "code",
   "execution_count": null,
   "metadata": {},
   "outputs": [],
   "source": [
    "ranking_df = dfs['ranking_df']\n",
    "ranking_df.head()"
   ]
  },
  {
   "cell_type": "code",
   "execution_count": null,
   "metadata": {},
   "outputs": [],
   "source": [
    "ranking_seasons_df = dfs['ranking_seasons_df']\n",
    "ranking_seasons_df.head()"
   ]
  },
  {
   "cell_type": "code",
   "execution_count": null,
   "metadata": {},
   "outputs": [],
   "source": [
    "sets_df = dfs['sets_df']\n",
    "print(f\"{sets_df[sets_df['game_data'].apply(lambda x: len(x) > 0)].shape[0] / sets_df.shape[0]:0.01%} percent of sets have some game data)\")\n",
    "\n",
    "sets_df.head()"
   ]
  },
  {
   "cell_type": "code",
   "execution_count": null,
   "metadata": {},
   "outputs": [],
   "source": [
    "tournament_info_df = dfs['tournament_info_df']\n",
    "tournament_info_df.head()"
   ]
  },
  {
   "cell_type": "code",
   "execution_count": null,
   "metadata": {},
   "outputs": [],
   "source": [
    "# Code optimization by Dan\n",
    "# Basically we want to replace this line in process_tournament with something more efficient:\n",
    "#\n",
    "#      tournament_sets_df = sets_df[sets_df['tournament_key'] == tournament_key]\n",
    "#\n",
    "# Instead, we can\n",
    "# - Merge the tournament date info into ``sets_df``\n",
    "# - Sort by date\n",
    "# - Store the start/end positions of each tournament in a separate dictionary\n",
    "# - Use tournament_sets_df = sets_df.iloc[start:end+1] instead.\n",
    "\n",
    "sets_df = sets_df.merge(tournament_info_df[['key', 'start', 'end']], left_on='tournament_key', right_on='key', how='left')\n",
    "sets_df = sets_df.drop(labels=['key_y'], axis='columns')\n",
    "sets_df = sets_df.rename(columns={\"key_x\": \"key\"})\n",
    "sets_df = sets_df.sort_values(by=['end', 'tournament_key']) # Just in case there are tournaments with the exact same end date"
   ]
  },
  {
   "cell_type": "code",
   "execution_count": null,
   "metadata": {},
   "outputs": [],
   "source": [
    "# A bit of data cleanup\n",
    "# TODO: Rerun!\n",
    "min_date = datetime.datetime(2015, 1, 1)\n",
    "max_date = datetime.datetime(2024, 12, 31)\n",
    "\n",
    "sets_df = sets_df[(sets_df['start'] >= min_date) & (sets_df['end'] >= min_date) & (sets_df['start'] <= max_date) & (sets_df['end'] <= max_date)]\n",
    "sets_df[sets_df['end'] <= datetime.datetime(2017,1,1)]"
   ]
  },
  {
   "cell_type": "code",
   "execution_count": null,
   "metadata": {},
   "outputs": [],
   "source": [
    "# For now we ignore the L{n} location name.\n",
    "top_8_locations = [                                   \n",
    "        ['WSF', 'Winners Semis', 'Winners Semi-Final'],\n",
    "        ['LQF', 'Losers Quarters', 'Losers Quarter-Final'],\n",
    "        ['WF', 'Winners Final', 'Winners Final'],\n",
    "        ['LSF', 'Losers Semis', 'Losers Semi-Final'],\n",
    "        ['LF', 'Losers Final', 'Losers Final'],\n",
    "        ['GF', 'Grand Final', 'Grand Final'],\n",
    "        ['GFR', 'GF Reset', 'Grand Final Reset']\n",
    "    ] \n",
    "\n",
    "top_8 = sets_df['location_names'].isin(top_8_locations)"
   ]
  },
  {
   "cell_type": "code",
   "execution_count": null,
   "metadata": {},
   "outputs": [],
   "source": [
    "dataset_mini_df = pd.read_pickle(data_path + 'dataset_mini.pkl')\n",
    "\n",
    "# Temporary bugfix, might have added stuff twice at some point\n",
    "# dataset_mini_df = dataset_mini_df.loc[:,~dataset_mini_df.columns.duplicated()].copy()\n",
    "\n",
    "#minier_cols = [x for x in dataset_mini_df.columns if \"m2\" not in x and \"_alt_\" not in x]\n",
    "minier_cols = [x for x in dataset_mini_df.columns if \"m2\" not in x and \"_alt_\" not in x]\n",
    "#minier_cols = [x for x in dataset_mini_df.columns if \"m2\" not in x]\n",
    "dataset_minier_df = dataset_mini_df[minier_cols]\n",
    "\n",
    "dataset_df = dataset_minier_df\n",
    "\n",
    "# Optionally restrict to top 8, higher quality data presumably\n",
    "# Note that we are assuming that dataset_df and sets_df share the same actual sets, row by row, just with different computed info!\n",
    "dataset_df = dataset_df[top_8]\n",
    "\n",
    "# Throw away old data, probably\n",
    "dataset_df = dataset_df.iloc[40000:]\n",
    "\n",
    "# Sets with real data\n",
    "dataset_df = dataset_df[(dataset_df['p1_elo'] != 1500.0) &\n",
    "                        (dataset_df['p2_elo'] != 1500.0) &\n",
    "                        (dataset_df['p1/m1/m1_elo'] != 1500.0) &\n",
    "                        (dataset_df['p2/m1/m1_elo'] != 1500.0) &\n",
    "                        (dataset_df['p1/m1_elo'] != 1500.0) &\n",
    "                        (dataset_df['p2/m1_elo'] != 1500.0)]\n",
    "dataset_df"
   ]
  },
  {
   "cell_type": "code",
   "execution_count": null,
   "metadata": {},
   "outputs": [],
   "source": [
    "from sklearn.model_selection import train_test_split\n",
    "\n",
    "X = dataset_df[dataset_df.columns[:-1]]\n",
    "y = dataset_df[dataset_df.columns[-1]]\n",
    "\n",
    "X_train, X_test, y_train, y_test = train_test_split(X, y, shuffle=False)"
   ]
  },
  {
   "cell_type": "code",
   "execution_count": null,
   "metadata": {},
   "outputs": [],
   "source": [
    "import matplotlib.pyplot as plt\n",
    "\n",
    "X_train_win = X_train[y_train == 1.0]\n",
    "X_train_loss = X_train[y_train == 0.0]\n",
    "\n",
    "# 'p1_m1_usage', 'p2_m1_usage', 'p1/m1/m1_elo', 'p1/m1/m1_updates', 'p2/m1/m1_elo', 'p2/m1/m1_updates'\n",
    "\n",
    "\n",
    "plt.scatter(X_train_win['p1_elo'], X_train_win['p2_elo'], s=0.3)\n",
    "plt.scatter(X_train_loss['p1_elo'], X_train_loss['p2_elo'], s=0.3)\n",
    "plt.xlabel('p1_elo')\n",
    "plt.ylabel('p2_elo')"
   ]
  },
  {
   "cell_type": "code",
   "execution_count": null,
   "metadata": {},
   "outputs": [],
   "source": [
    "features_rd = ['p1_rd', 'p2_rd', 'p1/m1/m1_rd', 'p2/m1/m1_rd', 'p1/m1_rd', 'p2/m1_rd']\n",
    "X_train[features_rd].iloc[0].values ** 2"
   ]
  },
  {
   "cell_type": "code",
   "execution_count": null,
   "metadata": {},
   "outputs": [],
   "source": [
    "import importlib\n",
    "import errorlda\n",
    "from sklearn.metrics import accuracy_score, log_loss\n",
    "import random\n",
    "\n",
    "importlib.reload(errorlda)\n",
    "\n",
    "features_elo = ['p1_elo', 'p2_elo', 'p1/m1/m1_elo', 'p2/m1/m1_elo', 'p1/m1_elo', 'p2/m1_elo']\n",
    "features_rd = ['p1_rd', 'p2_rd', 'p1/m1/m1_rd', 'p2/m1/m1_rd', 'p1/m1_rd', 'p2/m1_rd']\n",
    "scaling = np.array([1.0, 1.0, 1.0, 1.0, 1.0, 1.0])\n",
    "\n",
    "X_elo_train = X_train[features_elo]\n",
    "X_elo_train_errors = X_train[features_rd].apply(lambda row: np.diag(np.multiply(row.values ** 2, scaling)), axis=1)\n",
    "\n",
    "X_elo_test = X_test[features_elo]\n",
    "X_elo_test_errors = X_test[features_rd].apply(lambda row: np.diag(np.multiply(row.values ** 2, scaling)), axis=1)\n",
    "\n",
    "train_indices = random.sample(list(X_elo_train.index), 10000)\n",
    "\n",
    "model = errorlda.ErrorLDA()\n",
    "model.fit(X_elo_train.loc[train_indices], y_train.loc[train_indices],\n",
    "          X_train_errors=X_elo_train_errors.loc[train_indices], error_scaling=True)\n",
    "\n",
    "#model.predict_proba_one([1900.0, 1500.0], x_error=np.diag([300.0, 300.0])**2)\n",
    "y_prob = model.predict_proba(X_elo_test, X_error=X_elo_test_errors)\n",
    "y_pred = (y_prob[1.0] >= 0.5).astype(float)\n",
    "\n",
    "print(log_loss(y_test, y_prob))\n",
    "print(accuracy_score(y_test, y_pred))\n",
    "print()"
   ]
  },
  {
   "cell_type": "code",
   "execution_count": null,
   "metadata": {},
   "outputs": [],
   "source": [
    "# To be used for testing a faulty model\n",
    "y_prob = model.predict_proba(X_elo_test, X_error=X_elo_test_errors)\n",
    "y_pred = (y_prob[1.0] >= 0.5).astype(float)\n",
    "\n",
    "print(log_loss(y_test, y_prob))\n",
    "print(accuracy_score(y_test, y_pred))\n",
    "print()"
   ]
  },
  {
   "cell_type": "code",
   "execution_count": null,
   "metadata": {},
   "outputs": [],
   "source": [
    "model.variance += np.identity(len(features_rd))\n",
    "model.debug_func()"
   ]
  },
  {
   "cell_type": "code",
   "execution_count": null,
   "metadata": {},
   "outputs": [],
   "source": [
    "# MIN LOG LOSS / MAX ACCURACY\n",
    "# global elo: ??? / 0.45\n",
    "# alt2:       0.65 / 0.9\n",
    "# alt3:       0.5 / 0.9\n",
    "#\n",
    "# global and alt2 have slightly decreasing accuracy just before reaching min log loss\n",
    "\n",
    "import importlib\n",
    "import errorlda\n",
    "from sklearn.metrics import accuracy_score, log_loss\n",
    "import random\n",
    "\n",
    "importlib.reload(errorlda)\n",
    "\n",
    "#features_elo = ['p1_elo', 'p2_elo', 'p1/m1/m1_elo', 'p2/m1/m1_elo', 'p1/m1_elo', 'p2/m1_elo']\n",
    "#features_rd = ['p1_rd', 'p2_rd', 'p1/m1/m1_rd', 'p2/m1/m1_rd', 'p1/m1_rd', 'p2/m1_rd']\n",
    "\n",
    "features_elo = ['p1_elo', 'p2_elo']\n",
    "features_rd = ['p1_rd', 'p2_rd']\n",
    "\n",
    "num_test_vals = 10\n",
    "samples_per_train = 20000\n",
    "outcomes = np.zeros(shape=(num_test_vals, 2)) # log loss, accuracy\n",
    "test_vals = np.linspace(0.1, 1.0, num_test_vals)\n",
    "\n",
    "for i, scale_variance in enumerate(tqdm(test_vals)):\n",
    "\n",
    "    X_elo_train = X_train[features_elo]\n",
    "    X_elo_train_errors = X_train[features_rd].apply(lambda row: np.diag(row.values ** 2) * scale_variance, axis=1)\n",
    "\n",
    "    X_elo_test = X_test[features_elo]\n",
    "    X_elo_test_errors = X_test[features_rd].apply(lambda row: np.diag(row.values ** 2) * scale_variance, axis=1)\n",
    "\n",
    "    train_indices = random.sample(list(X_elo_train.index), samples_per_train)\n",
    "\n",
    "    model = errorlda.ErrorLDA()\n",
    "    model.fit(X_elo_train.loc[train_indices], y_train.loc[train_indices], X_train_errors=X_elo_train_errors.loc[train_indices])\n",
    "\n",
    "    y_prob = model.predict_proba(X_elo_test, X_error=X_elo_test_errors)\n",
    "    y_pred = (y_prob[1.0] >= 0.5).astype(float)\n",
    "\n",
    "    outcomes[i, 0] = log_loss(y_test, y_prob)\n",
    "    outcomes[i, 1] = accuracy_score(y_test, y_pred)\n",
    "\n",
    "# Actually see exactly where optimal values occur\n",
    "acc_max_x = np.argmax(outcomes[:,1])\n",
    "loss_min_x = np.argmin(outcomes[:,0])\n",
    "\n",
    "plt.subplot(1,2,1)\n",
    "plt.plot(test_vals, outcomes[:,1], label='Accuracy')\n",
    "plt.scatter(test_vals[acc_max_x], outcomes[acc_max_x,1])\n",
    "plt.xlabel('Scaling factor')\n",
    "plt.legend()\n",
    "\n",
    "plt.subplot(1,2,2)\n",
    "plt.plot(test_vals, outcomes[:,0], label='Log loss')\n",
    "plt.scatter(test_vals[loss_min_x], outcomes[loss_min_x,0])\n",
    "plt.xlabel('Scaling factor')\n",
    "plt.legend()"
   ]
  },
  {
   "cell_type": "code",
   "execution_count": null,
   "metadata": {},
   "outputs": [],
   "source": [
    "import errorlda\n",
    "importlib.reload(errorlda)\n",
    "\n",
    "model = errorlda.ErrorLDA()\n",
    "\n",
    "print(len(X_train.index))\n",
    "\n",
    "model.fit(X_train[['p1_elo', 'p2_elo']].iloc[10000:20000], y_train.iloc[10000:20000],\n",
    "          X_train_errors=X_train[['p1_rd', 'p2_rd']].iloc[10000:20000].apply(lambda row: np.diag(row.values ** 2), axis=1))"
   ]
  },
  {
   "cell_type": "code",
   "execution_count": null,
   "metadata": {},
   "outputs": [],
   "source": [
    "matrices = np.array([[[1,2],[3,4]],[[5,6],[7,8]],[[5,6],[7,8]]])\n",
    "vectors = np.array([[10,15],[20,25],[30,35]])\n",
    "\n",
    "np.einsum('ij,ijk,ik->i', vectors, matrices, vectors).sum()"
   ]
  },
  {
   "cell_type": "code",
   "execution_count": null,
   "metadata": {},
   "outputs": [],
   "source": [
    "# JUST the global elos\n",
    "from sklearn.linear_model import LogisticRegression\n",
    "from sklearn.metrics import accuracy_score, log_loss\n",
    "\n",
    "model = LogisticRegression(penalty=None)\n",
    "model.fit(X_train[['p1_elo', 'p2_elo']], y_train)\n",
    "\n",
    "print(log_loss(y_test, model.predict_proba(X_test[['p1_elo', 'p2_elo']])))\n",
    "print(accuracy_score(y_test, model.predict(X_test[['p1_elo', 'p2_elo']])))"
   ]
  },
  {
   "cell_type": "code",
   "execution_count": null,
   "metadata": {},
   "outputs": [],
   "source": [
    "# JUST the global elos\n",
    "from sklearn.linear_model import LogisticRegression\n",
    "from sklearn.metrics import accuracy_score, log_loss\n",
    "import random\n",
    "\n",
    "all_elos = ['p1_elo', 'p2_elo', 'p1/m1_elo', 'p2/m1_elo', 'p1/m1/m1_elo', 'p2/m1/m1_elo']\n",
    "train_indices = random.sample(list(X_train.index), 10000)\n",
    "\n",
    "model = LogisticRegression(penalty=None, max_iter=10000)\n",
    "#model.fit(X_train.loc[train_indices][all_elos], y_train.loc[train_indices])\n",
    "model.fit(X_train[all_elos], y_train)\n",
    "\n",
    "print(log_loss(y_test, model.predict_proba(X_test[all_elos])))\n",
    "print(accuracy_score(y_test, model.predict(X_test[all_elos])))"
   ]
  },
  {
   "cell_type": "code",
   "execution_count": null,
   "metadata": {},
   "outputs": [],
   "source": [
    "# JUST the global elos\n",
    "from sklearn.discriminant_analysis import LinearDiscriminantAnalysis\n",
    "from sklearn.metrics import accuracy_score, log_loss\n",
    "\n",
    "model = LinearDiscriminantAnalysis()\n",
    "model.fit(X_train[['p1_elo', 'p2_elo', 'p1/m1_elo', 'p2/m1_elo', 'p1/m1/m1_elo', 'p2/m1/m1_elo']], y_train)\n",
    "\n",
    "print(log_loss(y_test, model.predict_proba(X_test[['p1_elo', 'p2_elo', 'p1/m1_elo', 'p2/m1_elo', 'p1/m1/m1_elo', 'p2/m1/m1_elo']])))\n",
    "print(accuracy_score(y_test, model.predict(X_test[['p1_elo', 'p2_elo', 'p1/m1_elo', 'p2/m1_elo', 'p1/m1/m1_elo', 'p2/m1/m1_elo']])))"
   ]
  },
  {
   "cell_type": "code",
   "execution_count": null,
   "metadata": {},
   "outputs": [],
   "source": []
  }
 ],
 "metadata": {
  "kernelspec": {
   "display_name": "erdos_fall_2024",
   "language": "python",
   "name": "python3"
  },
  "language_info": {
   "codemirror_mode": {
    "name": "ipython",
    "version": 3
   },
   "file_extension": ".py",
   "mimetype": "text/x-python",
   "name": "python",
   "nbconvert_exporter": "python",
   "pygments_lexer": "ipython3",
   "version": "3.12.7"
  }
 },
 "nbformat": 4,
 "nbformat_minor": 2
}
