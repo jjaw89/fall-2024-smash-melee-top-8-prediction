{
 "cells": [
  {
   "cell_type": "markdown",
   "metadata": {},
   "source": [
    "## Split by tournament\n",
    "\n",
    "The following cell computes the elo with rating periods split by tournament. It will be MASSIVE, about 20,000 tournaments x 100,000 players and probably needs a few dozen GB of memory.\n",
    "\n",
    "TODO: Print this line by line to a database instead to avoid absurd memory usage."
   ]
  },
  {
   "cell_type": "code",
   "execution_count": null,
   "metadata": {
    "vscode": {
     "languageId": "plaintext"
    }
   },
   "outputs": [],
   "source": [
    "# Get the start/end positions of each tournament in the sorted dataframe\n",
    "# Stored as (start,end)\n",
    "tournament_sets_positions = {}\n",
    "\n",
    "# This is gonna take a while. Might as well show a progress bar\n",
    "for i in tqdm.tqdm(range(0, len(sets_df.index)), total=len(sets_df.index)):\n",
    "    key = sets_df.iloc[i]['tournament_key']\n",
    "    if key not in tournament_sets_positions:\n",
    "        tournament_sets_positions[key] = (i,i)\n",
    "    else:\n",
    "        tournament_sets_positions[key] = (tournament_sets_positions[key][0], i)"
   ]
  },
  {
   "cell_type": "code",
   "execution_count": null,
   "metadata": {
    "vscode": {
     "languageId": "plaintext"
    }
   },
   "outputs": [],
   "source": [
    "# Let's get the dates of each period (tournament) and, importantly, know how many there are\n",
    "# This will be useful for pre-allocating the entire pandas dataframe rather than constantly building it row by row\n",
    "# NOTE: Some tournaments might have the same end date. That's ok.\n",
    "#       The algorithm will simply update those entries multiple times with newer and newer glicko values.\n",
    "tournament_list = [x for x in tournament_sets_positions]\n",
    "dates = list(set([sets_df.iloc[tournament_sets_positions[tournament][0]]['end'] for tournament in tournament_list])) # VERY much need these to be unique\n",
    "dates.sort() # Just to be absolutely 100% sure, but it probably stays sorted with the above operation anyways\n",
    "\n",
    "unique_players = list(set(list(sets_df['p1_id'].unique()) + list(sets_df['p2_id'].unique())))\n",
    "\n",
    "# Convenient store of glicko objects\n",
    "glicko_objects = {}\n",
    "for player in unique_players:\n",
    "    glicko_objects[player] = Player()\n",
    "\n",
    "print(len(unique_players))\n",
    "print(len(dates))\n",
    "\n",
    "print(\"This takes LOADS of memory.\")\n",
    "raise KeyboardInterrupt\n",
    "\n",
    "# Initial row of default ELO values, at the earliest possible date.\n",
    "# Note that we are also pre-allocating the dataframe with the rest of the possible dates.\n",
    "player_ratings_df = pd.DataFrame([[1500.0] * len(unique_players)], columns=unique_players, index=[datetime.datetime(2015, 1, 11, 14, 16, 0)] + dates)\n",
    "player_rds_df = pd.DataFrame([[350.0] * len(unique_players)], columns=unique_players, index=[datetime.datetime(2015, 1, 11, 14, 16, 0)] + dates)\n",
    "\n",
    "# Loop over tournaments\n",
    "# NOTE: Now we have to only consider tournaments that actually have sets\n",
    "for tournament_key in tqdm.tqdm(tournament_list, total=len(tournament_list)):\n",
    "    process_tournament(player_ratings_df, player_rds_df, sets_df, tournament_sets_positions, tournament_key, False, glicko_objects)"
   ]
  }
 ],
 "metadata": {
  "language_info": {
   "name": "python"
  }
 },
 "nbformat": 4,
 "nbformat_minor": 2
}
